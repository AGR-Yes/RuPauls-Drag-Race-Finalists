{
 "cells": [
  {
   "cell_type": "markdown",
   "metadata": {
    "colab_type": "text",
    "id": "view-in-github"
   },
   "source": [
    "<a href=\"https://colab.research.google.com/github/AGR-Yes/RuPauls-Drag-Race-Winner-Prediction/blob/main/RPDR_Winner_Prediction.ipynb\" target=\"_parent\"><img src=\"https://colab.research.google.com/assets/colab-badge.svg\" alt=\"Open In Colab\"/></a>"
   ]
  },
  {
   "cell_type": "markdown",
   "metadata": {
    "id": "AZzyIv8tAIIH"
   },
   "source": [
    "# RuPaul's Drag Race Winner Prediciton\n",
    "\n",
    "**Author:** Anton Reyes"
   ]
  },
  {
   "cell_type": "markdown",
   "metadata": {
    "id": "ppFAnb9My2ZV"
   },
   "source": [
    "## **Introduction**"
   ]
  },
  {
   "cell_type": "markdown",
   "metadata": {
    "id": "ohCExKZ4y2jN"
   },
   "source": [
    "### **Requirements and Imports**"
   ]
  },
  {
   "cell_type": "markdown",
   "metadata": {
    "id": "xHXvwKOdy2qv"
   },
   "source": [
    "#### **Imports**"
   ]
  },
  {
   "cell_type": "markdown",
   "metadata": {
    "id": "McPgWjwsglQw"
   },
   "source": [
    "**Basic Libraries**\n",
    "\n",
    "* `numpy` contains a large collection of mathematical functions\n",
    "* `pandas` contains functions that are designed for data manipulation and data analysis\n",
    "\n"
   ]
  },
  {
   "cell_type": "code",
   "execution_count": 5,
   "metadata": {
    "id": "82rNPPaTpyfe"
   },
   "outputs": [],
   "source": [
    "import numpy as np\n",
    "import pandas as pd"
   ]
  },
  {
   "cell_type": "markdown",
   "metadata": {
    "id": "HjRvGoC9g_25"
   },
   "source": [
    "**Visualization Libraries**\n",
    "\n",
    "* `matplotlib.pyplot` contains functions to create interactive plots\n",
    "* `seaborn` is a library based on matplotlib that allows for data visualization\n",
    "* `plotly` is,,,,"
   ]
  },
  {
   "cell_type": "code",
   "execution_count": 6,
   "metadata": {
    "id": "5YGgFzaZp1MO"
   },
   "outputs": [],
   "source": [
    "import matplotlib.pyplot as plt\n",
    "#import seaborn as sns\n",
    "import plotly.express as px\n",
    "#from jupyter_dash import JupyterDash\n",
    "\n",
    "import dash\n",
    "import dash_bootstrap_components as dbc\n",
    "import dash_core_components as dcc\n",
    "import dash_html_components as html\n"
   ]
  },
  {
   "cell_type": "markdown",
   "metadata": {
    "id": "mUGR_tXwiDhV"
   },
   "source": [
    "**Natural Language Processing Libraries**\n",
    "* `re` is a module that allows the use of regular expressions\n",
    "* `nltk` provides functions for processing text data\n",
    "* `Counter` is from Python's collections module, which is helpful for tokenization\n",
    "* `string` contains functions for string operations"
   ]
  },
  {
   "cell_type": "code",
   "execution_count": 7,
   "metadata": {
    "id": "Ka0AZNlQp_xU"
   },
   "outputs": [],
   "source": [
    "import re\n",
    "#import nltk\n",
    "#from nltk.stem import WordNetLemmatizer\n",
    "#from nltk.corpus import stopwords\n",
    "#from nltk.tokenize import RegexpTokenizer\n",
    "#from nltk.probability import FreqDist\n",
    "#from nltk.stem import WordNetLemmatizer\n",
    "#from collections import Counter\n",
    "import string\n"
   ]
  },
  {
   "cell_type": "markdown",
   "metadata": {
    "id": "riB5SpFCpWPj"
   },
   "source": [
    "**Google Drive**\n",
    "* `google.colab` a library that allows the colab notebook to mount the google drive"
   ]
  },
  {
   "cell_type": "code",
   "execution_count": 8,
   "metadata": {
    "colab": {
     "base_uri": "https://localhost:8080/"
    },
    "id": "ISceA7sdpasq",
    "outputId": "b0e19bb9-863c-4f38-bf7f-972a86b0719b"
   },
   "outputs": [],
   "source": [
    "#from google.colab import drive\n",
    "#drive.mount('/content/drive')"
   ]
  },
  {
   "cell_type": "markdown",
   "metadata": {
    "id": "wS-PzIoIzHd9"
   },
   "source": [
    "#### **Datasets and Files**"
   ]
  },
  {
   "cell_type": "markdown",
   "metadata": {
    "id": "0r6nOJHZ9uPh"
   },
   "source": [
    "The following ``csv` file was used for this project:\n",
    "\n",
    "- `RPDR Database_winner.csv` contains all the winners of the Drag Race franchise as well as the placements of each winner in certain maxi (major) challenges. This dataset also contains the final four of some Drag Race franchises as of March 31, 2023."
   ]
  },
  {
   "cell_type": "markdown",
   "metadata": {
    "id": "bOmp84vdy2xi"
   },
   "source": [
    "## **Data Collection**"
   ]
  },
  {
   "cell_type": "markdown",
   "metadata": {
    "id": "v2y2p0DU-f0l"
   },
   "source": [
    "Importing the dataset"
   ]
  },
  {
   "cell_type": "code",
   "execution_count": 9,
   "metadata": {
    "colab": {
     "base_uri": "https://localhost:8080/",
     "height": 357
    },
    "id": "j4WSmzN3-LLl",
    "outputId": "08b81354-d39b-49d0-989a-9a1f10a53f44"
   },
   "outputs": [
    {
     "data": {
      "text/html": [
       "<div>\n",
       "<style scoped>\n",
       "    .dataframe tbody tr th:only-of-type {\n",
       "        vertical-align: middle;\n",
       "    }\n",
       "\n",
       "    .dataframe tbody tr th {\n",
       "        vertical-align: top;\n",
       "    }\n",
       "\n",
       "    .dataframe thead th {\n",
       "        text-align: right;\n",
       "    }\n",
       "</style>\n",
       "<table border=\"1\" class=\"dataframe\">\n",
       "  <thead>\n",
       "    <tr style=\"text-align: right;\">\n",
       "      <th></th>\n",
       "      <th>Placement</th>\n",
       "      <th>Country</th>\n",
       "      <th>Season</th>\n",
       "      <th>Queen</th>\n",
       "      <th>Design</th>\n",
       "      <th>Snatch Game</th>\n",
       "      <th>Ball</th>\n",
       "      <th>Makeover</th>\n",
       "      <th>Acting</th>\n",
       "      <th>Girl Groups</th>\n",
       "      <th>Rusical</th>\n",
       "      <th>Unnamed: 11</th>\n",
       "      <th>Unnamed: 12</th>\n",
       "    </tr>\n",
       "  </thead>\n",
       "  <tbody>\n",
       "    <tr>\n",
       "      <th>0</th>\n",
       "      <td>winner</td>\n",
       "      <td>AUS</td>\n",
       "      <td>1</td>\n",
       "      <td>Kita Mean</td>\n",
       "      <td>SAFE</td>\n",
       "      <td>HIGH</td>\n",
       "      <td>NaN</td>\n",
       "      <td>WIN</td>\n",
       "      <td>NaN</td>\n",
       "      <td>HIGH</td>\n",
       "      <td>NaN</td>\n",
       "      <td>NaN</td>\n",
       "      <td>4</td>\n",
       "    </tr>\n",
       "    <tr>\n",
       "      <th>1</th>\n",
       "      <td>winner</td>\n",
       "      <td>AUS</td>\n",
       "      <td>2</td>\n",
       "      <td>Spankie Jackzon</td>\n",
       "      <td>BTM</td>\n",
       "      <td>HIGH</td>\n",
       "      <td>NaN</td>\n",
       "      <td>HIGH</td>\n",
       "      <td>WIN</td>\n",
       "      <td>WIN</td>\n",
       "      <td>NaN</td>\n",
       "      <td>NaN</td>\n",
       "      <td>5</td>\n",
       "    </tr>\n",
       "    <tr>\n",
       "      <th>2</th>\n",
       "      <td>winner</td>\n",
       "      <td>CAN</td>\n",
       "      <td>1</td>\n",
       "      <td>Priyanka</td>\n",
       "      <td>SAFE</td>\n",
       "      <td>BTM</td>\n",
       "      <td>SAFE</td>\n",
       "      <td>WIN</td>\n",
       "      <td>HIGH</td>\n",
       "      <td>WIN</td>\n",
       "      <td>NaN</td>\n",
       "      <td>NaN</td>\n",
       "      <td>6</td>\n",
       "    </tr>\n",
       "    <tr>\n",
       "      <th>3</th>\n",
       "      <td>winner</td>\n",
       "      <td>CAN</td>\n",
       "      <td>2</td>\n",
       "      <td>Icesis Couture</td>\n",
       "      <td>WIN</td>\n",
       "      <td>SAFE</td>\n",
       "      <td>WIN</td>\n",
       "      <td>BTM</td>\n",
       "      <td>SAFE</td>\n",
       "      <td>HIGH</td>\n",
       "      <td>BTM</td>\n",
       "      <td>ALL 7</td>\n",
       "      <td>7</td>\n",
       "    </tr>\n",
       "    <tr>\n",
       "      <th>4</th>\n",
       "      <td>winner</td>\n",
       "      <td>CAN</td>\n",
       "      <td>3</td>\n",
       "      <td>Gisele Lullaby</td>\n",
       "      <td>WIN</td>\n",
       "      <td>WIN</td>\n",
       "      <td>HIGH</td>\n",
       "      <td>NaN</td>\n",
       "      <td>NaN</td>\n",
       "      <td>NaN</td>\n",
       "      <td>BTM</td>\n",
       "      <td>NaN</td>\n",
       "      <td>4</td>\n",
       "    </tr>\n",
       "  </tbody>\n",
       "</table>\n",
       "</div>"
      ],
      "text/plain": [
       "  Placement Country  Season            Queen Design Snatch Game  Ball  \\\n",
       "0    winner     AUS       1        Kita Mean   SAFE        HIGH   NaN   \n",
       "1    winner     AUS       2  Spankie Jackzon    BTM        HIGH   NaN   \n",
       "2    winner     CAN       1         Priyanka   SAFE         BTM  SAFE   \n",
       "3    winner     CAN       2   Icesis Couture    WIN        SAFE   WIN   \n",
       "4    winner     CAN       3   Gisele Lullaby    WIN         WIN  HIGH   \n",
       "\n",
       "  Makeover Acting Girl Groups Rusical Unnamed: 11  Unnamed: 12  \n",
       "0      WIN    NaN        HIGH     NaN         NaN            4  \n",
       "1     HIGH    WIN         WIN     NaN         NaN            5  \n",
       "2      WIN   HIGH         WIN     NaN         NaN            6  \n",
       "3      BTM   SAFE        HIGH     BTM       ALL 7            7  \n",
       "4      NaN    NaN         NaN     BTM         NaN            4  "
      ]
     },
     "execution_count": 9,
     "metadata": {},
     "output_type": "execute_result"
    }
   ],
   "source": [
    "url = \"https://raw.githubusercontent.com/AGR-Yes/RuPauls-Drag-Race-Winner-Prediction/main/RPDR_Winners_2023.csv?token=GHSAT0AAAAAACAXZ3YRNZFMQSK64PVJ7FQIZBKZJAQ\"\n",
    "\n",
    "df = pd.read_csv(url)\n",
    "df.head()"
   ]
  },
  {
   "cell_type": "markdown",
   "metadata": {
    "id": "1xhhYdY5zQXO"
   },
   "source": [
    "## **Description of the Dataset**"
   ]
  },
  {
   "cell_type": "markdown",
   "metadata": {
    "id": "hkE6cv_fEVJb"
   },
   "source": [
    "Here, we find the shape of the dataset."
   ]
  },
  {
   "cell_type": "code",
   "execution_count": 10,
   "metadata": {
    "colab": {
     "base_uri": "https://localhost:8080/"
    },
    "id": "xjCI2jZ--klz",
    "outputId": "1c310bc7-c2e0-4c67-d8cb-a7d4a94dd35e"
   },
   "outputs": [
    {
     "data": {
      "text/plain": [
       "(51, 13)"
      ]
     },
     "execution_count": 10,
     "metadata": {},
     "output_type": "execute_result"
    }
   ],
   "source": [
    "df.shape"
   ]
  },
  {
   "cell_type": "markdown",
   "metadata": {
    "id": "b4xXJAoPEXau"
   },
   "source": [
    "By looking at the `info` of the dataframe, we can see that there are `non-null` values. "
   ]
  },
  {
   "cell_type": "code",
   "execution_count": 11,
   "metadata": {
    "colab": {
     "base_uri": "https://localhost:8080/"
    },
    "id": "Cd5-JeX--oNp",
    "outputId": "4b766982-da04-47ab-a2b3-92e82488a2f6"
   },
   "outputs": [
    {
     "name": "stdout",
     "output_type": "stream",
     "text": [
      "<class 'pandas.core.frame.DataFrame'>\n",
      "RangeIndex: 51 entries, 0 to 50\n",
      "Data columns (total 13 columns):\n",
      " #   Column       Non-Null Count  Dtype \n",
      "---  ------       --------------  ----- \n",
      " 0   Placement    51 non-null     object\n",
      " 1   Country      51 non-null     object\n",
      " 2   Season       51 non-null     int64 \n",
      " 3   Queen        51 non-null     object\n",
      " 4   Design       36 non-null     object\n",
      " 5   Snatch Game  50 non-null     object\n",
      " 6   Ball         36 non-null     object\n",
      " 7   Makeover     41 non-null     object\n",
      " 8   Acting       40 non-null     object\n",
      " 9   Girl Groups  25 non-null     object\n",
      " 10  Rusical      28 non-null     object\n",
      " 11  Unnamed: 11  7 non-null      object\n",
      " 12  Unnamed: 12  51 non-null     int64 \n",
      "dtypes: int64(2), object(11)\n",
      "memory usage: 5.3+ KB\n"
     ]
    }
   ],
   "source": [
    "df.info()"
   ]
  },
  {
   "cell_type": "markdown",
   "metadata": {
    "id": "LPsdf1GvE8aL"
   },
   "source": [
    "By displaying the number of queens and the placements, we can confirm that there are 51 contestants and rows to be worked on. \n",
    "\n",
    "But by looking at the information above, there are columns (maxi-challenges) that show null values. This is because not all of the stated-maxi challenges are in every season and franchise of Drag Race."
   ]
  },
  {
   "cell_type": "code",
   "execution_count": 12,
   "metadata": {
    "colab": {
     "base_uri": "https://localhost:8080/",
     "height": 0
    },
    "id": "ZIZOj3T3-wMi",
    "outputId": "196d388a-bd9e-46d1-f256-fb9693db222a"
   },
   "outputs": [
    {
     "name": "stdout",
     "output_type": "stream",
     "text": [
      "Number of Queens: 51\n"
     ]
    },
    {
     "data": {
      "text/plain": [
       "winner    43\n",
       "final      8\n",
       "Name: Placement, dtype: int64"
      ]
     },
     "metadata": {},
     "output_type": "display_data"
    },
    {
     "data": {
      "text/plain": [
       "None"
      ]
     },
     "metadata": {},
     "output_type": "display_data"
    }
   ],
   "source": [
    "display(df['Placement'].value_counts(), print('Number of Queens:', df['Placement'].count()))"
   ]
  },
  {
   "cell_type": "markdown",
   "metadata": {
    "id": "leSuwgFlzRfk"
   },
   "source": [
    "## **Exploratory Data Analysis**"
   ]
  },
  {
   "cell_type": "markdown",
   "metadata": {},
   "source": [
    "The following questions are asked to guide the EDA.\n",
    "\n",
    "1. How many placements are there per challenge column?\n",
    "2. What is the most occurring placement per challenge?\n",
    "3. Which challenge has the most complete appearances? Which had the least?\n",
    "4. What is the most number of challenges per season? How many is the least?\n",
    "5. What is the average number of *notable* challenges per season?"
   ]
  },
  {
   "cell_type": "markdown",
   "metadata": {},
   "source": [
    "### **1. How many placements are there per challenge column?**"
   ]
  },
  {
   "cell_type": "markdown",
   "metadata": {},
   "source": [
    "We first get the `challenge` column names and then create a new dataframe with the counts of the 5 different placements per column"
   ]
  },
  {
   "cell_type": "code",
   "execution_count": 13,
   "metadata": {},
   "outputs": [],
   "source": [
    "placements = df[['Design', 'Snatch Game', 'Ball', 'Makeover', 'Acting', 'Girl Groups', 'Rusical']].apply(pd.Series.value_counts)"
   ]
  },
  {
   "cell_type": "markdown",
   "metadata": {},
   "source": [
    "We then make a list of rows to make a custom order in the new dataframe."
   ]
  },
  {
   "cell_type": "code",
   "execution_count": 14,
   "metadata": {},
   "outputs": [],
   "source": [
    "row_order = ['WIN','HIGH','SAFE','LOW','BTM']"
   ]
  },
  {
   "cell_type": "markdown",
   "metadata": {},
   "source": [
    "By resetting the index, we can easily access the dataframe when needed - especially when it come to visualization."
   ]
  },
  {
   "cell_type": "code",
   "execution_count": 15,
   "metadata": {},
   "outputs": [
    {
     "data": {
      "text/html": [
       "<div>\n",
       "<style scoped>\n",
       "    .dataframe tbody tr th:only-of-type {\n",
       "        vertical-align: middle;\n",
       "    }\n",
       "\n",
       "    .dataframe tbody tr th {\n",
       "        vertical-align: top;\n",
       "    }\n",
       "\n",
       "    .dataframe thead th {\n",
       "        text-align: right;\n",
       "    }\n",
       "</style>\n",
       "<table border=\"1\" class=\"dataframe\">\n",
       "  <thead>\n",
       "    <tr style=\"text-align: right;\">\n",
       "      <th></th>\n",
       "      <th>index</th>\n",
       "      <th>Design</th>\n",
       "      <th>Snatch Game</th>\n",
       "      <th>Ball</th>\n",
       "      <th>Makeover</th>\n",
       "      <th>Acting</th>\n",
       "      <th>Girl Groups</th>\n",
       "      <th>Rusical</th>\n",
       "    </tr>\n",
       "  </thead>\n",
       "  <tbody>\n",
       "    <tr>\n",
       "      <th>0</th>\n",
       "      <td>WIN</td>\n",
       "      <td>10</td>\n",
       "      <td>16</td>\n",
       "      <td>12</td>\n",
       "      <td>13</td>\n",
       "      <td>12</td>\n",
       "      <td>7</td>\n",
       "      <td>4</td>\n",
       "    </tr>\n",
       "    <tr>\n",
       "      <th>1</th>\n",
       "      <td>HIGH</td>\n",
       "      <td>5</td>\n",
       "      <td>11</td>\n",
       "      <td>12</td>\n",
       "      <td>16</td>\n",
       "      <td>12</td>\n",
       "      <td>7</td>\n",
       "      <td>7</td>\n",
       "    </tr>\n",
       "    <tr>\n",
       "      <th>2</th>\n",
       "      <td>SAFE</td>\n",
       "      <td>17</td>\n",
       "      <td>15</td>\n",
       "      <td>9</td>\n",
       "      <td>2</td>\n",
       "      <td>13</td>\n",
       "      <td>7</td>\n",
       "      <td>11</td>\n",
       "    </tr>\n",
       "    <tr>\n",
       "      <th>3</th>\n",
       "      <td>LOW</td>\n",
       "      <td>2</td>\n",
       "      <td>3</td>\n",
       "      <td>1</td>\n",
       "      <td>4</td>\n",
       "      <td>1</td>\n",
       "      <td>1</td>\n",
       "      <td>2</td>\n",
       "    </tr>\n",
       "    <tr>\n",
       "      <th>4</th>\n",
       "      <td>BTM</td>\n",
       "      <td>2</td>\n",
       "      <td>5</td>\n",
       "      <td>2</td>\n",
       "      <td>6</td>\n",
       "      <td>2</td>\n",
       "      <td>3</td>\n",
       "      <td>4</td>\n",
       "    </tr>\n",
       "  </tbody>\n",
       "</table>\n",
       "</div>"
      ],
      "text/plain": [
       "  index  Design  Snatch Game  Ball  Makeover  Acting  Girl Groups  Rusical\n",
       "0   WIN      10           16    12        13      12            7        4\n",
       "1  HIGH       5           11    12        16      12            7        7\n",
       "2  SAFE      17           15     9         2      13            7       11\n",
       "3   LOW       2            3     1         4       1            1        2\n",
       "4   BTM       2            5     2         6       2            3        4"
      ]
     },
     "execution_count": 15,
     "metadata": {},
     "output_type": "execute_result"
    }
   ],
   "source": [
    "placements = placements.reindex(row_order).reset_index()\n",
    "\n",
    "placements"
   ]
  },
  {
   "cell_type": "markdown",
   "metadata": {},
   "source": [
    "### **2. What is the most occurring placement per challenge?**"
   ]
  },
  {
   "cell_type": "markdown",
   "metadata": {},
   "source": [
    "By getting the mode of each `challenge` column, we can see which challenge has had the most occuring placement regardless of season."
   ]
  },
  {
   "cell_type": "code",
   "execution_count": 16,
   "metadata": {},
   "outputs": [
    {
     "data": {
      "text/html": [
       "<div>\n",
       "<style scoped>\n",
       "    .dataframe tbody tr th:only-of-type {\n",
       "        vertical-align: middle;\n",
       "    }\n",
       "\n",
       "    .dataframe tbody tr th {\n",
       "        vertical-align: top;\n",
       "    }\n",
       "\n",
       "    .dataframe thead th {\n",
       "        text-align: right;\n",
       "    }\n",
       "</style>\n",
       "<table border=\"1\" class=\"dataframe\">\n",
       "  <thead>\n",
       "    <tr style=\"text-align: right;\">\n",
       "      <th></th>\n",
       "      <th>Design</th>\n",
       "      <th>Snatch Game</th>\n",
       "      <th>Ball</th>\n",
       "      <th>Makeover</th>\n",
       "      <th>Acting</th>\n",
       "      <th>Girl Groups</th>\n",
       "      <th>Rusical</th>\n",
       "    </tr>\n",
       "  </thead>\n",
       "  <tbody>\n",
       "    <tr>\n",
       "      <th>0</th>\n",
       "      <td>SAFE</td>\n",
       "      <td>WIN</td>\n",
       "      <td>HIGH</td>\n",
       "      <td>HIGH</td>\n",
       "      <td>SAFE</td>\n",
       "      <td>HIGH</td>\n",
       "      <td>SAFE</td>\n",
       "    </tr>\n",
       "  </tbody>\n",
       "</table>\n",
       "</div>"
      ],
      "text/plain": [
       "  Design Snatch Game  Ball Makeover Acting Girl Groups Rusical\n",
       "0   SAFE         WIN  HIGH     HIGH   SAFE        HIGH    SAFE"
      ]
     },
     "execution_count": 16,
     "metadata": {},
     "output_type": "execute_result"
    }
   ],
   "source": [
    "challenge_mode = pd.DataFrame(df[['Design', 'Snatch Game', 'Ball', 'Makeover', 'Acting', 'Girl Groups', 'Rusical']].mode().iloc[0])\n",
    "\n",
    "challenge_mode.transpose()"
   ]
  },
  {
   "cell_type": "markdown",
   "metadata": {},
   "source": [
    "Even though we can see the most occuring placement, it should be noted that not all contestants had complete notable challenges in the seasons they competed in."
   ]
  },
  {
   "cell_type": "markdown",
   "metadata": {},
   "source": [
    "### **3. Which challenge has the most complete appearances? Which had the least?**"
   ]
  },
  {
   "cell_type": "markdown",
   "metadata": {},
   "source": [
    "According to the dataset description, there are 51 contestants in the dataset. 43 of which are winners and 8 of them being the top four finalists.\n",
    "\n",
    "Now, we get the number of appearances each challenge did in all the winners' seasons by checking the rows itself."
   ]
  },
  {
   "cell_type": "code",
   "execution_count": 17,
   "metadata": {},
   "outputs": [
    {
     "data": {
      "text/html": [
       "<div>\n",
       "<style scoped>\n",
       "    .dataframe tbody tr th:only-of-type {\n",
       "        vertical-align: middle;\n",
       "    }\n",
       "\n",
       "    .dataframe tbody tr th {\n",
       "        vertical-align: top;\n",
       "    }\n",
       "\n",
       "    .dataframe thead th {\n",
       "        text-align: right;\n",
       "    }\n",
       "</style>\n",
       "<table border=\"1\" class=\"dataframe\">\n",
       "  <thead>\n",
       "    <tr style=\"text-align: right;\">\n",
       "      <th></th>\n",
       "      <th>index</th>\n",
       "      <th>0</th>\n",
       "    </tr>\n",
       "  </thead>\n",
       "  <tbody>\n",
       "    <tr>\n",
       "      <th>1</th>\n",
       "      <td>Snatch Game</td>\n",
       "      <td>50</td>\n",
       "    </tr>\n",
       "    <tr>\n",
       "      <th>3</th>\n",
       "      <td>Makeover</td>\n",
       "      <td>41</td>\n",
       "    </tr>\n",
       "    <tr>\n",
       "      <th>4</th>\n",
       "      <td>Acting</td>\n",
       "      <td>40</td>\n",
       "    </tr>\n",
       "    <tr>\n",
       "      <th>0</th>\n",
       "      <td>Design</td>\n",
       "      <td>36</td>\n",
       "    </tr>\n",
       "    <tr>\n",
       "      <th>2</th>\n",
       "      <td>Ball</td>\n",
       "      <td>36</td>\n",
       "    </tr>\n",
       "    <tr>\n",
       "      <th>6</th>\n",
       "      <td>Rusical</td>\n",
       "      <td>28</td>\n",
       "    </tr>\n",
       "    <tr>\n",
       "      <th>5</th>\n",
       "      <td>Girl Groups</td>\n",
       "      <td>25</td>\n",
       "    </tr>\n",
       "  </tbody>\n",
       "</table>\n",
       "</div>"
      ],
      "text/plain": [
       "         index   0\n",
       "1  Snatch Game  50\n",
       "3     Makeover  41\n",
       "4       Acting  40\n",
       "0       Design  36\n",
       "2         Ball  36\n",
       "6      Rusical  28\n",
       "5  Girl Groups  25"
      ]
     },
     "execution_count": 17,
     "metadata": {},
     "output_type": "execute_result"
    }
   ],
   "source": [
    "appear = pd.DataFrame(df[['Design', 'Snatch Game', 'Ball', 'Makeover', 'Acting', 'Girl Groups', 'Rusical']].count()).reset_index()\n",
    "appear.sort_values([0], ascending=False)"
   ]
  },
  {
   "cell_type": "markdown",
   "metadata": {},
   "source": [
    "By getting the columns and creating a new dataframe with counts, we can see the challenge that appears almost every season: `Snatch Game.`"
   ]
  },
  {
   "cell_type": "markdown",
   "metadata": {},
   "source": [
    "### **4. What is the most number of challenges per season? How many is the least?**"
   ]
  },
  {
   "cell_type": "markdown",
   "metadata": {},
   "source": [
    "We create a new dataframe for counting the challenge placements."
   ]
  },
  {
   "cell_type": "code",
   "execution_count": 18,
   "metadata": {},
   "outputs": [],
   "source": [
    "desc = pd.DataFrame(df[['Design', 'Snatch Game', 'Ball', 'Makeover', 'Acting', 'Girl Groups', 'Rusical']])"
   ]
  },
  {
   "cell_type": "markdown",
   "metadata": {},
   "source": [
    "After that, we count all the `non-null` values present in the `desc` dataframe."
   ]
  },
  {
   "cell_type": "code",
   "execution_count": 19,
   "metadata": {},
   "outputs": [],
   "source": [
    "desc['count'] = desc.apply(lambda row: row.count(), axis = 1)"
   ]
  },
  {
   "cell_type": "markdown",
   "metadata": {},
   "source": [
    "We then use the `.describe` function to quantitatively describe the `count` column."
   ]
  },
  {
   "cell_type": "code",
   "execution_count": 20,
   "metadata": {},
   "outputs": [
    {
     "data": {
      "text/plain": [
       "count    51.000000\n",
       "mean      5.019608\n",
       "std       1.122323\n",
       "min       3.000000\n",
       "25%       4.000000\n",
       "50%       5.000000\n",
       "75%       6.000000\n",
       "max       7.000000\n",
       "Name: count, dtype: float64"
      ]
     },
     "execution_count": 20,
     "metadata": {},
     "output_type": "execute_result"
    }
   ],
   "source": [
    "desc['count'].describe()"
   ]
  },
  {
   "cell_type": "markdown",
   "metadata": {},
   "source": [
    "We can see here that the most number of challenges in a singular season can be `7`.\n",
    "\n",
    "While the least number would be `3` challenges."
   ]
  },
  {
   "cell_type": "markdown",
   "metadata": {},
   "source": [
    "### **5. What is the average number of challenges per season?**"
   ]
  },
  {
   "cell_type": "markdown",
   "metadata": {},
   "source": [
    "Based on the `desc` dataframe, the average number of challenges per season is `5`. Similarly, the median of the column is also `5`. "
   ]
  },
  {
   "cell_type": "markdown",
   "metadata": {
    "id": "cau2aFTizRny"
   },
   "source": [
    "## **Data Preprocessing**"
   ]
  },
  {
   "cell_type": "markdown",
   "metadata": {
    "id": "r_K5_I_oF4au"
   },
   "source": [
    "#### **Data Preprocessing**"
   ]
  },
  {
   "cell_type": "code",
   "execution_count": 21,
   "metadata": {},
   "outputs": [
    {
     "data": {
      "text/html": [
       "<div>\n",
       "<style scoped>\n",
       "    .dataframe tbody tr th:only-of-type {\n",
       "        vertical-align: middle;\n",
       "    }\n",
       "\n",
       "    .dataframe tbody tr th {\n",
       "        vertical-align: top;\n",
       "    }\n",
       "\n",
       "    .dataframe thead th {\n",
       "        text-align: right;\n",
       "    }\n",
       "</style>\n",
       "<table border=\"1\" class=\"dataframe\">\n",
       "  <thead>\n",
       "    <tr style=\"text-align: right;\">\n",
       "      <th></th>\n",
       "      <th>Placement</th>\n",
       "      <th>Country</th>\n",
       "      <th>Season</th>\n",
       "      <th>Queen</th>\n",
       "      <th>Design</th>\n",
       "      <th>Snatch Game</th>\n",
       "      <th>Ball</th>\n",
       "      <th>Makeover</th>\n",
       "      <th>Acting</th>\n",
       "      <th>Girl Groups</th>\n",
       "      <th>Rusical</th>\n",
       "      <th>Unnamed: 11</th>\n",
       "      <th>Unnamed: 12</th>\n",
       "    </tr>\n",
       "  </thead>\n",
       "  <tbody>\n",
       "    <tr>\n",
       "      <th>0</th>\n",
       "      <td>winner</td>\n",
       "      <td>AUS</td>\n",
       "      <td>1</td>\n",
       "      <td>Kita Mean</td>\n",
       "      <td>SAFE</td>\n",
       "      <td>HIGH</td>\n",
       "      <td>NaN</td>\n",
       "      <td>WIN</td>\n",
       "      <td>NaN</td>\n",
       "      <td>HIGH</td>\n",
       "      <td>NaN</td>\n",
       "      <td>NaN</td>\n",
       "      <td>4</td>\n",
       "    </tr>\n",
       "    <tr>\n",
       "      <th>1</th>\n",
       "      <td>winner</td>\n",
       "      <td>AUS</td>\n",
       "      <td>2</td>\n",
       "      <td>Spankie Jackzon</td>\n",
       "      <td>BTM</td>\n",
       "      <td>HIGH</td>\n",
       "      <td>NaN</td>\n",
       "      <td>HIGH</td>\n",
       "      <td>WIN</td>\n",
       "      <td>WIN</td>\n",
       "      <td>NaN</td>\n",
       "      <td>NaN</td>\n",
       "      <td>5</td>\n",
       "    </tr>\n",
       "    <tr>\n",
       "      <th>2</th>\n",
       "      <td>winner</td>\n",
       "      <td>CAN</td>\n",
       "      <td>1</td>\n",
       "      <td>Priyanka</td>\n",
       "      <td>SAFE</td>\n",
       "      <td>BTM</td>\n",
       "      <td>SAFE</td>\n",
       "      <td>WIN</td>\n",
       "      <td>HIGH</td>\n",
       "      <td>WIN</td>\n",
       "      <td>NaN</td>\n",
       "      <td>NaN</td>\n",
       "      <td>6</td>\n",
       "    </tr>\n",
       "    <tr>\n",
       "      <th>3</th>\n",
       "      <td>winner</td>\n",
       "      <td>CAN</td>\n",
       "      <td>2</td>\n",
       "      <td>Icesis Couture</td>\n",
       "      <td>WIN</td>\n",
       "      <td>SAFE</td>\n",
       "      <td>WIN</td>\n",
       "      <td>BTM</td>\n",
       "      <td>SAFE</td>\n",
       "      <td>HIGH</td>\n",
       "      <td>BTM</td>\n",
       "      <td>ALL 7</td>\n",
       "      <td>7</td>\n",
       "    </tr>\n",
       "    <tr>\n",
       "      <th>4</th>\n",
       "      <td>winner</td>\n",
       "      <td>CAN</td>\n",
       "      <td>3</td>\n",
       "      <td>Gisele Lullaby</td>\n",
       "      <td>WIN</td>\n",
       "      <td>WIN</td>\n",
       "      <td>HIGH</td>\n",
       "      <td>NaN</td>\n",
       "      <td>NaN</td>\n",
       "      <td>NaN</td>\n",
       "      <td>BTM</td>\n",
       "      <td>NaN</td>\n",
       "      <td>4</td>\n",
       "    </tr>\n",
       "  </tbody>\n",
       "</table>\n",
       "</div>"
      ],
      "text/plain": [
       "  Placement Country  Season            Queen Design Snatch Game  Ball  \\\n",
       "0    winner     AUS       1        Kita Mean   SAFE        HIGH   NaN   \n",
       "1    winner     AUS       2  Spankie Jackzon    BTM        HIGH   NaN   \n",
       "2    winner     CAN       1         Priyanka   SAFE         BTM  SAFE   \n",
       "3    winner     CAN       2   Icesis Couture    WIN        SAFE   WIN   \n",
       "4    winner     CAN       3   Gisele Lullaby    WIN         WIN  HIGH   \n",
       "\n",
       "  Makeover Acting Girl Groups Rusical Unnamed: 11  Unnamed: 12  \n",
       "0      WIN    NaN        HIGH     NaN         NaN            4  \n",
       "1     HIGH    WIN         WIN     NaN         NaN            5  \n",
       "2      WIN   HIGH         WIN     NaN         NaN            6  \n",
       "3      BTM   SAFE        HIGH     BTM       ALL 7            7  \n",
       "4      NaN    NaN         NaN     BTM         NaN            4  "
      ]
     },
     "execution_count": 21,
     "metadata": {},
     "output_type": "execute_result"
    }
   ],
   "source": [
    "df.head()"
   ]
  },
  {
   "cell_type": "markdown",
   "metadata": {},
   "source": [
    "##### **Concatenating Columns**"
   ]
  },
  {
   "cell_type": "markdown",
   "metadata": {},
   "source": [
    "Instead of having to display the `country` and `season` separately, we join them into one column instead."
   ]
  },
  {
   "cell_type": "code",
   "execution_count": 22,
   "metadata": {},
   "outputs": [
    {
     "data": {
      "text/html": [
       "<div>\n",
       "<style scoped>\n",
       "    .dataframe tbody tr th:only-of-type {\n",
       "        vertical-align: middle;\n",
       "    }\n",
       "\n",
       "    .dataframe tbody tr th {\n",
       "        vertical-align: top;\n",
       "    }\n",
       "\n",
       "    .dataframe thead th {\n",
       "        text-align: right;\n",
       "    }\n",
       "</style>\n",
       "<table border=\"1\" class=\"dataframe\">\n",
       "  <thead>\n",
       "    <tr style=\"text-align: right;\">\n",
       "      <th></th>\n",
       "      <th>Placement</th>\n",
       "      <th>Country</th>\n",
       "      <th>Season</th>\n",
       "      <th>Queen</th>\n",
       "      <th>Design</th>\n",
       "      <th>Snatch Game</th>\n",
       "      <th>Ball</th>\n",
       "      <th>Makeover</th>\n",
       "      <th>Acting</th>\n",
       "      <th>Girl Groups</th>\n",
       "      <th>Rusical</th>\n",
       "      <th>Unnamed: 11</th>\n",
       "      <th>Unnamed: 12</th>\n",
       "      <th>code</th>\n",
       "    </tr>\n",
       "  </thead>\n",
       "  <tbody>\n",
       "    <tr>\n",
       "      <th>0</th>\n",
       "      <td>winner</td>\n",
       "      <td>AUS</td>\n",
       "      <td>1</td>\n",
       "      <td>Kita Mean</td>\n",
       "      <td>SAFE</td>\n",
       "      <td>HIGH</td>\n",
       "      <td>NaN</td>\n",
       "      <td>WIN</td>\n",
       "      <td>NaN</td>\n",
       "      <td>HIGH</td>\n",
       "      <td>NaN</td>\n",
       "      <td>NaN</td>\n",
       "      <td>4</td>\n",
       "      <td>AUS1</td>\n",
       "    </tr>\n",
       "    <tr>\n",
       "      <th>1</th>\n",
       "      <td>winner</td>\n",
       "      <td>AUS</td>\n",
       "      <td>2</td>\n",
       "      <td>Spankie Jackzon</td>\n",
       "      <td>BTM</td>\n",
       "      <td>HIGH</td>\n",
       "      <td>NaN</td>\n",
       "      <td>HIGH</td>\n",
       "      <td>WIN</td>\n",
       "      <td>WIN</td>\n",
       "      <td>NaN</td>\n",
       "      <td>NaN</td>\n",
       "      <td>5</td>\n",
       "      <td>AUS2</td>\n",
       "    </tr>\n",
       "    <tr>\n",
       "      <th>2</th>\n",
       "      <td>winner</td>\n",
       "      <td>CAN</td>\n",
       "      <td>1</td>\n",
       "      <td>Priyanka</td>\n",
       "      <td>SAFE</td>\n",
       "      <td>BTM</td>\n",
       "      <td>SAFE</td>\n",
       "      <td>WIN</td>\n",
       "      <td>HIGH</td>\n",
       "      <td>WIN</td>\n",
       "      <td>NaN</td>\n",
       "      <td>NaN</td>\n",
       "      <td>6</td>\n",
       "      <td>CAN1</td>\n",
       "    </tr>\n",
       "    <tr>\n",
       "      <th>3</th>\n",
       "      <td>winner</td>\n",
       "      <td>CAN</td>\n",
       "      <td>2</td>\n",
       "      <td>Icesis Couture</td>\n",
       "      <td>WIN</td>\n",
       "      <td>SAFE</td>\n",
       "      <td>WIN</td>\n",
       "      <td>BTM</td>\n",
       "      <td>SAFE</td>\n",
       "      <td>HIGH</td>\n",
       "      <td>BTM</td>\n",
       "      <td>ALL 7</td>\n",
       "      <td>7</td>\n",
       "      <td>CAN2</td>\n",
       "    </tr>\n",
       "    <tr>\n",
       "      <th>4</th>\n",
       "      <td>winner</td>\n",
       "      <td>CAN</td>\n",
       "      <td>3</td>\n",
       "      <td>Gisele Lullaby</td>\n",
       "      <td>WIN</td>\n",
       "      <td>WIN</td>\n",
       "      <td>HIGH</td>\n",
       "      <td>NaN</td>\n",
       "      <td>NaN</td>\n",
       "      <td>NaN</td>\n",
       "      <td>BTM</td>\n",
       "      <td>NaN</td>\n",
       "      <td>4</td>\n",
       "      <td>CAN3</td>\n",
       "    </tr>\n",
       "  </tbody>\n",
       "</table>\n",
       "</div>"
      ],
      "text/plain": [
       "  Placement Country  Season            Queen Design Snatch Game  Ball  \\\n",
       "0    winner     AUS       1        Kita Mean   SAFE        HIGH   NaN   \n",
       "1    winner     AUS       2  Spankie Jackzon    BTM        HIGH   NaN   \n",
       "2    winner     CAN       1         Priyanka   SAFE         BTM  SAFE   \n",
       "3    winner     CAN       2   Icesis Couture    WIN        SAFE   WIN   \n",
       "4    winner     CAN       3   Gisele Lullaby    WIN         WIN  HIGH   \n",
       "\n",
       "  Makeover Acting Girl Groups Rusical Unnamed: 11  Unnamed: 12  code  \n",
       "0      WIN    NaN        HIGH     NaN         NaN            4  AUS1  \n",
       "1     HIGH    WIN         WIN     NaN         NaN            5  AUS2  \n",
       "2      WIN   HIGH         WIN     NaN         NaN            6  CAN1  \n",
       "3      BTM   SAFE        HIGH     BTM       ALL 7            7  CAN2  \n",
       "4      NaN    NaN         NaN     BTM         NaN            4  CAN3  "
      ]
     },
     "execution_count": 22,
     "metadata": {},
     "output_type": "execute_result"
    }
   ],
   "source": [
    "df['code'] = df['Country'].astype(str) + df['Season'].astype(str)\n",
    "\n",
    "df.head()"
   ]
  },
  {
   "cell_type": "markdown",
   "metadata": {
    "id": "RCZGlrwFGMK6"
   },
   "source": [
    "##### **Dropping and Reorganizing of Columns**"
   ]
  },
  {
   "cell_type": "markdown",
   "metadata": {
    "id": "Q7J3LOu6GGzV"
   },
   "source": [
    "Before dropping any columns, we first get the column names."
   ]
  },
  {
   "cell_type": "code",
   "execution_count": 23,
   "metadata": {
    "colab": {
     "base_uri": "https://localhost:8080/"
    },
    "id": "iVWWfKPpGE43",
    "outputId": "10e5c4f0-78ab-4727-8557-f698ff1d0f80"
   },
   "outputs": [
    {
     "data": {
      "text/plain": [
       "Index(['Placement', 'Country', 'Season', 'Queen', 'Design', 'Snatch Game',\n",
       "       'Ball', 'Makeover', 'Acting', 'Girl Groups', 'Rusical', 'Unnamed: 11',\n",
       "       'Unnamed: 12', 'code'],\n",
       "      dtype='object')"
      ]
     },
     "execution_count": 23,
     "metadata": {},
     "output_type": "execute_result"
    }
   ],
   "source": [
    "df.columns"
   ]
  },
  {
   "cell_type": "markdown",
   "metadata": {
    "id": "X5wCs4MzF7ck"
   },
   "source": [
    "We make a list of columns to drop that would not be needed further in the analysis."
   ]
  },
  {
   "cell_type": "code",
   "execution_count": 24,
   "metadata": {},
   "outputs": [],
   "source": [
    "drop_col = [ \"Country\", \"Season\", \"Queen\", 'Unnamed: 11', 'Unnamed: 12']"
   ]
  },
  {
   "cell_type": "code",
   "execution_count": 25,
   "metadata": {
    "colab": {
     "base_uri": "https://localhost:8080/",
     "height": 0
    },
    "id": "YPFGeP5QF39o",
    "outputId": "b0ad93f9-589a-40d4-92fd-ba6b4bce4f4d"
   },
   "outputs": [
    {
     "data": {
      "text/html": [
       "<div>\n",
       "<style scoped>\n",
       "    .dataframe tbody tr th:only-of-type {\n",
       "        vertical-align: middle;\n",
       "    }\n",
       "\n",
       "    .dataframe tbody tr th {\n",
       "        vertical-align: top;\n",
       "    }\n",
       "\n",
       "    .dataframe thead th {\n",
       "        text-align: right;\n",
       "    }\n",
       "</style>\n",
       "<table border=\"1\" class=\"dataframe\">\n",
       "  <thead>\n",
       "    <tr style=\"text-align: right;\">\n",
       "      <th></th>\n",
       "      <th>Placement</th>\n",
       "      <th>Design</th>\n",
       "      <th>Snatch Game</th>\n",
       "      <th>Ball</th>\n",
       "      <th>Makeover</th>\n",
       "      <th>Acting</th>\n",
       "      <th>Girl Groups</th>\n",
       "      <th>Rusical</th>\n",
       "      <th>code</th>\n",
       "    </tr>\n",
       "  </thead>\n",
       "  <tbody>\n",
       "    <tr>\n",
       "      <th>0</th>\n",
       "      <td>winner</td>\n",
       "      <td>SAFE</td>\n",
       "      <td>HIGH</td>\n",
       "      <td>NaN</td>\n",
       "      <td>WIN</td>\n",
       "      <td>NaN</td>\n",
       "      <td>HIGH</td>\n",
       "      <td>NaN</td>\n",
       "      <td>AUS1</td>\n",
       "    </tr>\n",
       "    <tr>\n",
       "      <th>1</th>\n",
       "      <td>winner</td>\n",
       "      <td>BTM</td>\n",
       "      <td>HIGH</td>\n",
       "      <td>NaN</td>\n",
       "      <td>HIGH</td>\n",
       "      <td>WIN</td>\n",
       "      <td>WIN</td>\n",
       "      <td>NaN</td>\n",
       "      <td>AUS2</td>\n",
       "    </tr>\n",
       "    <tr>\n",
       "      <th>2</th>\n",
       "      <td>winner</td>\n",
       "      <td>SAFE</td>\n",
       "      <td>BTM</td>\n",
       "      <td>SAFE</td>\n",
       "      <td>WIN</td>\n",
       "      <td>HIGH</td>\n",
       "      <td>WIN</td>\n",
       "      <td>NaN</td>\n",
       "      <td>CAN1</td>\n",
       "    </tr>\n",
       "    <tr>\n",
       "      <th>3</th>\n",
       "      <td>winner</td>\n",
       "      <td>WIN</td>\n",
       "      <td>SAFE</td>\n",
       "      <td>WIN</td>\n",
       "      <td>BTM</td>\n",
       "      <td>SAFE</td>\n",
       "      <td>HIGH</td>\n",
       "      <td>BTM</td>\n",
       "      <td>CAN2</td>\n",
       "    </tr>\n",
       "    <tr>\n",
       "      <th>4</th>\n",
       "      <td>winner</td>\n",
       "      <td>WIN</td>\n",
       "      <td>WIN</td>\n",
       "      <td>HIGH</td>\n",
       "      <td>NaN</td>\n",
       "      <td>NaN</td>\n",
       "      <td>NaN</td>\n",
       "      <td>BTM</td>\n",
       "      <td>CAN3</td>\n",
       "    </tr>\n",
       "  </tbody>\n",
       "</table>\n",
       "</div>"
      ],
      "text/plain": [
       "  Placement Design Snatch Game  Ball Makeover Acting Girl Groups Rusical  code\n",
       "0    winner   SAFE        HIGH   NaN      WIN    NaN        HIGH     NaN  AUS1\n",
       "1    winner    BTM        HIGH   NaN     HIGH    WIN         WIN     NaN  AUS2\n",
       "2    winner   SAFE         BTM  SAFE      WIN   HIGH         WIN     NaN  CAN1\n",
       "3    winner    WIN        SAFE   WIN      BTM   SAFE        HIGH     BTM  CAN2\n",
       "4    winner    WIN         WIN  HIGH      NaN    NaN         NaN     BTM  CAN3"
      ]
     },
     "execution_count": 25,
     "metadata": {},
     "output_type": "execute_result"
    }
   ],
   "source": [
    "df = df.drop(drop_col, axis = 1)\n",
    "\n",
    "df.head()"
   ]
  },
  {
   "cell_type": "markdown",
   "metadata": {},
   "source": [
    "We now reposition the `code` column by "
   ]
  },
  {
   "cell_type": "code",
   "execution_count": 26,
   "metadata": {},
   "outputs": [
    {
     "data": {
      "text/plain": [
       "['Placement',\n",
       " 'Design',\n",
       " 'Snatch Game',\n",
       " 'Ball',\n",
       " 'Makeover',\n",
       " 'Acting',\n",
       " 'Girl Groups',\n",
       " 'Rusical',\n",
       " 'code']"
      ]
     },
     "execution_count": 26,
     "metadata": {},
     "output_type": "execute_result"
    }
   ],
   "source": [
    "df.columns.tolist()"
   ]
  },
  {
   "cell_type": "code",
   "execution_count": 27,
   "metadata": {},
   "outputs": [
    {
     "data": {
      "text/html": [
       "<div>\n",
       "<style scoped>\n",
       "    .dataframe tbody tr th:only-of-type {\n",
       "        vertical-align: middle;\n",
       "    }\n",
       "\n",
       "    .dataframe tbody tr th {\n",
       "        vertical-align: top;\n",
       "    }\n",
       "\n",
       "    .dataframe thead th {\n",
       "        text-align: right;\n",
       "    }\n",
       "</style>\n",
       "<table border=\"1\" class=\"dataframe\">\n",
       "  <thead>\n",
       "    <tr style=\"text-align: right;\">\n",
       "      <th></th>\n",
       "      <th>Placement</th>\n",
       "      <th>code</th>\n",
       "      <th>Design</th>\n",
       "      <th>Snatch Game</th>\n",
       "      <th>Ball</th>\n",
       "      <th>Makeover</th>\n",
       "      <th>Acting</th>\n",
       "      <th>Girl Groups</th>\n",
       "      <th>Rusical</th>\n",
       "    </tr>\n",
       "  </thead>\n",
       "  <tbody>\n",
       "    <tr>\n",
       "      <th>0</th>\n",
       "      <td>winner</td>\n",
       "      <td>AUS1</td>\n",
       "      <td>SAFE</td>\n",
       "      <td>HIGH</td>\n",
       "      <td>NaN</td>\n",
       "      <td>WIN</td>\n",
       "      <td>NaN</td>\n",
       "      <td>HIGH</td>\n",
       "      <td>NaN</td>\n",
       "    </tr>\n",
       "    <tr>\n",
       "      <th>1</th>\n",
       "      <td>winner</td>\n",
       "      <td>AUS2</td>\n",
       "      <td>BTM</td>\n",
       "      <td>HIGH</td>\n",
       "      <td>NaN</td>\n",
       "      <td>HIGH</td>\n",
       "      <td>WIN</td>\n",
       "      <td>WIN</td>\n",
       "      <td>NaN</td>\n",
       "    </tr>\n",
       "  </tbody>\n",
       "</table>\n",
       "</div>"
      ],
      "text/plain": [
       "  Placement  code Design Snatch Game Ball Makeover Acting Girl Groups Rusical\n",
       "0    winner  AUS1   SAFE        HIGH  NaN      WIN    NaN        HIGH     NaN\n",
       "1    winner  AUS2    BTM        HIGH  NaN     HIGH    WIN         WIN     NaN"
      ]
     },
     "execution_count": 27,
     "metadata": {},
     "output_type": "execute_result"
    }
   ],
   "source": [
    "df = df[['Placement', 'code', 'Design', 'Snatch Game', 'Ball', 'Makeover', 'Acting', 'Girl Groups', 'Rusical']]\n",
    "\n",
    "df.head(2)"
   ]
  },
  {
   "cell_type": "markdown",
   "metadata": {
    "id": "sBwZs9vTm_ls"
   },
   "source": [
    "##### **Count of Row**"
   ]
  },
  {
   "cell_type": "markdown",
   "metadata": {
    "id": "3wpaxArFnZ4I"
   },
   "source": [
    "This is to find out the number of episodes that are available in a season or that a contestant has participated in.\n",
    "\n",
    "Using the count function, we can count the number of non-null values."
   ]
  },
  {
   "cell_type": "markdown",
   "metadata": {
    "id": "Uj3CegC53Whj"
   },
   "source": [
    "We add the counted values as a new column in `df_score`"
   ]
  },
  {
   "cell_type": "code",
   "execution_count": 28,
   "metadata": {},
   "outputs": [
    {
     "data": {
      "text/html": [
       "<div>\n",
       "<style scoped>\n",
       "    .dataframe tbody tr th:only-of-type {\n",
       "        vertical-align: middle;\n",
       "    }\n",
       "\n",
       "    .dataframe tbody tr th {\n",
       "        vertical-align: top;\n",
       "    }\n",
       "\n",
       "    .dataframe thead th {\n",
       "        text-align: right;\n",
       "    }\n",
       "</style>\n",
       "<table border=\"1\" class=\"dataframe\">\n",
       "  <thead>\n",
       "    <tr style=\"text-align: right;\">\n",
       "      <th></th>\n",
       "      <th>index</th>\n",
       "      <th>Design</th>\n",
       "      <th>Snatch Game</th>\n",
       "      <th>Ball</th>\n",
       "      <th>Makeover</th>\n",
       "      <th>Acting</th>\n",
       "      <th>Girl Groups</th>\n",
       "      <th>Rusical</th>\n",
       "    </tr>\n",
       "  </thead>\n",
       "  <tbody>\n",
       "    <tr>\n",
       "      <th>0</th>\n",
       "      <td>WIN</td>\n",
       "      <td>10</td>\n",
       "      <td>16</td>\n",
       "      <td>12</td>\n",
       "      <td>13</td>\n",
       "      <td>12</td>\n",
       "      <td>7</td>\n",
       "      <td>4</td>\n",
       "    </tr>\n",
       "    <tr>\n",
       "      <th>1</th>\n",
       "      <td>HIGH</td>\n",
       "      <td>5</td>\n",
       "      <td>11</td>\n",
       "      <td>12</td>\n",
       "      <td>16</td>\n",
       "      <td>12</td>\n",
       "      <td>7</td>\n",
       "      <td>7</td>\n",
       "    </tr>\n",
       "    <tr>\n",
       "      <th>2</th>\n",
       "      <td>SAFE</td>\n",
       "      <td>17</td>\n",
       "      <td>15</td>\n",
       "      <td>9</td>\n",
       "      <td>2</td>\n",
       "      <td>13</td>\n",
       "      <td>7</td>\n",
       "      <td>11</td>\n",
       "    </tr>\n",
       "    <tr>\n",
       "      <th>3</th>\n",
       "      <td>LOW</td>\n",
       "      <td>2</td>\n",
       "      <td>3</td>\n",
       "      <td>1</td>\n",
       "      <td>4</td>\n",
       "      <td>1</td>\n",
       "      <td>1</td>\n",
       "      <td>2</td>\n",
       "    </tr>\n",
       "    <tr>\n",
       "      <th>4</th>\n",
       "      <td>BTM</td>\n",
       "      <td>2</td>\n",
       "      <td>5</td>\n",
       "      <td>2</td>\n",
       "      <td>6</td>\n",
       "      <td>2</td>\n",
       "      <td>3</td>\n",
       "      <td>4</td>\n",
       "    </tr>\n",
       "  </tbody>\n",
       "</table>\n",
       "</div>"
      ],
      "text/plain": [
       "  index  Design  Snatch Game  Ball  Makeover  Acting  Girl Groups  Rusical\n",
       "0   WIN      10           16    12        13      12            7        4\n",
       "1  HIGH       5           11    12        16      12            7        7\n",
       "2  SAFE      17           15     9         2      13            7       11\n",
       "3   LOW       2            3     1         4       1            1        2\n",
       "4   BTM       2            5     2         6       2            3        4"
      ]
     },
     "execution_count": 28,
     "metadata": {},
     "output_type": "execute_result"
    }
   ],
   "source": [
    "placements"
   ]
  },
  {
   "cell_type": "markdown",
   "metadata": {},
   "source": [
    "##### **Splitting the Dataset**"
   ]
  },
  {
   "cell_type": "markdown",
   "metadata": {},
   "source": [
    "We split the dataset separately into the `winners` and `finalists` so that we can drop more columns and work with the columns we need."
   ]
  },
  {
   "cell_type": "code",
   "execution_count": 29,
   "metadata": {},
   "outputs": [
    {
     "data": {
      "text/html": [
       "<div>\n",
       "<style scoped>\n",
       "    .dataframe tbody tr th:only-of-type {\n",
       "        vertical-align: middle;\n",
       "    }\n",
       "\n",
       "    .dataframe tbody tr th {\n",
       "        vertical-align: top;\n",
       "    }\n",
       "\n",
       "    .dataframe thead th {\n",
       "        text-align: right;\n",
       "    }\n",
       "</style>\n",
       "<table border=\"1\" class=\"dataframe\">\n",
       "  <thead>\n",
       "    <tr style=\"text-align: right;\">\n",
       "      <th></th>\n",
       "      <th>Placement</th>\n",
       "      <th>code</th>\n",
       "      <th>Design</th>\n",
       "      <th>Snatch Game</th>\n",
       "      <th>Ball</th>\n",
       "      <th>Makeover</th>\n",
       "      <th>Acting</th>\n",
       "      <th>Girl Groups</th>\n",
       "      <th>Rusical</th>\n",
       "    </tr>\n",
       "  </thead>\n",
       "  <tbody>\n",
       "    <tr>\n",
       "      <th>0</th>\n",
       "      <td>winner</td>\n",
       "      <td>AUS1</td>\n",
       "      <td>SAFE</td>\n",
       "      <td>HIGH</td>\n",
       "      <td>NaN</td>\n",
       "      <td>WIN</td>\n",
       "      <td>NaN</td>\n",
       "      <td>HIGH</td>\n",
       "      <td>NaN</td>\n",
       "    </tr>\n",
       "    <tr>\n",
       "      <th>1</th>\n",
       "      <td>winner</td>\n",
       "      <td>AUS2</td>\n",
       "      <td>BTM</td>\n",
       "      <td>HIGH</td>\n",
       "      <td>NaN</td>\n",
       "      <td>HIGH</td>\n",
       "      <td>WIN</td>\n",
       "      <td>WIN</td>\n",
       "      <td>NaN</td>\n",
       "    </tr>\n",
       "    <tr>\n",
       "      <th>2</th>\n",
       "      <td>winner</td>\n",
       "      <td>CAN1</td>\n",
       "      <td>SAFE</td>\n",
       "      <td>BTM</td>\n",
       "      <td>SAFE</td>\n",
       "      <td>WIN</td>\n",
       "      <td>HIGH</td>\n",
       "      <td>WIN</td>\n",
       "      <td>NaN</td>\n",
       "    </tr>\n",
       "    <tr>\n",
       "      <th>3</th>\n",
       "      <td>winner</td>\n",
       "      <td>CAN2</td>\n",
       "      <td>WIN</td>\n",
       "      <td>SAFE</td>\n",
       "      <td>WIN</td>\n",
       "      <td>BTM</td>\n",
       "      <td>SAFE</td>\n",
       "      <td>HIGH</td>\n",
       "      <td>BTM</td>\n",
       "    </tr>\n",
       "    <tr>\n",
       "      <th>4</th>\n",
       "      <td>winner</td>\n",
       "      <td>CAN3</td>\n",
       "      <td>WIN</td>\n",
       "      <td>WIN</td>\n",
       "      <td>HIGH</td>\n",
       "      <td>NaN</td>\n",
       "      <td>NaN</td>\n",
       "      <td>NaN</td>\n",
       "      <td>BTM</td>\n",
       "    </tr>\n",
       "  </tbody>\n",
       "</table>\n",
       "</div>"
      ],
      "text/plain": [
       "  Placement  code Design Snatch Game  Ball Makeover Acting Girl Groups Rusical\n",
       "0    winner  AUS1   SAFE        HIGH   NaN      WIN    NaN        HIGH     NaN\n",
       "1    winner  AUS2    BTM        HIGH   NaN     HIGH    WIN         WIN     NaN\n",
       "2    winner  CAN1   SAFE         BTM  SAFE      WIN   HIGH         WIN     NaN\n",
       "3    winner  CAN2    WIN        SAFE   WIN      BTM   SAFE        HIGH     BTM\n",
       "4    winner  CAN3    WIN         WIN  HIGH      NaN    NaN         NaN     BTM"
      ]
     },
     "execution_count": 29,
     "metadata": {},
     "output_type": "execute_result"
    }
   ],
   "source": [
    "winners = df.loc[df['Placement'] == 'winner']\n",
    "\n",
    "winners.head()"
   ]
  },
  {
   "cell_type": "code",
   "execution_count": 30,
   "metadata": {},
   "outputs": [
    {
     "data": {
      "text/html": [
       "<div>\n",
       "<style scoped>\n",
       "    .dataframe tbody tr th:only-of-type {\n",
       "        vertical-align: middle;\n",
       "    }\n",
       "\n",
       "    .dataframe tbody tr th {\n",
       "        vertical-align: top;\n",
       "    }\n",
       "\n",
       "    .dataframe thead th {\n",
       "        text-align: right;\n",
       "    }\n",
       "</style>\n",
       "<table border=\"1\" class=\"dataframe\">\n",
       "  <thead>\n",
       "    <tr style=\"text-align: right;\">\n",
       "      <th></th>\n",
       "      <th>Placement</th>\n",
       "      <th>code</th>\n",
       "      <th>Design</th>\n",
       "      <th>Snatch Game</th>\n",
       "      <th>Ball</th>\n",
       "      <th>Makeover</th>\n",
       "      <th>Acting</th>\n",
       "      <th>Girl Groups</th>\n",
       "      <th>Rusical</th>\n",
       "    </tr>\n",
       "  </thead>\n",
       "  <tbody>\n",
       "    <tr>\n",
       "      <th>0</th>\n",
       "      <td>final</td>\n",
       "      <td>US15</td>\n",
       "      <td>SAFE</td>\n",
       "      <td>SAFE</td>\n",
       "      <td>HIGH</td>\n",
       "      <td>WIN</td>\n",
       "      <td>HIGH</td>\n",
       "      <td>LOW</td>\n",
       "      <td>WIN</td>\n",
       "    </tr>\n",
       "    <tr>\n",
       "      <th>1</th>\n",
       "      <td>final</td>\n",
       "      <td>US15</td>\n",
       "      <td>SAFE</td>\n",
       "      <td>HIGH</td>\n",
       "      <td>HIGH</td>\n",
       "      <td>HIGH</td>\n",
       "      <td>WIN</td>\n",
       "      <td>HIGH</td>\n",
       "      <td>HIGH</td>\n",
       "    </tr>\n",
       "    <tr>\n",
       "      <th>2</th>\n",
       "      <td>final</td>\n",
       "      <td>US15</td>\n",
       "      <td>HIGH</td>\n",
       "      <td>SAFE</td>\n",
       "      <td>WIN</td>\n",
       "      <td>HIGH</td>\n",
       "      <td>SAFE</td>\n",
       "      <td>HIGH</td>\n",
       "      <td>HIGH</td>\n",
       "    </tr>\n",
       "    <tr>\n",
       "      <th>3</th>\n",
       "      <td>final</td>\n",
       "      <td>US15</td>\n",
       "      <td>WIN</td>\n",
       "      <td>SAFE</td>\n",
       "      <td>SAFE</td>\n",
       "      <td>BTM</td>\n",
       "      <td>SAFE</td>\n",
       "      <td>SAFE</td>\n",
       "      <td>HIGH</td>\n",
       "    </tr>\n",
       "    <tr>\n",
       "      <th>4</th>\n",
       "      <td>final</td>\n",
       "      <td>BEL1</td>\n",
       "      <td>NaN</td>\n",
       "      <td>LOW</td>\n",
       "      <td>SAFE</td>\n",
       "      <td>WIN</td>\n",
       "      <td>SAFE</td>\n",
       "      <td>NaN</td>\n",
       "      <td>NaN</td>\n",
       "    </tr>\n",
       "  </tbody>\n",
       "</table>\n",
       "</div>"
      ],
      "text/plain": [
       "  Placement  code Design Snatch Game  Ball Makeover Acting Girl Groups Rusical\n",
       "0     final  US15   SAFE        SAFE  HIGH      WIN   HIGH         LOW     WIN\n",
       "1     final  US15   SAFE        HIGH  HIGH     HIGH    WIN        HIGH    HIGH\n",
       "2     final  US15   HIGH        SAFE   WIN     HIGH   SAFE        HIGH    HIGH\n",
       "3     final  US15    WIN        SAFE  SAFE      BTM   SAFE        SAFE    HIGH\n",
       "4     final  BEL1    NaN         LOW  SAFE      WIN   SAFE         NaN     NaN"
      ]
     },
     "execution_count": 30,
     "metadata": {},
     "output_type": "execute_result"
    }
   ],
   "source": [
    "finalists = df.loc[df['Placement'] == 'final'].reset_index(drop = True)\n",
    "\n",
    "finalists.head()"
   ]
  },
  {
   "cell_type": "markdown",
   "metadata": {
    "id": "uKjfefnEzRvg"
   },
   "source": [
    "### **Data Cleaning**"
   ]
  },
  {
   "cell_type": "markdown",
   "metadata": {
    "id": "2IPw41vJzkHY"
   },
   "source": [
    "### **Feature Extraction**"
   ]
  },
  {
   "cell_type": "markdown",
   "metadata": {},
   "source": [
    "##### **Column Conversion**\n",
    "\n",
    "This column conversion is mainly to convert the categorical data. This isn't affecting the main dataframe, but rather a copy of it. "
   ]
  },
  {
   "cell_type": "markdown",
   "metadata": {},
   "source": [
    "Before converting any objects to integer values, first we check the kinds of placements available. Since the `Snatch Game` column has the most values in terms of placement, that will be used."
   ]
  },
  {
   "cell_type": "code",
   "execution_count": 31,
   "metadata": {},
   "outputs": [
    {
     "name": "stdout",
     "output_type": "stream",
     "text": [
      "['HIGH' 'BTM' 'SAFE' 'WIN' 'LOW' nan]\n"
     ]
    }
   ],
   "source": [
    "print(df['Snatch Game'].unique())"
   ]
  },
  {
   "cell_type": "markdown",
   "metadata": {},
   "source": [
    "Now that we have the placements, we map the values accordingly and assign a certain score through a copy. Another copy will be made for one hot encoded dataset."
   ]
  },
  {
   "cell_type": "code",
   "execution_count": 32,
   "metadata": {},
   "outputs": [],
   "source": [
    "df_score = df.copy(deep = True) #score df\n",
    "df_ohe = df.copy(deep = True) #one hot encoded df"
   ]
  },
  {
   "cell_type": "code",
   "execution_count": 33,
   "metadata": {},
   "outputs": [],
   "source": [
    "col_list = df[['Design', 'Snatch Game', 'Ball', 'Makeover','Acting', 'Girl Groups', 'Rusical']].columns.tolist()"
   ]
  },
  {
   "cell_type": "markdown",
   "metadata": {},
   "source": [
    " **Mapping the Scores per Placement**\n",
    "\n",
    "Here we map the scores based on placements"
   ]
  },
  {
   "cell_type": "code",
   "execution_count": 34,
   "metadata": {},
   "outputs": [],
   "source": [
    "df_score[col_list] = df_score[col_list].replace({'WIN':4,\n",
    "                                 'HIGH':3,\n",
    "                                 'SAFE':2,\n",
    "                                 'LOW':1,\n",
    "                                 'BTM':0})"
   ]
  },
  {
   "cell_type": "code",
   "execution_count": 35,
   "metadata": {},
   "outputs": [
    {
     "data": {
      "text/html": [
       "<div>\n",
       "<style scoped>\n",
       "    .dataframe tbody tr th:only-of-type {\n",
       "        vertical-align: middle;\n",
       "    }\n",
       "\n",
       "    .dataframe tbody tr th {\n",
       "        vertical-align: top;\n",
       "    }\n",
       "\n",
       "    .dataframe thead th {\n",
       "        text-align: right;\n",
       "    }\n",
       "</style>\n",
       "<table border=\"1\" class=\"dataframe\">\n",
       "  <thead>\n",
       "    <tr style=\"text-align: right;\">\n",
       "      <th></th>\n",
       "      <th>Placement</th>\n",
       "      <th>code</th>\n",
       "      <th>Design</th>\n",
       "      <th>Snatch Game</th>\n",
       "      <th>Ball</th>\n",
       "      <th>Makeover</th>\n",
       "      <th>Acting</th>\n",
       "      <th>Girl Groups</th>\n",
       "      <th>Rusical</th>\n",
       "    </tr>\n",
       "  </thead>\n",
       "  <tbody>\n",
       "    <tr>\n",
       "      <th>0</th>\n",
       "      <td>winner</td>\n",
       "      <td>AUS1</td>\n",
       "      <td>2.0</td>\n",
       "      <td>3.0</td>\n",
       "      <td>NaN</td>\n",
       "      <td>4.0</td>\n",
       "      <td>NaN</td>\n",
       "      <td>3.0</td>\n",
       "      <td>NaN</td>\n",
       "    </tr>\n",
       "    <tr>\n",
       "      <th>1</th>\n",
       "      <td>winner</td>\n",
       "      <td>AUS2</td>\n",
       "      <td>0.0</td>\n",
       "      <td>3.0</td>\n",
       "      <td>NaN</td>\n",
       "      <td>3.0</td>\n",
       "      <td>4.0</td>\n",
       "      <td>4.0</td>\n",
       "      <td>NaN</td>\n",
       "    </tr>\n",
       "    <tr>\n",
       "      <th>2</th>\n",
       "      <td>winner</td>\n",
       "      <td>CAN1</td>\n",
       "      <td>2.0</td>\n",
       "      <td>0.0</td>\n",
       "      <td>2.0</td>\n",
       "      <td>4.0</td>\n",
       "      <td>3.0</td>\n",
       "      <td>4.0</td>\n",
       "      <td>NaN</td>\n",
       "    </tr>\n",
       "    <tr>\n",
       "      <th>3</th>\n",
       "      <td>winner</td>\n",
       "      <td>CAN2</td>\n",
       "      <td>4.0</td>\n",
       "      <td>2.0</td>\n",
       "      <td>4.0</td>\n",
       "      <td>0.0</td>\n",
       "      <td>2.0</td>\n",
       "      <td>3.0</td>\n",
       "      <td>0.0</td>\n",
       "    </tr>\n",
       "    <tr>\n",
       "      <th>4</th>\n",
       "      <td>winner</td>\n",
       "      <td>CAN3</td>\n",
       "      <td>4.0</td>\n",
       "      <td>4.0</td>\n",
       "      <td>3.0</td>\n",
       "      <td>NaN</td>\n",
       "      <td>NaN</td>\n",
       "      <td>NaN</td>\n",
       "      <td>0.0</td>\n",
       "    </tr>\n",
       "  </tbody>\n",
       "</table>\n",
       "</div>"
      ],
      "text/plain": [
       "  Placement  code  Design  Snatch Game  Ball  Makeover  Acting  Girl Groups  \\\n",
       "0    winner  AUS1     2.0          3.0   NaN       4.0     NaN          3.0   \n",
       "1    winner  AUS2     0.0          3.0   NaN       3.0     4.0          4.0   \n",
       "2    winner  CAN1     2.0          0.0   2.0       4.0     3.0          4.0   \n",
       "3    winner  CAN2     4.0          2.0   4.0       0.0     2.0          3.0   \n",
       "4    winner  CAN3     4.0          4.0   3.0       NaN     NaN          NaN   \n",
       "\n",
       "   Rusical  \n",
       "0      NaN  \n",
       "1      NaN  \n",
       "2      NaN  \n",
       "3      0.0  \n",
       "4      0.0  "
      ]
     },
     "execution_count": 35,
     "metadata": {},
     "output_type": "execute_result"
    }
   ],
   "source": [
    "df_score.head()"
   ]
  },
  {
   "cell_type": "markdown",
   "metadata": {
    "id": "i2bH73IK4_Z2"
   },
   "source": [
    "# **References**"
   ]
  },
  {
   "cell_type": "code",
   "execution_count": null,
   "metadata": {
    "id": "vuJErFAP5CHu"
   },
   "outputs": [],
   "source": []
  }
 ],
 "metadata": {
  "colab": {
   "authorship_tag": "ABX9TyNl8yGGgRPIQJF26wcDNzFD",
   "collapsed_sections": [
    "ppFAnb9My2ZV",
    "ohCExKZ4y2jN",
    "xHXvwKOdy2qv",
    "bOmp84vdy2xi",
    "1xhhYdY5zQXO",
    "leSuwgFlzRfk",
    "cau2aFTizRny",
    "RCZGlrwFGMK6",
    "YxdYSmUNJEZj",
    "sBwZs9vTm_ls",
    "4qVk5PTvzq4w",
    "p1qyD5eozuY7",
    "GfyASe1kzvJ8",
    "GHCV--QQzvdG",
    "JbyUbdrR47eH",
    "i2bH73IK4_Z2"
   ],
   "include_colab_link": true,
   "provenance": []
  },
  "kernelspec": {
   "display_name": "Python 3",
   "language": "python",
   "name": "python3"
  },
  "language_info": {
   "codemirror_mode": {
    "name": "ipython",
    "version": 3
   },
   "file_extension": ".py",
   "mimetype": "text/x-python",
   "name": "python",
   "nbconvert_exporter": "python",
   "pygments_lexer": "ipython3",
   "version": "3.8.8"
  }
 },
 "nbformat": 4,
 "nbformat_minor": 4
}
