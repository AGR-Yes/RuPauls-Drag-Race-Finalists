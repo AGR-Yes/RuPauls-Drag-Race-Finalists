{
  "cells": [
    {
      "cell_type": "markdown",
      "metadata": {
        "colab_type": "text",
        "id": "view-in-github"
      },
      "source": [
        "<a href=\"https://colab.research.google.com/github/AGR-Yes/RuPauls-Drag-Race-Winner-Prediction/blob/main/RPDR_Winner_Prediction.ipynb\" target=\"_parent\"><img src=\"https://colab.research.google.com/assets/colab-badge.svg\" alt=\"Open In Colab\"/></a>"
      ]
    },
    {
      "cell_type": "markdown",
      "metadata": {
        "id": "AZzyIv8tAIIH"
      },
      "source": [
        "# RuPaul's Drag Race Winner Prediciton\n",
        "\n",
        "**Author:** Anton Reyes"
      ]
    },
    {
      "cell_type": "markdown",
      "metadata": {
        "id": "ppFAnb9My2ZV"
      },
      "source": [
        "## **Introduction**"
      ]
    },
    {
      "cell_type": "markdown",
      "metadata": {
        "id": "ohCExKZ4y2jN"
      },
      "source": [
        "### **Requirements and Imports**"
      ]
    },
    {
      "cell_type": "markdown",
      "metadata": {
        "id": "xHXvwKOdy2qv"
      },
      "source": [
        "#### **Imports**"
      ]
    },
    {
      "cell_type": "markdown",
      "metadata": {
        "id": "McPgWjwsglQw"
      },
      "source": [
        "**Basic Libraries**\n",
        "\n",
        "* `numpy` contains a large collection of mathematical functions\n",
        "* `pandas` contains functions that are designed for data manipulation and data analysis\n",
        "\n"
      ]
    },
    {
      "cell_type": "code",
      "execution_count": 1,
      "metadata": {
        "id": "82rNPPaTpyfe"
      },
      "outputs": [],
      "source": [
        "import numpy as np\n",
        "import pandas as pd"
      ]
    },
    {
      "cell_type": "markdown",
      "metadata": {
        "id": "HjRvGoC9g_25"
      },
      "source": [
        "**Visualization Libraries**\n",
        "\n",
        "* `matplotlib.pyplot` contains functions to create interactive plots\n",
        "* `seaborn` is a library based on matplotlib that allows for data visualization\n",
        "* `wordcloud` contains functions for generating wordclouds from text data"
      ]
    },
    {
      "cell_type": "code",
      "execution_count": 3,
      "metadata": {
        "id": "5YGgFzaZp1MO"
      },
      "outputs": [],
      "source": [
        "import matplotlib.pyplot as plt\n",
        "import seaborn as sns\n",
        "#from wordcloud import WordCloud\n",
        "#from wordcloud import ImageColorGenerator"
      ]
    },
    {
      "cell_type": "markdown",
      "metadata": {
        "id": "mUGR_tXwiDhV"
      },
      "source": [
        "**Natural Language Processing Libraries**\n",
        "* `re` is a module that allows the use of regular expressions\n",
        "* `nltk` provides functions for processing text data\n",
        "* `Counter` is from Python's collections module, which is helpful for tokenization\n",
        "* `string` contains functions for string operations"
      ]
    },
    {
      "cell_type": "code",
      "execution_count": 4,
      "metadata": {
        "id": "Ka0AZNlQp_xU"
      },
      "outputs": [],
      "source": [
        "import re\n",
        "#import nltk\n",
        "#from nltk.stem import WordNetLemmatizer\n",
        "#from nltk.corpus import stopwords\n",
        "#from nltk.tokenize import RegexpTokenizer\n",
        "#from nltk.probability import FreqDist\n",
        "#from nltk.stem import WordNetLemmatizer\n",
        "#from collections import Counter\n",
        "import string\n"
      ]
    },
    {
      "cell_type": "markdown",
      "metadata": {
        "id": "riB5SpFCpWPj"
      },
      "source": [
        "**Google Drive**\n",
        "* `google.colab` a library that allows the colab notebook to mount the google drive"
      ]
    },
    {
      "cell_type": "code",
      "execution_count": null,
      "metadata": {
        "colab": {
          "base_uri": "https://localhost:8080/"
        },
        "id": "ISceA7sdpasq",
        "outputId": "b0e19bb9-863c-4f38-bf7f-972a86b0719b"
      },
      "outputs": [
        {
          "name": "stdout",
          "output_type": "stream",
          "text": [
            "Drive already mounted at /content/drive; to attempt to forcibly remount, call drive.mount(\"/content/drive\", force_remount=True).\n"
          ]
        }
      ],
      "source": [
        "#from google.colab import drive\n",
        "#drive.mount('/content/drive')"
      ]
    },
    {
      "cell_type": "markdown",
      "metadata": {
        "id": "wS-PzIoIzHd9"
      },
      "source": [
        "#### **Datasets and Files**"
      ]
    },
    {
      "cell_type": "markdown",
      "metadata": {
        "id": "0r6nOJHZ9uPh"
      },
      "source": [
        "The following ``csv` file was used for this project:\n",
        "\n",
        "- `RPDR Database_winner.csv` contains all the winners of the Drag Race franchise as well as the placements of each winner in certain maxi (major) challenges. This dataset also contains the final four of some Drag Race franchises as of March 31, 2023."
      ]
    },
    {
      "attachments": {},
      "cell_type": "markdown",
      "metadata": {
        "id": "bOmp84vdy2xi"
      },
      "source": [
        "## **Data Collection**"
      ]
    },
    {
      "cell_type": "markdown",
      "metadata": {
        "id": "v2y2p0DU-f0l"
      },
      "source": [
        "Importing the dataset"
      ]
    },
    {
      "cell_type": "code",
      "execution_count": 5,
      "metadata": {
        "colab": {
          "base_uri": "https://localhost:8080/",
          "height": 357
        },
        "id": "j4WSmzN3-LLl",
        "outputId": "08b81354-d39b-49d0-989a-9a1f10a53f44"
      },
      "outputs": [
        {
          "data": {
            "text/html": [
              "<div>\n",
              "<style scoped>\n",
              "    .dataframe tbody tr th:only-of-type {\n",
              "        vertical-align: middle;\n",
              "    }\n",
              "\n",
              "    .dataframe tbody tr th {\n",
              "        vertical-align: top;\n",
              "    }\n",
              "\n",
              "    .dataframe thead th {\n",
              "        text-align: right;\n",
              "    }\n",
              "</style>\n",
              "<table border=\"1\" class=\"dataframe\">\n",
              "  <thead>\n",
              "    <tr style=\"text-align: right;\">\n",
              "      <th></th>\n",
              "      <th>Placement</th>\n",
              "      <th>Country</th>\n",
              "      <th>Season</th>\n",
              "      <th>Queen</th>\n",
              "      <th>Design</th>\n",
              "      <th>Snatch Game</th>\n",
              "      <th>Ball</th>\n",
              "      <th>Makeover</th>\n",
              "      <th>Acting</th>\n",
              "      <th>Girl Groups</th>\n",
              "      <th>Rusical</th>\n",
              "      <th>Unnamed: 11</th>\n",
              "      <th>Unnamed: 12</th>\n",
              "    </tr>\n",
              "  </thead>\n",
              "  <tbody>\n",
              "    <tr>\n",
              "      <th>0</th>\n",
              "      <td>winner</td>\n",
              "      <td>AUS</td>\n",
              "      <td>1</td>\n",
              "      <td>Kita Mean</td>\n",
              "      <td>SAFE</td>\n",
              "      <td>HIGH</td>\n",
              "      <td>NaN</td>\n",
              "      <td>WIN</td>\n",
              "      <td>NaN</td>\n",
              "      <td>HIGH</td>\n",
              "      <td>NaN</td>\n",
              "      <td>NaN</td>\n",
              "      <td>4</td>\n",
              "    </tr>\n",
              "    <tr>\n",
              "      <th>1</th>\n",
              "      <td>winner</td>\n",
              "      <td>AUS</td>\n",
              "      <td>2</td>\n",
              "      <td>Spankie Jackzon</td>\n",
              "      <td>BTM</td>\n",
              "      <td>HIGH</td>\n",
              "      <td>NaN</td>\n",
              "      <td>HIGH</td>\n",
              "      <td>WIN</td>\n",
              "      <td>WIN</td>\n",
              "      <td>NaN</td>\n",
              "      <td>NaN</td>\n",
              "      <td>5</td>\n",
              "    </tr>\n",
              "    <tr>\n",
              "      <th>2</th>\n",
              "      <td>winner</td>\n",
              "      <td>CAN</td>\n",
              "      <td>1</td>\n",
              "      <td>Priyanka</td>\n",
              "      <td>SAFE</td>\n",
              "      <td>BTM</td>\n",
              "      <td>SAFE</td>\n",
              "      <td>WIN</td>\n",
              "      <td>HIGH</td>\n",
              "      <td>WIN</td>\n",
              "      <td>NaN</td>\n",
              "      <td>NaN</td>\n",
              "      <td>6</td>\n",
              "    </tr>\n",
              "    <tr>\n",
              "      <th>3</th>\n",
              "      <td>winner</td>\n",
              "      <td>CAN</td>\n",
              "      <td>2</td>\n",
              "      <td>Icesis Couture</td>\n",
              "      <td>WIN</td>\n",
              "      <td>SAFE</td>\n",
              "      <td>WIN</td>\n",
              "      <td>BTM</td>\n",
              "      <td>SAFE</td>\n",
              "      <td>HIGH</td>\n",
              "      <td>BTM</td>\n",
              "      <td>ALL 7</td>\n",
              "      <td>7</td>\n",
              "    </tr>\n",
              "    <tr>\n",
              "      <th>4</th>\n",
              "      <td>winner</td>\n",
              "      <td>CAN</td>\n",
              "      <td>3</td>\n",
              "      <td>Gisele Lullaby</td>\n",
              "      <td>WIN</td>\n",
              "      <td>WIN</td>\n",
              "      <td>HIGH</td>\n",
              "      <td>NaN</td>\n",
              "      <td>NaN</td>\n",
              "      <td>NaN</td>\n",
              "      <td>BTM</td>\n",
              "      <td>NaN</td>\n",
              "      <td>4</td>\n",
              "    </tr>\n",
              "  </tbody>\n",
              "</table>\n",
              "</div>"
            ],
            "text/plain": [
              "  Placement Country  Season            Queen Design Snatch Game  Ball  \\\n",
              "0    winner     AUS       1        Kita Mean   SAFE        HIGH   NaN   \n",
              "1    winner     AUS       2  Spankie Jackzon    BTM        HIGH   NaN   \n",
              "2    winner     CAN       1         Priyanka   SAFE         BTM  SAFE   \n",
              "3    winner     CAN       2   Icesis Couture    WIN        SAFE   WIN   \n",
              "4    winner     CAN       3   Gisele Lullaby    WIN         WIN  HIGH   \n",
              "\n",
              "  Makeover Acting Girl Groups Rusical Unnamed: 11  Unnamed: 12  \n",
              "0      WIN    NaN        HIGH     NaN         NaN            4  \n",
              "1     HIGH    WIN         WIN     NaN         NaN            5  \n",
              "2      WIN   HIGH         WIN     NaN         NaN            6  \n",
              "3      BTM   SAFE        HIGH     BTM       ALL 7            7  \n",
              "4      NaN    NaN         NaN     BTM         NaN            4  "
            ]
          },
          "execution_count": 5,
          "metadata": {},
          "output_type": "execute_result"
        }
      ],
      "source": [
        "url = \"https://raw.githubusercontent.com/AGR-Yes/RuPauls-Drag-Race-Winner-Prediction/main/RPDR_Winners_2023.csv?token=GHSAT0AAAAAACAXZ3YRNZFMQSK64PVJ7FQIZBKZJAQ\"\n",
        "\n",
        "df = pd.read_csv(url)\n",
        "df.head()"
      ]
    },
    {
      "attachments": {},
      "cell_type": "markdown",
      "metadata": {
        "id": "1xhhYdY5zQXO"
      },
      "source": [
        "## **Description of the Dataset**"
      ]
    },
    {
      "cell_type": "markdown",
      "metadata": {
        "id": "hkE6cv_fEVJb"
      },
      "source": [
        "Here, we find the shape of the dataset."
      ]
    },
    {
      "cell_type": "code",
      "execution_count": 6,
      "metadata": {
        "colab": {
          "base_uri": "https://localhost:8080/"
        },
        "id": "xjCI2jZ--klz",
        "outputId": "1c310bc7-c2e0-4c67-d8cb-a7d4a94dd35e"
      },
      "outputs": [
        {
          "data": {
            "text/plain": [
              "(51, 13)"
            ]
          },
          "execution_count": 6,
          "metadata": {},
          "output_type": "execute_result"
        }
      ],
      "source": [
        "df.shape"
      ]
    },
    {
      "cell_type": "markdown",
      "metadata": {
        "id": "b4xXJAoPEXau"
      },
      "source": [
        "By looking at the `info` of the dataframe, we can see that there are `non-null` values. "
      ]
    },
    {
      "cell_type": "code",
      "execution_count": 7,
      "metadata": {
        "colab": {
          "base_uri": "https://localhost:8080/"
        },
        "id": "Cd5-JeX--oNp",
        "outputId": "4b766982-da04-47ab-a2b3-92e82488a2f6"
      },
      "outputs": [
        {
          "name": "stdout",
          "output_type": "stream",
          "text": [
            "<class 'pandas.core.frame.DataFrame'>\n",
            "RangeIndex: 51 entries, 0 to 50\n",
            "Data columns (total 13 columns):\n",
            " #   Column       Non-Null Count  Dtype \n",
            "---  ------       --------------  ----- \n",
            " 0   Placement    51 non-null     object\n",
            " 1   Country      51 non-null     object\n",
            " 2   Season       51 non-null     int64 \n",
            " 3   Queen        51 non-null     object\n",
            " 4   Design       36 non-null     object\n",
            " 5   Snatch Game  50 non-null     object\n",
            " 6   Ball         36 non-null     object\n",
            " 7   Makeover     41 non-null     object\n",
            " 8   Acting       40 non-null     object\n",
            " 9   Girl Groups  25 non-null     object\n",
            " 10  Rusical      28 non-null     object\n",
            " 11  Unnamed: 11  7 non-null      object\n",
            " 12  Unnamed: 12  51 non-null     int64 \n",
            "dtypes: int64(2), object(11)\n",
            "memory usage: 5.3+ KB\n"
          ]
        }
      ],
      "source": [
        "df.info()"
      ]
    },
    {
      "cell_type": "markdown",
      "metadata": {
        "id": "LPsdf1GvE8aL"
      },
      "source": [
        "By displaying the number of queens and the placements, we can confirm that there are 51 contestants and rows to be worked on. \n",
        "\n",
        "But by looking at the information above, there are columns (maxi-challenges) that show null values. This is because not all of the stated-maxi challenges are in every season and franchise of Drag Race."
      ]
    },
    {
      "cell_type": "code",
      "execution_count": 8,
      "metadata": {
        "colab": {
          "base_uri": "https://localhost:8080/",
          "height": 0
        },
        "id": "ZIZOj3T3-wMi",
        "outputId": "196d388a-bd9e-46d1-f256-fb9693db222a"
      },
      "outputs": [
        {
          "name": "stdout",
          "output_type": "stream",
          "text": [
            "Number of Queens: 51\n"
          ]
        },
        {
          "data": {
            "text/plain": [
              "winner    43\n",
              "final      8\n",
              "Name: Placement, dtype: int64"
            ]
          },
          "metadata": {},
          "output_type": "display_data"
        },
        {
          "data": {
            "text/plain": [
              "None"
            ]
          },
          "metadata": {},
          "output_type": "display_data"
        }
      ],
      "source": [
        "display(df['Placement'].value_counts(), print('Number of Queens:', df['Placement'].count()))"
      ]
    },
    {
      "attachments": {},
      "cell_type": "markdown",
      "metadata": {
        "id": "leSuwgFlzRfk"
      },
      "source": [
        "## **Exploratory Data Analysis**"
      ]
    },
    {
      "attachments": {},
      "cell_type": "markdown",
      "metadata": {},
      "source": [
        "The following questions are asked to guide the EDA.\n",
        "\n",
        "1. How many placements are there per challenge column?\n",
        "2. What is the most occurring placement per challenge?\n",
        "3. Which challenge has the most complete appearances? Which had the least?\n",
        "4. What is the most number of challenges per season? How many is the least?\n",
        "5. What is the average number of *notable* challenges per season?"
      ]
    },
    {
      "attachments": {},
      "cell_type": "markdown",
      "metadata": {},
      "source": [
        "### **1. How many placements are there per challenge column?**"
      ]
    },
    {
      "cell_type": "code",
      "execution_count": null,
      "metadata": {},
      "outputs": [],
      "source": []
    },
    {
      "attachments": {},
      "cell_type": "markdown",
      "metadata": {},
      "source": [
        "### **2. What is the most occurring placement per challenge?**"
      ]
    },
    {
      "cell_type": "code",
      "execution_count": null,
      "metadata": {},
      "outputs": [],
      "source": []
    },
    {
      "attachments": {},
      "cell_type": "markdown",
      "metadata": {},
      "source": [
        "### **3. Which challenge has the most complete appearances? Which had the least?**"
      ]
    },
    {
      "cell_type": "code",
      "execution_count": null,
      "metadata": {},
      "outputs": [],
      "source": []
    },
    {
      "attachments": {},
      "cell_type": "markdown",
      "metadata": {},
      "source": [
        "### **4. What is the most number of challenges per season? How many is the least?**"
      ]
    },
    {
      "cell_type": "code",
      "execution_count": null,
      "metadata": {},
      "outputs": [],
      "source": []
    },
    {
      "attachments": {},
      "cell_type": "markdown",
      "metadata": {},
      "source": [
        "### **5. What is the average number of *notable* challenges per season?**"
      ]
    },
    {
      "cell_type": "code",
      "execution_count": null,
      "metadata": {},
      "outputs": [],
      "source": []
    },
    {
      "attachments": {},
      "cell_type": "markdown",
      "metadata": {
        "id": "cau2aFTizRny"
      },
      "source": [
        "## **Data Preprocessing**"
      ]
    },
    {
      "attachments": {},
      "cell_type": "markdown",
      "metadata": {
        "id": "r_K5_I_oF4au"
      },
      "source": [
        "#### **Data Preprocessing**"
      ]
    },
    {
      "attachments": {},
      "cell_type": "markdown",
      "metadata": {
        "id": "RCZGlrwFGMK6"
      },
      "source": [
        "##### **Dropping of Columns**"
      ]
    },
    {
      "cell_type": "markdown",
      "metadata": {
        "id": "Q7J3LOu6GGzV"
      },
      "source": [
        "Before dropping any columns, we first get the column names."
      ]
    },
    {
      "cell_type": "code",
      "execution_count": null,
      "metadata": {
        "colab": {
          "base_uri": "https://localhost:8080/"
        },
        "id": "iVWWfKPpGE43",
        "outputId": "10e5c4f0-78ab-4727-8557-f698ff1d0f80"
      },
      "outputs": [
        {
          "data": {
            "text/plain": [
              "Index(['Placement', 'Country', 'Season', 'Queen', 'Design', 'Snatch Game',\n",
              "       'Ball', 'Makeover', 'Acting', 'Girl Groups', 'Rusical', 'Unnamed: 11',\n",
              "       'Unnamed: 12'],\n",
              "      dtype='object')"
            ]
          },
          "execution_count": 7,
          "metadata": {},
          "output_type": "execute_result"
        }
      ],
      "source": [
        "df.columns"
      ]
    },
    {
      "cell_type": "markdown",
      "metadata": {
        "id": "X5wCs4MzF7ck"
      },
      "source": [
        "We drop the columns that would not be needed further in the analysis."
      ]
    },
    {
      "cell_type": "code",
      "execution_count": null,
      "metadata": {
        "colab": {
          "base_uri": "https://localhost:8080/",
          "height": 0
        },
        "id": "YPFGeP5QF39o",
        "outputId": "b0ad93f9-589a-40d4-92fd-ba6b4bce4f4d"
      },
      "outputs": [
        {
          "data": {
            "text/html": [
              "\n",
              "  <div id=\"df-930d5b8d-f964-4b79-af36-cafc604e8229\">\n",
              "    <div class=\"colab-df-container\">\n",
              "      <div>\n",
              "<style scoped>\n",
              "    .dataframe tbody tr th:only-of-type {\n",
              "        vertical-align: middle;\n",
              "    }\n",
              "\n",
              "    .dataframe tbody tr th {\n",
              "        vertical-align: top;\n",
              "    }\n",
              "\n",
              "    .dataframe thead th {\n",
              "        text-align: right;\n",
              "    }\n",
              "</style>\n",
              "<table border=\"1\" class=\"dataframe\">\n",
              "  <thead>\n",
              "    <tr style=\"text-align: right;\">\n",
              "      <th></th>\n",
              "      <th>Placement</th>\n",
              "      <th>Queen</th>\n",
              "      <th>Design</th>\n",
              "      <th>Snatch Game</th>\n",
              "      <th>Ball</th>\n",
              "      <th>Makeover</th>\n",
              "      <th>Acting</th>\n",
              "      <th>Girl Groups</th>\n",
              "      <th>Rusical</th>\n",
              "    </tr>\n",
              "  </thead>\n",
              "  <tbody>\n",
              "    <tr>\n",
              "      <th>0</th>\n",
              "      <td>winner</td>\n",
              "      <td>Kita Mean</td>\n",
              "      <td>SAFE</td>\n",
              "      <td>HIGH</td>\n",
              "      <td>NaN</td>\n",
              "      <td>WIN</td>\n",
              "      <td>NaN</td>\n",
              "      <td>HIGH</td>\n",
              "      <td>NaN</td>\n",
              "    </tr>\n",
              "    <tr>\n",
              "      <th>1</th>\n",
              "      <td>winner</td>\n",
              "      <td>Spankie Jackzon</td>\n",
              "      <td>BTM</td>\n",
              "      <td>HIGH</td>\n",
              "      <td>NaN</td>\n",
              "      <td>HIGH</td>\n",
              "      <td>WIN</td>\n",
              "      <td>WIN</td>\n",
              "      <td>NaN</td>\n",
              "    </tr>\n",
              "    <tr>\n",
              "      <th>2</th>\n",
              "      <td>winner</td>\n",
              "      <td>Priyanka</td>\n",
              "      <td>SAFE</td>\n",
              "      <td>BTM</td>\n",
              "      <td>SAFE</td>\n",
              "      <td>WIN</td>\n",
              "      <td>HIGH</td>\n",
              "      <td>WIN</td>\n",
              "      <td>NaN</td>\n",
              "    </tr>\n",
              "    <tr>\n",
              "      <th>3</th>\n",
              "      <td>winner</td>\n",
              "      <td>Icesis Couture</td>\n",
              "      <td>WIN</td>\n",
              "      <td>SAFE</td>\n",
              "      <td>WIN</td>\n",
              "      <td>BTM</td>\n",
              "      <td>SAFE</td>\n",
              "      <td>HIGH</td>\n",
              "      <td>BTM</td>\n",
              "    </tr>\n",
              "    <tr>\n",
              "      <th>4</th>\n",
              "      <td>winner</td>\n",
              "      <td>Gisele Lullaby</td>\n",
              "      <td>WIN</td>\n",
              "      <td>WIN</td>\n",
              "      <td>HIGH</td>\n",
              "      <td>NaN</td>\n",
              "      <td>NaN</td>\n",
              "      <td>NaN</td>\n",
              "      <td>BTM</td>\n",
              "    </tr>\n",
              "  </tbody>\n",
              "</table>\n",
              "</div>\n",
              "      <button class=\"colab-df-convert\" onclick=\"convertToInteractive('df-930d5b8d-f964-4b79-af36-cafc604e8229')\"\n",
              "              title=\"Convert this dataframe to an interactive table.\"\n",
              "              style=\"display:none;\">\n",
              "        \n",
              "  <svg xmlns=\"http://www.w3.org/2000/svg\" height=\"24px\"viewBox=\"0 0 24 24\"\n",
              "       width=\"24px\">\n",
              "    <path d=\"M0 0h24v24H0V0z\" fill=\"none\"/>\n",
              "    <path d=\"M18.56 5.44l.94 2.06.94-2.06 2.06-.94-2.06-.94-.94-2.06-.94 2.06-2.06.94zm-11 1L8.5 8.5l.94-2.06 2.06-.94-2.06-.94L8.5 2.5l-.94 2.06-2.06.94zm10 10l.94 2.06.94-2.06 2.06-.94-2.06-.94-.94-2.06-.94 2.06-2.06.94z\"/><path d=\"M17.41 7.96l-1.37-1.37c-.4-.4-.92-.59-1.43-.59-.52 0-1.04.2-1.43.59L10.3 9.45l-7.72 7.72c-.78.78-.78 2.05 0 2.83L4 21.41c.39.39.9.59 1.41.59.51 0 1.02-.2 1.41-.59l7.78-7.78 2.81-2.81c.8-.78.8-2.07 0-2.86zM5.41 20L4 18.59l7.72-7.72 1.47 1.35L5.41 20z\"/>\n",
              "  </svg>\n",
              "      </button>\n",
              "      \n",
              "  <style>\n",
              "    .colab-df-container {\n",
              "      display:flex;\n",
              "      flex-wrap:wrap;\n",
              "      gap: 12px;\n",
              "    }\n",
              "\n",
              "    .colab-df-convert {\n",
              "      background-color: #E8F0FE;\n",
              "      border: none;\n",
              "      border-radius: 50%;\n",
              "      cursor: pointer;\n",
              "      display: none;\n",
              "      fill: #1967D2;\n",
              "      height: 32px;\n",
              "      padding: 0 0 0 0;\n",
              "      width: 32px;\n",
              "    }\n",
              "\n",
              "    .colab-df-convert:hover {\n",
              "      background-color: #E2EBFA;\n",
              "      box-shadow: 0px 1px 2px rgba(60, 64, 67, 0.3), 0px 1px 3px 1px rgba(60, 64, 67, 0.15);\n",
              "      fill: #174EA6;\n",
              "    }\n",
              "\n",
              "    [theme=dark] .colab-df-convert {\n",
              "      background-color: #3B4455;\n",
              "      fill: #D2E3FC;\n",
              "    }\n",
              "\n",
              "    [theme=dark] .colab-df-convert:hover {\n",
              "      background-color: #434B5C;\n",
              "      box-shadow: 0px 1px 3px 1px rgba(0, 0, 0, 0.15);\n",
              "      filter: drop-shadow(0px 1px 2px rgba(0, 0, 0, 0.3));\n",
              "      fill: #FFFFFF;\n",
              "    }\n",
              "  </style>\n",
              "\n",
              "      <script>\n",
              "        const buttonEl =\n",
              "          document.querySelector('#df-930d5b8d-f964-4b79-af36-cafc604e8229 button.colab-df-convert');\n",
              "        buttonEl.style.display =\n",
              "          google.colab.kernel.accessAllowed ? 'block' : 'none';\n",
              "\n",
              "        async function convertToInteractive(key) {\n",
              "          const element = document.querySelector('#df-930d5b8d-f964-4b79-af36-cafc604e8229');\n",
              "          const dataTable =\n",
              "            await google.colab.kernel.invokeFunction('convertToInteractive',\n",
              "                                                     [key], {});\n",
              "          if (!dataTable) return;\n",
              "\n",
              "          const docLinkHtml = 'Like what you see? Visit the ' +\n",
              "            '<a target=\"_blank\" href=https://colab.research.google.com/notebooks/data_table.ipynb>data table notebook</a>'\n",
              "            + ' to learn more about interactive tables.';\n",
              "          element.innerHTML = '';\n",
              "          dataTable['output_type'] = 'display_data';\n",
              "          await google.colab.output.renderOutput(dataTable, element);\n",
              "          const docLink = document.createElement('div');\n",
              "          docLink.innerHTML = docLinkHtml;\n",
              "          element.appendChild(docLink);\n",
              "        }\n",
              "      </script>\n",
              "    </div>\n",
              "  </div>\n",
              "  "
            ],
            "text/plain": [
              "  Placement            Queen Design Snatch Game  Ball Makeover Acting  \\\n",
              "0    winner        Kita Mean   SAFE        HIGH   NaN      WIN    NaN   \n",
              "1    winner  Spankie Jackzon    BTM        HIGH   NaN     HIGH    WIN   \n",
              "2    winner         Priyanka   SAFE         BTM  SAFE      WIN   HIGH   \n",
              "3    winner   Icesis Couture    WIN        SAFE   WIN      BTM   SAFE   \n",
              "4    winner   Gisele Lullaby    WIN         WIN  HIGH      NaN    NaN   \n",
              "\n",
              "  Girl Groups Rusical  \n",
              "0        HIGH     NaN  \n",
              "1         WIN     NaN  \n",
              "2         WIN     NaN  \n",
              "3        HIGH     BTM  \n",
              "4         NaN     BTM  "
            ]
          },
          "execution_count": 8,
          "metadata": {},
          "output_type": "execute_result"
        }
      ],
      "source": [
        "drop_col = [ \"Country\", \"Season\", 'Unnamed: 11', 'Unnamed: 12']\n",
        "\n",
        "df = df.drop(drop_col, axis = 1)\n",
        "\n",
        "df.head()"
      ]
    },
    {
      "cell_type": "markdown",
      "metadata": {
        "id": "YxdYSmUNJEZj"
      },
      "source": [
        "##### **Column Conversion**\n",
        "\n",
        "This column conversion is mainly to convert the categorical data. This isn't affecting the main dataframe, but rather a copy of it. "
      ]
    },
    {
      "cell_type": "markdown",
      "metadata": {
        "id": "wOSLZU5VJkBE"
      },
      "source": [
        "Before converting any objects to integer values, first we check the kinds of placements available. Since the `Snatch Game` column has the most values in terms of placement, that will be used."
      ]
    },
    {
      "cell_type": "code",
      "execution_count": null,
      "metadata": {
        "colab": {
          "base_uri": "https://localhost:8080/"
        },
        "id": "fVm7tfJfJlUY",
        "outputId": "8df5e410-aa74-437a-8c68-60c4069c104e"
      },
      "outputs": [
        {
          "name": "stdout",
          "output_type": "stream",
          "text": [
            "['HIGH' 'BTM' 'SAFE' 'WIN' 'LOW' nan]\n"
          ]
        }
      ],
      "source": [
        "print(df['Snatch Game'].unique())"
      ]
    },
    {
      "cell_type": "markdown",
      "metadata": {
        "id": "usNQGfjPKHM7"
      },
      "source": [
        "Now that we have the placements, we map the values accordingly and assign a certain score through a copy. Another copy will be made for one hot encoded dataset."
      ]
    },
    {
      "cell_type": "code",
      "execution_count": null,
      "metadata": {
        "id": "-4BSiWWBKGv2"
      },
      "outputs": [],
      "source": [
        "df_score = df.copy(deep = True) #score df\n",
        "df_ohe = df.copy(deep = True) #one hot encoded df"
      ]
    },
    {
      "cell_type": "code",
      "execution_count": null,
      "metadata": {
        "id": "nMkNFCovLR06"
      },
      "outputs": [],
      "source": [
        "col_list = df[['Design', 'Snatch Game', 'Ball', 'Makeover','Acting', 'Girl Groups', 'Rusical']].columns.tolist()"
      ]
    },
    {
      "cell_type": "markdown",
      "metadata": {
        "id": "KQJBX6vtKwrW"
      },
      "source": [
        " **Mapping the Scores per Placement**\n",
        "\n",
        "Here we map the scores based on placements"
      ]
    },
    {
      "cell_type": "code",
      "execution_count": null,
      "metadata": {
        "id": "m6n_8yorK9sw"
      },
      "outputs": [],
      "source": [
        "df_score[col_list] = df_score[col_list].replace({'WIN':4,\n",
        "                                 'HIGH':3,\n",
        "                                 'SAFE':2,\n",
        "                                 'LOW':1,\n",
        "                                 'BTM':0})"
      ]
    },
    {
      "cell_type": "code",
      "execution_count": null,
      "metadata": {
        "colab": {
          "base_uri": "https://localhost:8080/",
          "height": 0
        },
        "id": "E6OLdQPWOc53",
        "outputId": "b13bf237-da40-499a-f867-f1ee5e00acc1"
      },
      "outputs": [
        {
          "data": {
            "text/html": [
              "\n",
              "  <div id=\"df-a1b2147b-91af-4f67-9ac0-6b27bd53545f\">\n",
              "    <div class=\"colab-df-container\">\n",
              "      <div>\n",
              "<style scoped>\n",
              "    .dataframe tbody tr th:only-of-type {\n",
              "        vertical-align: middle;\n",
              "    }\n",
              "\n",
              "    .dataframe tbody tr th {\n",
              "        vertical-align: top;\n",
              "    }\n",
              "\n",
              "    .dataframe thead th {\n",
              "        text-align: right;\n",
              "    }\n",
              "</style>\n",
              "<table border=\"1\" class=\"dataframe\">\n",
              "  <thead>\n",
              "    <tr style=\"text-align: right;\">\n",
              "      <th></th>\n",
              "      <th>Placement</th>\n",
              "      <th>Queen</th>\n",
              "      <th>Design</th>\n",
              "      <th>Snatch Game</th>\n",
              "      <th>Ball</th>\n",
              "      <th>Makeover</th>\n",
              "      <th>Acting</th>\n",
              "      <th>Girl Groups</th>\n",
              "      <th>Rusical</th>\n",
              "    </tr>\n",
              "  </thead>\n",
              "  <tbody>\n",
              "    <tr>\n",
              "      <th>0</th>\n",
              "      <td>winner</td>\n",
              "      <td>Kita Mean</td>\n",
              "      <td>2.0</td>\n",
              "      <td>3.0</td>\n",
              "      <td>NaN</td>\n",
              "      <td>4.0</td>\n",
              "      <td>NaN</td>\n",
              "      <td>3.0</td>\n",
              "      <td>NaN</td>\n",
              "    </tr>\n",
              "    <tr>\n",
              "      <th>1</th>\n",
              "      <td>winner</td>\n",
              "      <td>Spankie Jackzon</td>\n",
              "      <td>0.0</td>\n",
              "      <td>3.0</td>\n",
              "      <td>NaN</td>\n",
              "      <td>3.0</td>\n",
              "      <td>4.0</td>\n",
              "      <td>4.0</td>\n",
              "      <td>NaN</td>\n",
              "    </tr>\n",
              "    <tr>\n",
              "      <th>2</th>\n",
              "      <td>winner</td>\n",
              "      <td>Priyanka</td>\n",
              "      <td>2.0</td>\n",
              "      <td>0.0</td>\n",
              "      <td>2.0</td>\n",
              "      <td>4.0</td>\n",
              "      <td>3.0</td>\n",
              "      <td>4.0</td>\n",
              "      <td>NaN</td>\n",
              "    </tr>\n",
              "    <tr>\n",
              "      <th>3</th>\n",
              "      <td>winner</td>\n",
              "      <td>Icesis Couture</td>\n",
              "      <td>4.0</td>\n",
              "      <td>2.0</td>\n",
              "      <td>4.0</td>\n",
              "      <td>0.0</td>\n",
              "      <td>2.0</td>\n",
              "      <td>3.0</td>\n",
              "      <td>0.0</td>\n",
              "    </tr>\n",
              "    <tr>\n",
              "      <th>4</th>\n",
              "      <td>winner</td>\n",
              "      <td>Gisele Lullaby</td>\n",
              "      <td>4.0</td>\n",
              "      <td>4.0</td>\n",
              "      <td>3.0</td>\n",
              "      <td>NaN</td>\n",
              "      <td>NaN</td>\n",
              "      <td>NaN</td>\n",
              "      <td>0.0</td>\n",
              "    </tr>\n",
              "  </tbody>\n",
              "</table>\n",
              "</div>\n",
              "      <button class=\"colab-df-convert\" onclick=\"convertToInteractive('df-a1b2147b-91af-4f67-9ac0-6b27bd53545f')\"\n",
              "              title=\"Convert this dataframe to an interactive table.\"\n",
              "              style=\"display:none;\">\n",
              "        \n",
              "  <svg xmlns=\"http://www.w3.org/2000/svg\" height=\"24px\"viewBox=\"0 0 24 24\"\n",
              "       width=\"24px\">\n",
              "    <path d=\"M0 0h24v24H0V0z\" fill=\"none\"/>\n",
              "    <path d=\"M18.56 5.44l.94 2.06.94-2.06 2.06-.94-2.06-.94-.94-2.06-.94 2.06-2.06.94zm-11 1L8.5 8.5l.94-2.06 2.06-.94-2.06-.94L8.5 2.5l-.94 2.06-2.06.94zm10 10l.94 2.06.94-2.06 2.06-.94-2.06-.94-.94-2.06-.94 2.06-2.06.94z\"/><path d=\"M17.41 7.96l-1.37-1.37c-.4-.4-.92-.59-1.43-.59-.52 0-1.04.2-1.43.59L10.3 9.45l-7.72 7.72c-.78.78-.78 2.05 0 2.83L4 21.41c.39.39.9.59 1.41.59.51 0 1.02-.2 1.41-.59l7.78-7.78 2.81-2.81c.8-.78.8-2.07 0-2.86zM5.41 20L4 18.59l7.72-7.72 1.47 1.35L5.41 20z\"/>\n",
              "  </svg>\n",
              "      </button>\n",
              "      \n",
              "  <style>\n",
              "    .colab-df-container {\n",
              "      display:flex;\n",
              "      flex-wrap:wrap;\n",
              "      gap: 12px;\n",
              "    }\n",
              "\n",
              "    .colab-df-convert {\n",
              "      background-color: #E8F0FE;\n",
              "      border: none;\n",
              "      border-radius: 50%;\n",
              "      cursor: pointer;\n",
              "      display: none;\n",
              "      fill: #1967D2;\n",
              "      height: 32px;\n",
              "      padding: 0 0 0 0;\n",
              "      width: 32px;\n",
              "    }\n",
              "\n",
              "    .colab-df-convert:hover {\n",
              "      background-color: #E2EBFA;\n",
              "      box-shadow: 0px 1px 2px rgba(60, 64, 67, 0.3), 0px 1px 3px 1px rgba(60, 64, 67, 0.15);\n",
              "      fill: #174EA6;\n",
              "    }\n",
              "\n",
              "    [theme=dark] .colab-df-convert {\n",
              "      background-color: #3B4455;\n",
              "      fill: #D2E3FC;\n",
              "    }\n",
              "\n",
              "    [theme=dark] .colab-df-convert:hover {\n",
              "      background-color: #434B5C;\n",
              "      box-shadow: 0px 1px 3px 1px rgba(0, 0, 0, 0.15);\n",
              "      filter: drop-shadow(0px 1px 2px rgba(0, 0, 0, 0.3));\n",
              "      fill: #FFFFFF;\n",
              "    }\n",
              "  </style>\n",
              "\n",
              "      <script>\n",
              "        const buttonEl =\n",
              "          document.querySelector('#df-a1b2147b-91af-4f67-9ac0-6b27bd53545f button.colab-df-convert');\n",
              "        buttonEl.style.display =\n",
              "          google.colab.kernel.accessAllowed ? 'block' : 'none';\n",
              "\n",
              "        async function convertToInteractive(key) {\n",
              "          const element = document.querySelector('#df-a1b2147b-91af-4f67-9ac0-6b27bd53545f');\n",
              "          const dataTable =\n",
              "            await google.colab.kernel.invokeFunction('convertToInteractive',\n",
              "                                                     [key], {});\n",
              "          if (!dataTable) return;\n",
              "\n",
              "          const docLinkHtml = 'Like what you see? Visit the ' +\n",
              "            '<a target=\"_blank\" href=https://colab.research.google.com/notebooks/data_table.ipynb>data table notebook</a>'\n",
              "            + ' to learn more about interactive tables.';\n",
              "          element.innerHTML = '';\n",
              "          dataTable['output_type'] = 'display_data';\n",
              "          await google.colab.output.renderOutput(dataTable, element);\n",
              "          const docLink = document.createElement('div');\n",
              "          docLink.innerHTML = docLinkHtml;\n",
              "          element.appendChild(docLink);\n",
              "        }\n",
              "      </script>\n",
              "    </div>\n",
              "  </div>\n",
              "  "
            ],
            "text/plain": [
              "  Placement            Queen  Design  Snatch Game  Ball  Makeover  Acting  \\\n",
              "0    winner        Kita Mean     2.0          3.0   NaN       4.0     NaN   \n",
              "1    winner  Spankie Jackzon     0.0          3.0   NaN       3.0     4.0   \n",
              "2    winner         Priyanka     2.0          0.0   2.0       4.0     3.0   \n",
              "3    winner   Icesis Couture     4.0          2.0   4.0       0.0     2.0   \n",
              "4    winner   Gisele Lullaby     4.0          4.0   3.0       NaN     NaN   \n",
              "\n",
              "   Girl Groups  Rusical  \n",
              "0          3.0      NaN  \n",
              "1          4.0      NaN  \n",
              "2          4.0      NaN  \n",
              "3          3.0      0.0  \n",
              "4          NaN      0.0  "
            ]
          },
          "execution_count": 13,
          "metadata": {},
          "output_type": "execute_result"
        }
      ],
      "source": [
        "df_score.head()"
      ]
    },
    {
      "cell_type": "markdown",
      "metadata": {
        "id": "sBwZs9vTm_ls"
      },
      "source": [
        "##### **Count of Row**"
      ]
    },
    {
      "cell_type": "markdown",
      "metadata": {
        "id": "3wpaxArFnZ4I"
      },
      "source": [
        "This is to find out the number of episodes that are available in a season or that a contestant has participated in.\n",
        "\n",
        "Using the count function, we can count the number of non-null values."
      ]
    },
    {
      "cell_type": "code",
      "execution_count": null,
      "metadata": {
        "colab": {
          "base_uri": "https://localhost:8080/"
        },
        "id": "PTG877YK3AQd",
        "outputId": "e67c7518-bb8f-495b-a29a-58c76449d3cd"
      },
      "outputs": [
        {
          "data": {
            "text/plain": [
              "0     4\n",
              "1     5\n",
              "2     6\n",
              "3     7\n",
              "4     4\n",
              "5     4\n",
              "6     5\n",
              "7     4\n",
              "8     5\n",
              "9     4\n",
              "10    5\n",
              "11    4\n",
              "12    5\n",
              "13    6\n",
              "14    3\n",
              "15    5\n",
              "16    5\n",
              "17    5\n",
              "18    4\n",
              "19    6\n",
              "20    3\n",
              "21    4\n",
              "22    5\n",
              "23    5\n",
              "24    5\n",
              "25    5\n",
              "26    7\n",
              "27    6\n",
              "28    7\n",
              "29    6\n",
              "30    6\n",
              "31    6\n",
              "32    4\n",
              "33    5\n",
              "34    5\n",
              "35    3\n",
              "36    4\n",
              "37    5\n",
              "38    5\n",
              "39    5\n",
              "40    4\n",
              "41    6\n",
              "42    5\n",
              "43    7\n",
              "44    7\n",
              "45    7\n",
              "46    7\n",
              "47    4\n",
              "48    4\n",
              "49    4\n",
              "50    4\n",
              "dtype: int64"
            ]
          },
          "execution_count": 14,
          "metadata": {},
          "output_type": "execute_result"
        }
      ],
      "source": [
        "df[col_list].count(axis = 'columns')"
      ]
    },
    {
      "cell_type": "markdown",
      "metadata": {
        "id": "Uj3CegC53Whj"
      },
      "source": [
        "We add the counted values as a new column in `df_score`"
      ]
    },
    {
      "cell_type": "code",
      "execution_count": null,
      "metadata": {
        "id": "1pEucxsam_A7"
      },
      "outputs": [],
      "source": [
        "df_score['episode count'] = df[col_list].count(axis = 'columns')"
      ]
    },
    {
      "cell_type": "markdown",
      "metadata": {
        "id": "cw771Qvs4aDx"
      },
      "source": [
        "Describing the `episode count` column to see which number of episodes should be used when testing the data"
      ]
    },
    {
      "cell_type": "code",
      "execution_count": null,
      "metadata": {
        "colab": {
          "base_uri": "https://localhost:8080/"
        },
        "id": "qL3FL07922V7",
        "outputId": "db0f7ee1-182d-4a06-dce1-0f53d43c6c28"
      },
      "outputs": [
        {
          "data": {
            "text/plain": [
              "count    51.000000\n",
              "mean      5.019608\n",
              "std       1.122323\n",
              "min       3.000000\n",
              "25%       4.000000\n",
              "50%       5.000000\n",
              "75%       6.000000\n",
              "max       7.000000\n",
              "Name: episode count, dtype: float64"
            ]
          },
          "execution_count": 16,
          "metadata": {},
          "output_type": "execute_result"
        }
      ],
      "source": [
        "df_score['episode count'].describe()"
      ]
    },
    {
      "attachments": {},
      "cell_type": "markdown",
      "metadata": {
        "id": "uKjfefnEzRvg"
      },
      "source": [
        "### **Data Cleaning**"
      ]
    },
    {
      "cell_type": "markdown",
      "metadata": {
        "id": "2IPw41vJzkHY"
      },
      "source": [
        "### **Feature Extraction**"
      ]
    },
    {
      "cell_type": "markdown",
      "metadata": {
        "id": "4qVk5PTvzq4w"
      },
      "source": [
        "## **Modeling and Evaluation**"
      ]
    },
    {
      "attachments": {},
      "cell_type": "markdown",
      "metadata": {
        "id": "p1qyD5eozuY7"
      },
      "source": [
        "### **Modeling**"
      ]
    },
    {
      "cell_type": "markdown",
      "metadata": {
        "id": "3JVIMO-fzusA"
      },
      "source": [
        "#### **Model Training**"
      ]
    },
    {
      "cell_type": "markdown",
      "metadata": {
        "id": "4hfJTnGVzu7g"
      },
      "source": [
        "#### **Hyperparameter Training**"
      ]
    },
    {
      "attachments": {},
      "cell_type": "markdown",
      "metadata": {
        "id": "GfyASe1kzvJ8"
      },
      "source": [
        "### **Evaluation**"
      ]
    },
    {
      "attachments": {},
      "cell_type": "markdown",
      "metadata": {
        "id": "GHCV--QQzvdG"
      },
      "source": [
        "#### **Feature Importance**"
      ]
    },
    {
      "cell_type": "code",
      "execution_count": null,
      "metadata": {
        "id": "gez5bDNp4STZ"
      },
      "outputs": [],
      "source": []
    },
    {
      "attachments": {},
      "cell_type": "markdown",
      "metadata": {
        "id": "JbyUbdrR47eH"
      },
      "source": [
        "## **Conclusion**"
      ]
    },
    {
      "cell_type": "code",
      "execution_count": null,
      "metadata": {
        "id": "twy_u2a_4-md"
      },
      "outputs": [],
      "source": []
    },
    {
      "cell_type": "markdown",
      "metadata": {
        "id": "i2bH73IK4_Z2"
      },
      "source": [
        "# **References**"
      ]
    },
    {
      "cell_type": "code",
      "execution_count": null,
      "metadata": {
        "id": "vuJErFAP5CHu"
      },
      "outputs": [],
      "source": []
    }
  ],
  "metadata": {
    "colab": {
      "authorship_tag": "ABX9TyNl8yGGgRPIQJF26wcDNzFD",
      "collapsed_sections": [
        "ppFAnb9My2ZV",
        "ohCExKZ4y2jN",
        "xHXvwKOdy2qv",
        "bOmp84vdy2xi",
        "1xhhYdY5zQXO",
        "leSuwgFlzRfk",
        "cau2aFTizRny",
        "RCZGlrwFGMK6",
        "YxdYSmUNJEZj",
        "sBwZs9vTm_ls",
        "4qVk5PTvzq4w",
        "p1qyD5eozuY7",
        "GfyASe1kzvJ8",
        "GHCV--QQzvdG",
        "JbyUbdrR47eH",
        "i2bH73IK4_Z2"
      ],
      "include_colab_link": true,
      "provenance": []
    },
    "kernelspec": {
      "display_name": "Python 3",
      "name": "python3"
    },
    "language_info": {
      "codemirror_mode": {
        "name": "ipython",
        "version": 3
      },
      "file_extension": ".py",
      "mimetype": "text/x-python",
      "name": "python",
      "nbconvert_exporter": "python",
      "pygments_lexer": "ipython3",
      "version": "3.8.12"
    }
  },
  "nbformat": 4,
  "nbformat_minor": 0
}
