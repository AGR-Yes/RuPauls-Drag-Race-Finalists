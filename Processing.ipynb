{
 "cells": [
  {
   "attachments": {},
   "cell_type": "markdown",
   "metadata": {
    "id": "AZzyIv8tAIIH"
   },
   "source": [
    "# **You're A Winner, Baby!**\n",
    "\n",
    "**Author:** Anton Reyes"
   ]
  },
  {
   "cell_type": "markdown",
   "metadata": {
    "id": "ppFAnb9My2ZV"
   },
   "source": [
    "## **Introduction**"
   ]
  },
  {
   "cell_type": "markdown",
   "metadata": {
    "id": "ohCExKZ4y2jN"
   },
   "source": [
    "### **Requirements and Imports**"
   ]
  },
  {
   "cell_type": "markdown",
   "metadata": {
    "id": "xHXvwKOdy2qv"
   },
   "source": [
    "#### **Imports**"
   ]
  },
  {
   "cell_type": "markdown",
   "metadata": {
    "id": "McPgWjwsglQw"
   },
   "source": [
    "**Basic Libraries**\n",
    "\n",
    "* `numpy` contains a large collection of mathematical functions\n",
    "* `pandas` contains functions that are designed for data manipulation and data analysis"
   ]
  },
  {
   "cell_type": "code",
   "execution_count": 91,
   "metadata": {
    "id": "82rNPPaTpyfe"
   },
   "outputs": [],
   "source": [
    "import numpy as np\n",
    "import pandas as pd"
   ]
  },
  {
   "attachments": {},
   "cell_type": "markdown",
   "metadata": {
    "id": "HjRvGoC9g_25"
   },
   "source": [
    "**Visualization Libraries**\n",
    "\n",
    "* `matplotlib.pyplot` contains functions to create interactive plots\n",
    "* `seaborn` is a library based on matplotlib that allows for data visualization\n",
    "* `plotly` is an open-source graphing library for Python."
   ]
  },
  {
   "cell_type": "code",
   "execution_count": 92,
   "metadata": {
    "id": "5YGgFzaZp1MO"
   },
   "outputs": [],
   "source": [
    "import matplotlib.pyplot as plt\n",
    "import seaborn as sns\n",
    "import plotly.express as px"
   ]
  },
  {
   "attachments": {},
   "cell_type": "markdown",
   "metadata": {
    "id": "mUGR_tXwiDhV"
   },
   "source": [
    "**Natural Language Processing Libraries**\n",
    "* `re` is a module that allows the use of regular expressions"
   ]
  },
  {
   "cell_type": "code",
   "execution_count": 93,
   "metadata": {
    "id": "Ka0AZNlQp_xU"
   },
   "outputs": [],
   "source": [
    "import re"
   ]
  },
  {
   "cell_type": "markdown",
   "metadata": {
    "id": "wS-PzIoIzHd9"
   },
   "source": [
    "#### **Datasets and Files**"
   ]
  },
  {
   "attachments": {},
   "cell_type": "markdown",
   "metadata": {
    "id": "0r6nOJHZ9uPh"
   },
   "source": [
    "The following `csv` file was used for this project:\n",
    "\n",
    "- `finalists.csv` contains all the finalists of the Drag Race franchise as well as the placements of each contestant in their seasons. Finalists are as of April 22, 2023"
   ]
  },
  {
   "cell_type": "markdown",
   "metadata": {
    "id": "bOmp84vdy2xi"
   },
   "source": [
    "## **Data Collection**"
   ]
  },
  {
   "attachments": {},
   "cell_type": "markdown",
   "metadata": {
    "id": "v2y2p0DU-f0l"
   },
   "source": [
    "Importing the dataset using pandas."
   ]
  },
  {
   "cell_type": "code",
   "execution_count": 94,
   "metadata": {
    "colab": {
     "base_uri": "https://localhost:8080/",
     "height": 357
    },
    "id": "j4WSmzN3-LLl",
    "outputId": "08b81354-d39b-49d0-989a-9a1f10a53f44"
   },
   "outputs": [
    {
     "data": {
      "text/html": [
       "<div>\n",
       "<style scoped>\n",
       "    .dataframe tbody tr th:only-of-type {\n",
       "        vertical-align: middle;\n",
       "    }\n",
       "\n",
       "    .dataframe tbody tr th {\n",
       "        vertical-align: top;\n",
       "    }\n",
       "\n",
       "    .dataframe thead th {\n",
       "        text-align: right;\n",
       "    }\n",
       "</style>\n",
       "<table border=\"1\" class=\"dataframe\">\n",
       "  <thead>\n",
       "    <tr style=\"text-align: right;\">\n",
       "      <th></th>\n",
       "      <th>Rank WRE</th>\n",
       "      <th>Rank</th>\n",
       "      <th>Country</th>\n",
       "      <th>Season</th>\n",
       "      <th>Code</th>\n",
       "      <th>W/R/E</th>\n",
       "      <th>Queen</th>\n",
       "      <th>Z-Score</th>\n",
       "      <th>Percent</th>\n",
       "      <th>Score</th>\n",
       "      <th>...</th>\n",
       "      <th>Low</th>\n",
       "      <th>Safe</th>\n",
       "      <th>High</th>\n",
       "      <th>SWin</th>\n",
       "      <th>Win</th>\n",
       "      <th>LSA</th>\n",
       "      <th>T</th>\n",
       "      <th>Unnamed: 36</th>\n",
       "      <th>Unnamed: 37</th>\n",
       "      <th>Unnamed: 38</th>\n",
       "    </tr>\n",
       "  </thead>\n",
       "  <tbody>\n",
       "    <tr>\n",
       "      <th>0</th>\n",
       "      <td>NaN</td>\n",
       "      <td>NaN</td>\n",
       "      <td>NaN</td>\n",
       "      <td>NaN</td>\n",
       "      <td>NaN</td>\n",
       "      <td>NaN</td>\n",
       "      <td>NaN</td>\n",
       "      <td>NaN</td>\n",
       "      <td>NaN</td>\n",
       "      <td>NaN</td>\n",
       "      <td>...</td>\n",
       "      <td>-1</td>\n",
       "      <td>0</td>\n",
       "      <td>1</td>\n",
       "      <td>1.5</td>\n",
       "      <td>2</td>\n",
       "      <td>NaN</td>\n",
       "      <td>NaN</td>\n",
       "      <td>Never/--</td>\n",
       "      <td>Rank</td>\n",
       "      <td>Rank</td>\n",
       "    </tr>\n",
       "    <tr>\n",
       "      <th>1</th>\n",
       "      <td>18.0</td>\n",
       "      <td>8.0</td>\n",
       "      <td>US</td>\n",
       "      <td>AS1</td>\n",
       "      <td>US_AS1</td>\n",
       "      <td>W</td>\n",
       "      <td>Chad Michaels</td>\n",
       "      <td>0.47</td>\n",
       "      <td>100.00%</td>\n",
       "      <td>5.0</td>\n",
       "      <td>...</td>\n",
       "      <td>0</td>\n",
       "      <td>0</td>\n",
       "      <td>1</td>\n",
       "      <td>0.0</td>\n",
       "      <td>3</td>\n",
       "      <td>NaN</td>\n",
       "      <td>NaN</td>\n",
       "      <td>--</td>\n",
       "      <td>1,220</td>\n",
       "      <td>1</td>\n",
       "    </tr>\n",
       "    <tr>\n",
       "      <th>2</th>\n",
       "      <td>131.0</td>\n",
       "      <td>159.0</td>\n",
       "      <td>US</td>\n",
       "      <td>AS1</td>\n",
       "      <td>US_AS1</td>\n",
       "      <td>R</td>\n",
       "      <td>Raven</td>\n",
       "      <td>-2.26</td>\n",
       "      <td>-120.00%</td>\n",
       "      <td>-6.0</td>\n",
       "      <td>...</td>\n",
       "      <td>1</td>\n",
       "      <td>0</td>\n",
       "      <td>1</td>\n",
       "      <td>0.0</td>\n",
       "      <td>0</td>\n",
       "      <td>LSA</td>\n",
       "      <td>2.0</td>\n",
       "      <td>--</td>\n",
       "      <td>237</td>\n",
       "      <td>140</td>\n",
       "    </tr>\n",
       "    <tr>\n",
       "      <th>3</th>\n",
       "      <td>77.0</td>\n",
       "      <td>159.0</td>\n",
       "      <td>US</td>\n",
       "      <td>AS1</td>\n",
       "      <td>US_AS1</td>\n",
       "      <td>E</td>\n",
       "      <td>Jujubee</td>\n",
       "      <td>-2.26</td>\n",
       "      <td>-120.00%</td>\n",
       "      <td>-6.0</td>\n",
       "      <td>...</td>\n",
       "      <td>1</td>\n",
       "      <td>0</td>\n",
       "      <td>1</td>\n",
       "      <td>0.0</td>\n",
       "      <td>0</td>\n",
       "      <td>LSA</td>\n",
       "      <td>2.0</td>\n",
       "      <td>--</td>\n",
       "      <td>237</td>\n",
       "      <td>140</td>\n",
       "    </tr>\n",
       "    <tr>\n",
       "      <th>4</th>\n",
       "      <td>6.0</td>\n",
       "      <td>8.0</td>\n",
       "      <td>US</td>\n",
       "      <td>AS1</td>\n",
       "      <td>US_AS1</td>\n",
       "      <td>E</td>\n",
       "      <td>Shannel</td>\n",
       "      <td>0.47</td>\n",
       "      <td>100.00%</td>\n",
       "      <td>5.0</td>\n",
       "      <td>...</td>\n",
       "      <td>0</td>\n",
       "      <td>0</td>\n",
       "      <td>1</td>\n",
       "      <td>0.0</td>\n",
       "      <td>3</td>\n",
       "      <td>NaN</td>\n",
       "      <td>NaN</td>\n",
       "      <td>--</td>\n",
       "      <td>1,220</td>\n",
       "      <td>1</td>\n",
       "    </tr>\n",
       "  </tbody>\n",
       "</table>\n",
       "<p>5 rows × 39 columns</p>\n",
       "</div>"
      ],
      "text/plain": [
       "   Rank WRE   Rank Country Season    Code W/R/E          Queen  Z-Score  \\\n",
       "0       NaN    NaN     NaN    NaN     NaN   NaN            NaN      NaN   \n",
       "1      18.0    8.0      US    AS1  US_AS1     W  Chad Michaels     0.47   \n",
       "2     131.0  159.0      US    AS1  US_AS1     R          Raven    -2.26   \n",
       "3      77.0  159.0      US    AS1  US_AS1     E        Jujubee    -2.26   \n",
       "4       6.0    8.0      US    AS1  US_AS1     E        Shannel     0.47   \n",
       "\n",
       "    Percent  Score  ...  Low  Safe  High  SWin  Win  LSA    T  Unnamed: 36  \\\n",
       "0       NaN    NaN  ...   -1     0     1   1.5    2  NaN  NaN     Never/--   \n",
       "1   100.00%    5.0  ...    0     0     1   0.0    3  NaN  NaN           --   \n",
       "2  -120.00%   -6.0  ...    1     0     1   0.0    0  LSA  2.0           --   \n",
       "3  -120.00%   -6.0  ...    1     0     1   0.0    0  LSA  2.0           --   \n",
       "4   100.00%    5.0  ...    0     0     1   0.0    3  NaN  NaN           --   \n",
       "\n",
       "   Unnamed: 37  Unnamed: 38  \n",
       "0         Rank         Rank  \n",
       "1        1,220            1  \n",
       "2          237          140  \n",
       "3          237          140  \n",
       "4        1,220            1  \n",
       "\n",
       "[5 rows x 39 columns]"
      ]
     },
     "execution_count": 94,
     "metadata": {},
     "output_type": "execute_result"
    }
   ],
   "source": [
    "dataset = \"data/finalists.csv\"\n",
    "\n",
    "df = pd.read_csv(dataset)\n",
    "df.head()"
   ]
  },
  {
   "cell_type": "markdown",
   "metadata": {
    "id": "1xhhYdY5zQXO"
   },
   "source": [
    "## **Description of the Dataset**"
   ]
  },
  {
   "cell_type": "markdown",
   "metadata": {
    "id": "hkE6cv_fEVJb"
   },
   "source": [
    "Here, we find the shape of the dataset."
   ]
  },
  {
   "cell_type": "code",
   "execution_count": 95,
   "metadata": {
    "colab": {
     "base_uri": "https://localhost:8080/"
    },
    "id": "xjCI2jZ--klz",
    "outputId": "1c310bc7-c2e0-4c67-d8cb-a7d4a94dd35e"
   },
   "outputs": [
    {
     "data": {
      "text/plain": [
       "(161, 39)"
      ]
     },
     "execution_count": 95,
     "metadata": {},
     "output_type": "execute_result"
    }
   ],
   "source": [
    "df.shape"
   ]
  },
  {
   "cell_type": "markdown",
   "metadata": {
    "id": "b4xXJAoPEXau"
   },
   "source": [
    "By looking at the `info` of the dataframe, we can see that there are `non-null` values. "
   ]
  },
  {
   "cell_type": "code",
   "execution_count": 96,
   "metadata": {
    "colab": {
     "base_uri": "https://localhost:8080/"
    },
    "id": "Cd5-JeX--oNp",
    "outputId": "4b766982-da04-47ab-a2b3-92e82488a2f6"
   },
   "outputs": [
    {
     "name": "stdout",
     "output_type": "stream",
     "text": [
      "<class 'pandas.core.frame.DataFrame'>\n",
      "RangeIndex: 161 entries, 0 to 160\n",
      "Data columns (total 39 columns):\n",
      " #   Column       Non-Null Count  Dtype  \n",
      "---  ------       --------------  -----  \n",
      " 0   Rank WRE     160 non-null    float64\n",
      " 1   Rank         160 non-null    float64\n",
      " 2   Country      160 non-null    object \n",
      " 3   Season       160 non-null    object \n",
      " 4   Code         160 non-null    object \n",
      " 5   W/R/E        160 non-null    object \n",
      " 6   Queen        160 non-null    object \n",
      " 7   Z-Score      160 non-null    float64\n",
      " 8   Percent      160 non-null    object \n",
      " 9   Score        160 non-null    float64\n",
      " 10  Episode      160 non-null    float64\n",
      " 11  1            154 non-null    float64\n",
      " 12  2            154 non-null    float64\n",
      " 13  3            156 non-null    float64\n",
      " 14  4            160 non-null    float64\n",
      " 15  5            159 non-null    float64\n",
      " 16  6            142 non-null    float64\n",
      " 17  7            139 non-null    float64\n",
      " 18  8            93 non-null     float64\n",
      " 19  9            89 non-null     float64\n",
      " 20  10           51 non-null     float64\n",
      " 21  11           54 non-null     float64\n",
      " 22  12           43 non-null     float64\n",
      " 23  13           13 non-null     float64\n",
      " 24  14           9 non-null      float64\n",
      " 25  15           0 non-null      float64\n",
      " 26  Mean: 3.11   1 non-null      object \n",
      " 27  Unnamed: 27  0 non-null      float64\n",
      " 28  Bttm         161 non-null    int64  \n",
      " 29  Low          161 non-null    int64  \n",
      " 30  Safe         161 non-null    int64  \n",
      " 31  High         161 non-null    int64  \n",
      " 32  SWin         161 non-null    float64\n",
      " 33  Win          161 non-null    int64  \n",
      " 34  LSA          16 non-null     object \n",
      " 35  T            16 non-null     float64\n",
      " 36  Unnamed: 36  161 non-null    object \n",
      " 37  Unnamed: 37  161 non-null    object \n",
      " 38  Unnamed: 38  161 non-null    object \n",
      "dtypes: float64(23), int64(5), object(11)\n",
      "memory usage: 49.2+ KB\n"
     ]
    }
   ],
   "source": [
    "df.info()"
   ]
  },
  {
   "attachments": {},
   "cell_type": "markdown",
   "metadata": {},
   "source": [
    "The dataset itself contains the progress of all contestants in all the different franchises of Drag Race. That being said, the original file (in Google Sheets) contains more than 10 tabs for the different franchises, seasons, and countries - and it's still growing. \n",
    "\n",
    "Manually, I take the data/progess for each contestant that reach the final episode - the finalists. \n",
    "\n",
    "As we can see from the `Queen` column, there are 160 finalists regardless of season. This is because there are repeating finalists due to All-Star seasons. "
   ]
  },
  {
   "attachments": {},
   "cell_type": "markdown",
   "metadata": {
    "id": "leSuwgFlzRfk"
   },
   "source": [
    "## **Exploratory Data Analysis Part 1**"
   ]
  },
  {
   "attachments": {},
   "cell_type": "markdown",
   "metadata": {},
   "source": [
    "The following questions are asked to guide the EDA.\n",
    "\n",
    "1. How many finalists are there per class?\n",
    "2. How many unique values are there in the `Season` column?\n",
    "3. How many unique values are there in the `Country` column?\n",
    "4. What are measures of central tendency in the `Episode` column?"
   ]
  },
  {
   "attachments": {},
   "cell_type": "markdown",
   "metadata": {},
   "source": [
    "### **1. How many finalists are there per class?**"
   ]
  },
  {
   "attachments": {},
   "cell_type": "markdown",
   "metadata": {},
   "source": [
    "Before getting the number of contestants per class, we first define the classes:\n",
    "\n",
    "| Class | Meaning | Definition |\n",
    "|:---:|---| --- |\n",
    "| W | Winner | Contestant has won the season |\n",
    "| R | Runner-Up | Contestant became the runner-up or placed 2nd |\n",
    "| E | Elimenated | Contestant was elimenated at the finale and placed 3rd/4th |\n",
    "\n",
    "With that, we now get the total of contestants by counting them in the `W/R/E` column."
   ]
  },
  {
   "cell_type": "code",
   "execution_count": 97,
   "metadata": {},
   "outputs": [
    {
     "data": {
      "text/plain": [
       "W/R/E    160\n",
       "dtype: int64"
      ]
     },
     "execution_count": 97,
     "metadata": {},
     "output_type": "execute_result"
    }
   ],
   "source": [
    "df[[\"W/R/E\"]].count()"
   ]
  },
  {
   "attachments": {},
   "cell_type": "markdown",
   "metadata": {},
   "source": [
    "Now, we get the division of classes between all 160 contestants by printing the `.value_counts()` and summing it all up to measure."
   ]
  },
  {
   "cell_type": "code",
   "execution_count": 98,
   "metadata": {},
   "outputs": [
    {
     "name": "stdout",
     "output_type": "stream",
     "text": [
      "Division of classes: W/R/E\n",
      "R        69\n",
      "W        46\n",
      "E        45\n",
      "dtype: int64\n",
      "Sum of the classes: 160\n"
     ]
    }
   ],
   "source": [
    "print(\"Division of classes:\", df[[\"W/R/E\"]].value_counts())\n",
    "print(\"Sum of the classes:\", df[[\"W/R/E\"]].value_counts().sum())"
   ]
  },
  {
   "attachments": {},
   "cell_type": "markdown",
   "metadata": {},
   "source": [
    "### **2. How many unique values are there in the `Season` column?**"
   ]
  },
  {
   "attachments": {},
   "cell_type": "markdown",
   "metadata": {},
   "source": [
    "Similar to the previous question, we first get the count of seasons available."
   ]
  },
  {
   "cell_type": "code",
   "execution_count": 99,
   "metadata": {},
   "outputs": [
    {
     "data": {
      "text/plain": [
       "Season    160\n",
       "dtype: int64"
      ]
     },
     "execution_count": 99,
     "metadata": {},
     "output_type": "execute_result"
    }
   ],
   "source": [
    "df[['Season']].count()"
   ]
  },
  {
   "attachments": {},
   "cell_type": "markdown",
   "metadata": {},
   "source": [
    "From getting the value counts in the `Season` column, we can see that there are inconsistensies in the dataset. Here, we can take note of how to format the dataset when it comes to preprocessing the dataframe."
   ]
  },
  {
   "cell_type": "code",
   "execution_count": 100,
   "metadata": {},
   "outputs": [
    {
     "data": {
      "text/plain": [
       "Season\n",
       "1         26\n",
       "S1        24\n",
       "2         16\n",
       "S2        10\n",
       "3          7\n",
       "14         5\n",
       "15         4\n",
       "AS6        4\n",
       "S13        4\n",
       "S11        4\n",
       "AS7        4\n",
       "S10        4\n",
       "AS4        4\n",
       "AS3        4\n",
       "AS2        4\n",
       "AS1        4\n",
       "4          4\n",
       "S9         4\n",
       "AS5        3\n",
       "S12        3\n",
       "S3         3\n",
       "S4         3\n",
       "S5         3\n",
       "S6         3\n",
       "S7         3\n",
       "S8         3\n",
       "dtype: int64"
      ]
     },
     "execution_count": 100,
     "metadata": {},
     "output_type": "execute_result"
    }
   ],
   "source": [
    "df[['Season']].value_counts()"
   ]
  },
  {
   "attachments": {},
   "cell_type": "markdown",
   "metadata": {},
   "source": [
    "### **3. How many unique values are there in the `Country` column?**"
   ]
  },
  {
   "cell_type": "code",
   "execution_count": 101,
   "metadata": {},
   "outputs": [
    {
     "data": {
      "text/plain": [
       "Country    160\n",
       "dtype: int64"
      ]
     },
     "execution_count": 101,
     "metadata": {},
     "output_type": "execute_result"
    }
   ],
   "source": [
    "df[[\"Country\"]].count()"
   ]
  },
  {
   "attachments": {},
   "cell_type": "markdown",
   "metadata": {},
   "source": [
    "By seeing the value counts in the `Country` column, we can observer that there are multiple values. However, countries with `_WORLD` just classify them as a different country rather then a *type* of season. When in fact, `_WORLD` seasons are similar to an All Star season."
   ]
  },
  {
   "cell_type": "code",
   "execution_count": 102,
   "metadata": {},
   "outputs": [
    {
     "data": {
      "text/plain": [
       "Country  \n",
       "US           79\n",
       "UK           14\n",
       "CAN          10\n",
       "ESP           8\n",
       "AUS           7\n",
       "HOL           7\n",
       "ITA           7\n",
       "THI           6\n",
       "CAN_WORLD     4\n",
       "FRA           4\n",
       "PH            4\n",
       "UK_WORLD      4\n",
       "BEL           3\n",
       "SWE           3\n",
       "dtype: int64"
      ]
     },
     "execution_count": 102,
     "metadata": {},
     "output_type": "execute_result"
    }
   ],
   "source": [
    "df[[\"Country\"]].value_counts()"
   ]
  },
  {
   "attachments": {},
   "cell_type": "markdown",
   "metadata": {},
   "source": [
    "### **4. What are the measure of central tendency in the `Episode` column?**"
   ]
  },
  {
   "attachments": {},
   "cell_type": "markdown",
   "metadata": {},
   "source": [
    "First, we check the data type in the `Episode` column."
   ]
  },
  {
   "cell_type": "code",
   "execution_count": 103,
   "metadata": {},
   "outputs": [
    {
     "data": {
      "text/plain": [
       "dtype('float64')"
      ]
     },
     "execution_count": 103,
     "metadata": {},
     "output_type": "execute_result"
    }
   ],
   "source": [
    "df['Episode'].dtypes"
   ]
  },
  {
   "attachments": {},
   "cell_type": "markdown",
   "metadata": {},
   "source": [
    "Since the values in the episode column are floats, we can `describe` the column to get the inferential statistics."
   ]
  },
  {
   "cell_type": "code",
   "execution_count": 104,
   "metadata": {},
   "outputs": [
    {
     "data": {
      "text/plain": [
       "count    160.00000\n",
       "mean       8.81875\n",
       "std        2.40511\n",
       "min        5.00000\n",
       "25%        7.00000\n",
       "50%        9.00000\n",
       "75%       11.00000\n",
       "max       13.00000\n",
       "Name: Episode, dtype: float64"
      ]
     },
     "execution_count": 104,
     "metadata": {},
     "output_type": "execute_result"
    }
   ],
   "source": [
    "df[\"Episode\"].describe()"
   ]
  },
  {
   "cell_type": "code",
   "execution_count": 105,
   "metadata": {},
   "outputs": [
    {
     "name": "stdout",
     "output_type": "stream",
     "text": [
      "Max: 13.0\n",
      "Min: 5.0\n",
      "Range: 8.0\n"
     ]
    }
   ],
   "source": [
    "print(\"Max:\", df['Episode'].max()),\n",
    "print(\"Min:\", df['Episode'].min()),\n",
    "print(\"Range:\", df['Episode'].max() - df['Episode'].min())"
   ]
  },
  {
   "cell_type": "markdown",
   "metadata": {
    "id": "cau2aFTizRny"
   },
   "source": [
    "## **Data Preprocessing**"
   ]
  },
  {
   "cell_type": "markdown",
   "metadata": {
    "id": "r_K5_I_oF4au"
   },
   "source": [
    "#### **Data Preprocessing**"
   ]
  },
  {
   "attachments": {},
   "cell_type": "markdown",
   "metadata": {},
   "source": [
    "##### **Dropping Unneeded Columns**"
   ]
  },
  {
   "attachments": {},
   "cell_type": "markdown",
   "metadata": {},
   "source": [
    "This dataset has been worked on in a Google Sheet in order to record multiple franchises at once. That being said, the analysis itself has been done in the same sheet. This resulted into a lot of columns with formulas rather than actual data."
   ]
  },
  {
   "cell_type": "code",
   "execution_count": 106,
   "metadata": {},
   "outputs": [
    {
     "data": {
      "text/html": [
       "<div>\n",
       "<style scoped>\n",
       "    .dataframe tbody tr th:only-of-type {\n",
       "        vertical-align: middle;\n",
       "    }\n",
       "\n",
       "    .dataframe tbody tr th {\n",
       "        vertical-align: top;\n",
       "    }\n",
       "\n",
       "    .dataframe thead th {\n",
       "        text-align: right;\n",
       "    }\n",
       "</style>\n",
       "<table border=\"1\" class=\"dataframe\">\n",
       "  <thead>\n",
       "    <tr style=\"text-align: right;\">\n",
       "      <th></th>\n",
       "      <th>Rank WRE</th>\n",
       "      <th>Rank</th>\n",
       "      <th>Country</th>\n",
       "      <th>Season</th>\n",
       "      <th>Code</th>\n",
       "      <th>W/R/E</th>\n",
       "      <th>Queen</th>\n",
       "      <th>Z-Score</th>\n",
       "      <th>Percent</th>\n",
       "      <th>Score</th>\n",
       "      <th>...</th>\n",
       "      <th>Low</th>\n",
       "      <th>Safe</th>\n",
       "      <th>High</th>\n",
       "      <th>SWin</th>\n",
       "      <th>Win</th>\n",
       "      <th>LSA</th>\n",
       "      <th>T</th>\n",
       "      <th>Unnamed: 36</th>\n",
       "      <th>Unnamed: 37</th>\n",
       "      <th>Unnamed: 38</th>\n",
       "    </tr>\n",
       "  </thead>\n",
       "  <tbody>\n",
       "    <tr>\n",
       "      <th>0</th>\n",
       "      <td>NaN</td>\n",
       "      <td>NaN</td>\n",
       "      <td>NaN</td>\n",
       "      <td>NaN</td>\n",
       "      <td>NaN</td>\n",
       "      <td>NaN</td>\n",
       "      <td>NaN</td>\n",
       "      <td>NaN</td>\n",
       "      <td>NaN</td>\n",
       "      <td>NaN</td>\n",
       "      <td>...</td>\n",
       "      <td>-1</td>\n",
       "      <td>0</td>\n",
       "      <td>1</td>\n",
       "      <td>1.5</td>\n",
       "      <td>2</td>\n",
       "      <td>NaN</td>\n",
       "      <td>NaN</td>\n",
       "      <td>Never/--</td>\n",
       "      <td>Rank</td>\n",
       "      <td>Rank</td>\n",
       "    </tr>\n",
       "    <tr>\n",
       "      <th>1</th>\n",
       "      <td>18.0</td>\n",
       "      <td>8.0</td>\n",
       "      <td>US</td>\n",
       "      <td>AS1</td>\n",
       "      <td>US_AS1</td>\n",
       "      <td>W</td>\n",
       "      <td>Chad Michaels</td>\n",
       "      <td>0.47</td>\n",
       "      <td>100.00%</td>\n",
       "      <td>5.0</td>\n",
       "      <td>...</td>\n",
       "      <td>0</td>\n",
       "      <td>0</td>\n",
       "      <td>1</td>\n",
       "      <td>0.0</td>\n",
       "      <td>3</td>\n",
       "      <td>NaN</td>\n",
       "      <td>NaN</td>\n",
       "      <td>--</td>\n",
       "      <td>1,220</td>\n",
       "      <td>1</td>\n",
       "    </tr>\n",
       "    <tr>\n",
       "      <th>2</th>\n",
       "      <td>131.0</td>\n",
       "      <td>159.0</td>\n",
       "      <td>US</td>\n",
       "      <td>AS1</td>\n",
       "      <td>US_AS1</td>\n",
       "      <td>R</td>\n",
       "      <td>Raven</td>\n",
       "      <td>-2.26</td>\n",
       "      <td>-120.00%</td>\n",
       "      <td>-6.0</td>\n",
       "      <td>...</td>\n",
       "      <td>1</td>\n",
       "      <td>0</td>\n",
       "      <td>1</td>\n",
       "      <td>0.0</td>\n",
       "      <td>0</td>\n",
       "      <td>LSA</td>\n",
       "      <td>2.0</td>\n",
       "      <td>--</td>\n",
       "      <td>237</td>\n",
       "      <td>140</td>\n",
       "    </tr>\n",
       "    <tr>\n",
       "      <th>3</th>\n",
       "      <td>77.0</td>\n",
       "      <td>159.0</td>\n",
       "      <td>US</td>\n",
       "      <td>AS1</td>\n",
       "      <td>US_AS1</td>\n",
       "      <td>E</td>\n",
       "      <td>Jujubee</td>\n",
       "      <td>-2.26</td>\n",
       "      <td>-120.00%</td>\n",
       "      <td>-6.0</td>\n",
       "      <td>...</td>\n",
       "      <td>1</td>\n",
       "      <td>0</td>\n",
       "      <td>1</td>\n",
       "      <td>0.0</td>\n",
       "      <td>0</td>\n",
       "      <td>LSA</td>\n",
       "      <td>2.0</td>\n",
       "      <td>--</td>\n",
       "      <td>237</td>\n",
       "      <td>140</td>\n",
       "    </tr>\n",
       "    <tr>\n",
       "      <th>4</th>\n",
       "      <td>6.0</td>\n",
       "      <td>8.0</td>\n",
       "      <td>US</td>\n",
       "      <td>AS1</td>\n",
       "      <td>US_AS1</td>\n",
       "      <td>E</td>\n",
       "      <td>Shannel</td>\n",
       "      <td>0.47</td>\n",
       "      <td>100.00%</td>\n",
       "      <td>5.0</td>\n",
       "      <td>...</td>\n",
       "      <td>0</td>\n",
       "      <td>0</td>\n",
       "      <td>1</td>\n",
       "      <td>0.0</td>\n",
       "      <td>3</td>\n",
       "      <td>NaN</td>\n",
       "      <td>NaN</td>\n",
       "      <td>--</td>\n",
       "      <td>1,220</td>\n",
       "      <td>1</td>\n",
       "    </tr>\n",
       "  </tbody>\n",
       "</table>\n",
       "<p>5 rows × 39 columns</p>\n",
       "</div>"
      ],
      "text/plain": [
       "   Rank WRE   Rank Country Season    Code W/R/E          Queen  Z-Score  \\\n",
       "0       NaN    NaN     NaN    NaN     NaN   NaN            NaN      NaN   \n",
       "1      18.0    8.0      US    AS1  US_AS1     W  Chad Michaels     0.47   \n",
       "2     131.0  159.0      US    AS1  US_AS1     R          Raven    -2.26   \n",
       "3      77.0  159.0      US    AS1  US_AS1     E        Jujubee    -2.26   \n",
       "4       6.0    8.0      US    AS1  US_AS1     E        Shannel     0.47   \n",
       "\n",
       "    Percent  Score  ...  Low  Safe  High  SWin  Win  LSA    T  Unnamed: 36  \\\n",
       "0       NaN    NaN  ...   -1     0     1   1.5    2  NaN  NaN     Never/--   \n",
       "1   100.00%    5.0  ...    0     0     1   0.0    3  NaN  NaN           --   \n",
       "2  -120.00%   -6.0  ...    1     0     1   0.0    0  LSA  2.0           --   \n",
       "3  -120.00%   -6.0  ...    1     0     1   0.0    0  LSA  2.0           --   \n",
       "4   100.00%    5.0  ...    0     0     1   0.0    3  NaN  NaN           --   \n",
       "\n",
       "   Unnamed: 37  Unnamed: 38  \n",
       "0         Rank         Rank  \n",
       "1        1,220            1  \n",
       "2          237          140  \n",
       "3          237          140  \n",
       "4        1,220            1  \n",
       "\n",
       "[5 rows x 39 columns]"
      ]
     },
     "execution_count": 106,
     "metadata": {},
     "output_type": "execute_result"
    }
   ],
   "source": [
    "df.head()"
   ]
  },
  {
   "attachments": {},
   "cell_type": "markdown",
   "metadata": {},
   "source": [
    "Using pandas, we get all the columns in the dataframe into a list for easier reading."
   ]
  },
  {
   "cell_type": "code",
   "execution_count": 107,
   "metadata": {},
   "outputs": [
    {
     "data": {
      "text/plain": [
       "Index(['Rank WRE', 'Rank', 'Country', 'Season', 'Code', 'W/R/E', 'Queen',\n",
       "       'Z-Score', 'Percent', 'Score', 'Episode', '1', '2', '3', '4', '5', '6',\n",
       "       '7', '8', '9', '10', '11', '12', '13', '14', '15', 'Mean: 3.11',\n",
       "       'Unnamed: 27', 'Bttm', 'Low', 'Safe', 'High', 'SWin', 'Win', 'LSA', 'T',\n",
       "       'Unnamed: 36', 'Unnamed: 37', 'Unnamed: 38'],\n",
       "      dtype='object')"
      ]
     },
     "execution_count": 107,
     "metadata": {},
     "output_type": "execute_result"
    }
   ],
   "source": [
    "df.columns"
   ]
  },
  {
   "attachments": {},
   "cell_type": "markdown",
   "metadata": {},
   "source": [
    "After getting the list of columns, we now make a list of columns to drop.\n",
    "\n",
    "The columns below are the columns that were done using formulas in Google Sheets. "
   ]
  },
  {
   "cell_type": "code",
   "execution_count": 108,
   "metadata": {},
   "outputs": [],
   "source": [
    "drop_col = ['Rank WRE', 'Rank', 'Code', 'Episode', 'Percent', 'Score', \n",
    "            'Mean: 3.11', 'Z-Score', 'Unnamed: 27', 'LSA', 'T', \n",
    "            'Unnamed: 36', 'Unnamed: 37', 'Unnamed: 38']"
   ]
  },
  {
   "attachments": {},
   "cell_type": "markdown",
   "metadata": {},
   "source": [
    "Because of an extra row to further divide the original dataset in Google Sheets, we drop the first row since it won't be usable in any way."
   ]
  },
  {
   "cell_type": "code",
   "execution_count": 109,
   "metadata": {},
   "outputs": [],
   "source": [
    "df = df.drop(drop_col, axis=1) #Dropping the list of columns\n",
    "df = df.iloc[1:,:] #Dropping the first row"
   ]
  },
  {
   "cell_type": "code",
   "execution_count": 110,
   "metadata": {},
   "outputs": [
    {
     "data": {
      "text/html": [
       "<div>\n",
       "<style scoped>\n",
       "    .dataframe tbody tr th:only-of-type {\n",
       "        vertical-align: middle;\n",
       "    }\n",
       "\n",
       "    .dataframe tbody tr th {\n",
       "        vertical-align: top;\n",
       "    }\n",
       "\n",
       "    .dataframe thead th {\n",
       "        text-align: right;\n",
       "    }\n",
       "</style>\n",
       "<table border=\"1\" class=\"dataframe\">\n",
       "  <thead>\n",
       "    <tr style=\"text-align: right;\">\n",
       "      <th></th>\n",
       "      <th>Country</th>\n",
       "      <th>Season</th>\n",
       "      <th>W/R/E</th>\n",
       "      <th>Queen</th>\n",
       "      <th>1</th>\n",
       "      <th>2</th>\n",
       "      <th>3</th>\n",
       "      <th>4</th>\n",
       "      <th>5</th>\n",
       "      <th>6</th>\n",
       "      <th>...</th>\n",
       "      <th>12</th>\n",
       "      <th>13</th>\n",
       "      <th>14</th>\n",
       "      <th>15</th>\n",
       "      <th>Bttm</th>\n",
       "      <th>Low</th>\n",
       "      <th>Safe</th>\n",
       "      <th>High</th>\n",
       "      <th>SWin</th>\n",
       "      <th>Win</th>\n",
       "    </tr>\n",
       "  </thead>\n",
       "  <tbody>\n",
       "    <tr>\n",
       "      <th>1</th>\n",
       "      <td>US</td>\n",
       "      <td>AS1</td>\n",
       "      <td>W</td>\n",
       "      <td>Chad Michaels</td>\n",
       "      <td>-2.0</td>\n",
       "      <td>1.0</td>\n",
       "      <td>2.0</td>\n",
       "      <td>2.0</td>\n",
       "      <td>2.0</td>\n",
       "      <td>NaN</td>\n",
       "      <td>...</td>\n",
       "      <td>NaN</td>\n",
       "      <td>NaN</td>\n",
       "      <td>NaN</td>\n",
       "      <td>NaN</td>\n",
       "      <td>1</td>\n",
       "      <td>0</td>\n",
       "      <td>0</td>\n",
       "      <td>1</td>\n",
       "      <td>0.0</td>\n",
       "      <td>3</td>\n",
       "    </tr>\n",
       "    <tr>\n",
       "      <th>2</th>\n",
       "      <td>US</td>\n",
       "      <td>AS1</td>\n",
       "      <td>R</td>\n",
       "      <td>Raven</td>\n",
       "      <td>1.0</td>\n",
       "      <td>-1.0</td>\n",
       "      <td>-2.0</td>\n",
       "      <td>-2.0</td>\n",
       "      <td>-2.0</td>\n",
       "      <td>NaN</td>\n",
       "      <td>...</td>\n",
       "      <td>NaN</td>\n",
       "      <td>NaN</td>\n",
       "      <td>NaN</td>\n",
       "      <td>NaN</td>\n",
       "      <td>3</td>\n",
       "      <td>1</td>\n",
       "      <td>0</td>\n",
       "      <td>1</td>\n",
       "      <td>0.0</td>\n",
       "      <td>0</td>\n",
       "    </tr>\n",
       "    <tr>\n",
       "      <th>3</th>\n",
       "      <td>US</td>\n",
       "      <td>AS1</td>\n",
       "      <td>E</td>\n",
       "      <td>Jujubee</td>\n",
       "      <td>1.0</td>\n",
       "      <td>-1.0</td>\n",
       "      <td>-2.0</td>\n",
       "      <td>-2.0</td>\n",
       "      <td>-2.0</td>\n",
       "      <td>NaN</td>\n",
       "      <td>...</td>\n",
       "      <td>NaN</td>\n",
       "      <td>NaN</td>\n",
       "      <td>NaN</td>\n",
       "      <td>NaN</td>\n",
       "      <td>3</td>\n",
       "      <td>1</td>\n",
       "      <td>0</td>\n",
       "      <td>1</td>\n",
       "      <td>0.0</td>\n",
       "      <td>0</td>\n",
       "    </tr>\n",
       "    <tr>\n",
       "      <th>4</th>\n",
       "      <td>US</td>\n",
       "      <td>AS1</td>\n",
       "      <td>E</td>\n",
       "      <td>Shannel</td>\n",
       "      <td>-2.0</td>\n",
       "      <td>1.0</td>\n",
       "      <td>2.0</td>\n",
       "      <td>2.0</td>\n",
       "      <td>2.0</td>\n",
       "      <td>NaN</td>\n",
       "      <td>...</td>\n",
       "      <td>NaN</td>\n",
       "      <td>NaN</td>\n",
       "      <td>NaN</td>\n",
       "      <td>NaN</td>\n",
       "      <td>1</td>\n",
       "      <td>0</td>\n",
       "      <td>0</td>\n",
       "      <td>1</td>\n",
       "      <td>0.0</td>\n",
       "      <td>3</td>\n",
       "    </tr>\n",
       "    <tr>\n",
       "      <th>5</th>\n",
       "      <td>US</td>\n",
       "      <td>AS2</td>\n",
       "      <td>W</td>\n",
       "      <td>Alaska</td>\n",
       "      <td>1.0</td>\n",
       "      <td>2.0</td>\n",
       "      <td>0.0</td>\n",
       "      <td>2.0</td>\n",
       "      <td>2.0</td>\n",
       "      <td>2.0</td>\n",
       "      <td>...</td>\n",
       "      <td>NaN</td>\n",
       "      <td>NaN</td>\n",
       "      <td>NaN</td>\n",
       "      <td>NaN</td>\n",
       "      <td>1</td>\n",
       "      <td>0</td>\n",
       "      <td>1</td>\n",
       "      <td>1</td>\n",
       "      <td>0.0</td>\n",
       "      <td>4</td>\n",
       "    </tr>\n",
       "  </tbody>\n",
       "</table>\n",
       "<p>5 rows × 25 columns</p>\n",
       "</div>"
      ],
      "text/plain": [
       "  Country Season W/R/E          Queen    1    2    3    4    5    6  ...  12  \\\n",
       "1      US    AS1     W  Chad Michaels -2.0  1.0  2.0  2.0  2.0  NaN  ... NaN   \n",
       "2      US    AS1     R          Raven  1.0 -1.0 -2.0 -2.0 -2.0  NaN  ... NaN   \n",
       "3      US    AS1     E        Jujubee  1.0 -1.0 -2.0 -2.0 -2.0  NaN  ... NaN   \n",
       "4      US    AS1     E        Shannel -2.0  1.0  2.0  2.0  2.0  NaN  ... NaN   \n",
       "5      US    AS2     W         Alaska  1.0  2.0  0.0  2.0  2.0  2.0  ... NaN   \n",
       "\n",
       "   13  14  15  Bttm  Low  Safe  High  SWin  Win  \n",
       "1 NaN NaN NaN     1    0     0     1   0.0    3  \n",
       "2 NaN NaN NaN     3    1     0     1   0.0    0  \n",
       "3 NaN NaN NaN     3    1     0     1   0.0    0  \n",
       "4 NaN NaN NaN     1    0     0     1   0.0    3  \n",
       "5 NaN NaN NaN     1    0     1     1   0.0    4  \n",
       "\n",
       "[5 rows x 25 columns]"
      ]
     },
     "execution_count": 110,
     "metadata": {},
     "output_type": "execute_result"
    }
   ],
   "source": [
    "df.head() #checking the dataset"
   ]
  },
  {
   "attachments": {},
   "cell_type": "markdown",
   "metadata": {},
   "source": [
    "##### **Regex Functions**"
   ]
  },
  {
   "attachments": {},
   "cell_type": "markdown",
   "metadata": {},
   "source": [
    "Because on inconsistencies in the `Country` and `Season` columns, we make functions using RegEx to do so. Because the functions will be removing certain characters and strings, another column will be created later on to help specify certain seasons.\n",
    "\n",
    "Other functions will be used later on."
   ]
  },
  {
   "cell_type": "code",
   "execution_count": 111,
   "metadata": {},
   "outputs": [],
   "source": [
    "#regex function to remove S but not remove the S in AS\n",
    "def remove_s(x):\n",
    "    return re.sub(r'S', '', x)\n",
    "\n",
    "#regex function to remove AS and _WORLD\n",
    "def remove_as(x):\n",
    "    return re.sub(r'AS|_WORLD', '', x)\n",
    "\n",
    "#regex function to remove the letter A\n",
    "def remove_a(x):\n",
    "    return re.sub(r'A', '', x)\n"
   ]
  },
  {
   "attachments": {},
   "cell_type": "markdown",
   "metadata": {},
   "source": [
    "##### **Removing `S` from the Season column**"
   ]
  },
  {
   "attachments": {},
   "cell_type": "markdown",
   "metadata": {},
   "source": [
    "Here, we apply the `remove_s` function to remove seasons that have the letter `S` even though the number already indicated the season."
   ]
  },
  {
   "cell_type": "code",
   "execution_count": 112,
   "metadata": {},
   "outputs": [
    {
     "data": {
      "text/plain": [
       "1     50\n",
       "2     26\n",
       "3     10\n",
       "4      7\n",
       "14     5\n",
       "A7     4\n",
       "A6     4\n",
       "9      4\n",
       "A2     4\n",
       "A1     4\n",
       "13     4\n",
       "11     4\n",
       "10     4\n",
       "A4     4\n",
       "A3     4\n",
       "15     4\n",
       "12     3\n",
       "5      3\n",
       "6      3\n",
       "7      3\n",
       "8      3\n",
       "A5     3\n",
       "Name: Season, dtype: int64"
      ]
     },
     "execution_count": 112,
     "metadata": {},
     "output_type": "execute_result"
    }
   ],
   "source": [
    "df['Season'] = df['Season'].apply(remove_s)\n",
    "df['Season'].value_counts()"
   ]
  },
  {
   "attachments": {},
   "cell_type": "markdown",
   "metadata": {},
   "source": [
    "With this new column, the S has been removed and only the All Stars Seasons are identified"
   ]
  },
  {
   "attachments": {},
   "cell_type": "markdown",
   "metadata": {},
   "source": [
    "##### **Regex Functions for New Column**"
   ]
  },
  {
   "attachments": {},
   "cell_type": "markdown",
   "metadata": {},
   "source": [
    "After removing the `S` in the `Season` column, we now make functions to extract certain strings to a new column to identify the season if it was a Regular, All Star, or World season."
   ]
  },
  {
   "cell_type": "code",
   "execution_count": 114,
   "metadata": {},
   "outputs": [],
   "source": [
    "def identify_world(x):\n",
    "    if '_WORLD' in x:\n",
    "        return 'WORLD',\n",
    "    \n",
    "def identify_as(x):    \n",
    "    if 'A' in x:\n",
    "        return 'AS'\n",
    "\n",
    "def identify_reg(x):\n",
    "    if 'A' not in x:\n",
    "        return 'REG'\n",
    "    \n",
    "def remove_world_reg(df, column_name):\n",
    "    df[column_name] = df[column_name].str.replace(r\"\\('WORLD',\\)REG\", \"WORLD\", regex=True)\n",
    "    return df\n",
    "    \n"
   ]
  },
  {
   "attachments": {},
   "cell_type": "markdown",
   "metadata": {},
   "source": [
    "##### **Extracting the formats**"
   ]
  },
  {
   "attachments": {},
   "cell_type": "markdown",
   "metadata": {},
   "source": [
    "By using the functions, we now apply it to their respective columns. We also replace `None` values as empty strings so that when it comes to joining the three columns, there would be no problem."
   ]
  },
  {
   "cell_type": "code",
   "execution_count": 115,
   "metadata": {},
   "outputs": [
    {
     "data": {
      "text/plain": [
       "              152\n",
       "('WORLD',)      8\n",
       "Name: world, dtype: int64"
      ]
     },
     "execution_count": 115,
     "metadata": {},
     "output_type": "execute_result"
    }
   ],
   "source": [
    "df['world'] = df['Country'].apply(identify_world).astype(str)\n",
    "df['world'] = df['world'].replace('None', '')\n",
    "df['world'].value_counts()"
   ]
  },
  {
   "cell_type": "code",
   "execution_count": 116,
   "metadata": {},
   "outputs": [
    {
     "data": {
      "text/plain": [
       "      133\n",
       "AS     27\n",
       "Name: allstars, dtype: int64"
      ]
     },
     "execution_count": 116,
     "metadata": {},
     "output_type": "execute_result"
    }
   ],
   "source": [
    "df['allstars'] = df['Season'].apply(identify_as).astype(str)\n",
    "df['allstars'] = df['allstars'].replace('None', '')\n",
    "df['allstars'].value_counts()"
   ]
  },
  {
   "cell_type": "code",
   "execution_count": 117,
   "metadata": {},
   "outputs": [
    {
     "data": {
      "text/plain": [
       "REG    133\n",
       "        27\n",
       "Name: regular, dtype: int64"
      ]
     },
     "execution_count": 117,
     "metadata": {},
     "output_type": "execute_result"
    }
   ],
   "source": [
    "df['regular'] = df['Season'].apply(identify_reg).astype(str)\n",
    "df['regular'] = df['regular'].replace('None', '')\n",
    "df['regular'].value_counts()"
   ]
  },
  {
   "cell_type": "code",
   "execution_count": 118,
   "metadata": {},
   "outputs": [
    {
     "data": {
      "text/plain": [
       "REG              125\n",
       "AS                27\n",
       "('WORLD',)REG      8\n",
       "Name: format, dtype: int64"
      ]
     },
     "execution_count": 118,
     "metadata": {},
     "output_type": "execute_result"
    }
   ],
   "source": [
    "#joining two columns into one column\n",
    "df['format'] = df['world'] + df['allstars'] + df['regular']\n",
    "\n",
    "df['format'] = df['format'].replace(np.nan, 'REG')\n",
    "\n",
    "df['format'].value_counts()"
   ]
  },
  {
   "attachments": {},
   "cell_type": "markdown",
   "metadata": {},
   "source": [
    "After joining all the new columns, we can see that the column for World seasons show `('WORLD',)REG` instead of `WORLD`. This will later be on cleaned to fit the format needed to make it readable and understandable at a glance."
   ]
  },
  {
   "attachments": {},
   "cell_type": "markdown",
   "metadata": {},
   "source": [
    "#### **Data Cleaning**"
   ]
  },
  {
   "attachments": {},
   "cell_type": "markdown",
   "metadata": {},
   "source": [
    "##### **Fixing the Columns**"
   ]
  },
  {
   "attachments": {},
   "cell_type": "markdown",
   "metadata": {},
   "source": [
    "After extracting all the needed information, we can now clean the columns accordingly since the functions rely on certain strings to function.\n",
    "\n",
    "By using the previously made RegEx functions we now remove the letter `A` in the `Season` column."
   ]
  },
  {
   "cell_type": "code",
   "execution_count": 119,
   "metadata": {},
   "outputs": [
    {
     "data": {
      "text/plain": [
       "1     54\n",
       "2     30\n",
       "3     14\n",
       "4     11\n",
       "6      7\n",
       "7      7\n",
       "5      6\n",
       "14     5\n",
       "10     4\n",
       "11     4\n",
       "13     4\n",
       "9      4\n",
       "15     4\n",
       "12     3\n",
       "8      3\n",
       "Name: Season, dtype: int64"
      ]
     },
     "execution_count": 119,
     "metadata": {},
     "output_type": "execute_result"
    }
   ],
   "source": [
    "df['Season'] = df['Season'].apply(remove_a)\n",
    "df['Season'].value_counts()"
   ]
  },
  {
   "attachments": {},
   "cell_type": "markdown",
   "metadata": {},
   "source": [
    "Similar to the previous cell, we now fix the format of the `format` column for those with the `('WORLD',)REG` to `WORLD` instead."
   ]
  },
  {
   "cell_type": "code",
   "execution_count": 137,
   "metadata": {},
   "outputs": [
    {
     "data": {
      "text/plain": [
       "REG      125\n",
       "AS        27\n",
       "WORLD      8\n",
       "Name: format, dtype: int64"
      ]
     },
     "execution_count": 137,
     "metadata": {},
     "output_type": "execute_result"
    }
   ],
   "source": [
    "df = remove_world_reg(df, 'format')\n",
    "df['format'].value_counts()"
   ]
  },
  {
   "attachments": {},
   "cell_type": "markdown",
   "metadata": {},
   "source": [
    "##### **Removing Type in Season**"
   ]
  },
  {
   "attachments": {},
   "cell_type": "markdown",
   "metadata": {},
   "source": [
    "We now remove the string `_WORLD` column since we've already identified in another column which season and country is a `WORLD` season."
   ]
  },
  {
   "cell_type": "code",
   "execution_count": 121,
   "metadata": {},
   "outputs": [
    {
     "data": {
      "text/plain": [
       "US     79\n",
       "UK     18\n",
       "CAN    14\n",
       "ESP     8\n",
       "HOL     7\n",
       "AUS     7\n",
       "ITA     7\n",
       "THI     6\n",
       "FRA     4\n",
       "PH      4\n",
       "BEL     3\n",
       "SWE     3\n",
       "Name: Country, dtype: int64"
      ]
     },
     "execution_count": 121,
     "metadata": {},
     "output_type": "execute_result"
    }
   ],
   "source": [
    "df['Country'] = df['Country'].apply(remove_as)\n",
    "df['Country'].value_counts()"
   ]
  },
  {
   "attachments": {},
   "cell_type": "markdown",
   "metadata": {},
   "source": [
    "##### **Changing Placement Values**"
   ]
  },
  {
   "attachments": {},
   "cell_type": "markdown",
   "metadata": {},
   "source": [
    "In the original dataset, values included negative values; Specifically `-2` and `-1` which indicated Bottom 2 and Low placements, respectively. In order to have a better 'view' of the scores and placements, we first make a lsit of episodes."
   ]
  },
  {
   "cell_type": "code",
   "execution_count": 123,
   "metadata": {},
   "outputs": [],
   "source": [
    "episodes =[ '1', '2', '3', '4', '5', '6', '7', '8', '9', '10', '11', '12', '13', '14']"
   ]
  },
  {
   "attachments": {},
   "cell_type": "markdown",
   "metadata": {},
   "source": [
    "After making the list, we now replace the values in the `episodes` columns using the pandas function `replace` as well as using a dictionary.\n",
    "\n",
    "The following placement values will be replaced as follows:\n",
    "\n",
    "|Old Value|New Value|Placement|Meaning|\n",
    "|:---:|:---:|---|---|\n",
    "|-2|0|Bottom 2|Was up for elimination|\n",
    "|-1|1|Low|Received negative critqiues, but not up for elimination|\n",
    "|0|2|Safe|Not high or low|\n",
    "|1|3|High|Received positive critiques, but did not win the challenge or in select seasons, not part of the Top 2|\n",
    "|1.5|4|Top 2|Top 2 contestants of the week, but lost the lipsync. Applicable to All Starts, World, and selected episodes in regular seasons|\n",
    "|2|5|Win|Won the main challenge or in some seasons/episodes, won the Top 2 lipsync|"
   ]
  },
  {
   "cell_type": "code",
   "execution_count": 124,
   "metadata": {},
   "outputs": [],
   "source": [
    "#replacing values with another value in multiple columns\n",
    "df[episodes] = df[episodes].replace({\n",
    "    -2 : 0, #Bottom 2 placement\n",
    "    -1 : 1, #Received negative critiques, but was not up for elimination   \n",
    "    0 : 2, #Safe \n",
    "    1 : 3, #Received positive critiques, but did not win the challenge \n",
    "    1.5 : 4, #Top 2 contestants (Applicable in All Stars and World seasons and selected episodes in regular seasons) but lost the lipsync\n",
    "    2 : 5 #Won the main challenge\n",
    "    })"
   ]
  },
  {
   "attachments": {},
   "cell_type": "markdown",
   "metadata": {},
   "source": [
    "Here, we used the `.describe()` function to see the inferential statistics of each episode."
   ]
  },
  {
   "cell_type": "code",
   "execution_count": 125,
   "metadata": {},
   "outputs": [
    {
     "data": {
      "text/html": [
       "<div>\n",
       "<style scoped>\n",
       "    .dataframe tbody tr th:only-of-type {\n",
       "        vertical-align: middle;\n",
       "    }\n",
       "\n",
       "    .dataframe tbody tr th {\n",
       "        vertical-align: top;\n",
       "    }\n",
       "\n",
       "    .dataframe thead th {\n",
       "        text-align: right;\n",
       "    }\n",
       "</style>\n",
       "<table border=\"1\" class=\"dataframe\">\n",
       "  <thead>\n",
       "    <tr style=\"text-align: right;\">\n",
       "      <th></th>\n",
       "      <th>1</th>\n",
       "      <th>2</th>\n",
       "      <th>3</th>\n",
       "      <th>4</th>\n",
       "      <th>5</th>\n",
       "      <th>6</th>\n",
       "      <th>7</th>\n",
       "      <th>8</th>\n",
       "      <th>9</th>\n",
       "      <th>10</th>\n",
       "      <th>11</th>\n",
       "      <th>12</th>\n",
       "      <th>13</th>\n",
       "      <th>14</th>\n",
       "    </tr>\n",
       "  </thead>\n",
       "  <tbody>\n",
       "    <tr>\n",
       "      <th>count</th>\n",
       "      <td>154.000000</td>\n",
       "      <td>154.000000</td>\n",
       "      <td>156.000000</td>\n",
       "      <td>160.000000</td>\n",
       "      <td>159.000000</td>\n",
       "      <td>142.000000</td>\n",
       "      <td>139.000000</td>\n",
       "      <td>93.000000</td>\n",
       "      <td>89.000000</td>\n",
       "      <td>51.000000</td>\n",
       "      <td>54.000000</td>\n",
       "      <td>43.000000</td>\n",
       "      <td>13.000000</td>\n",
       "      <td>9.000000</td>\n",
       "    </tr>\n",
       "    <tr>\n",
       "      <th>mean</th>\n",
       "      <td>2.629870</td>\n",
       "      <td>2.538961</td>\n",
       "      <td>2.493590</td>\n",
       "      <td>2.646875</td>\n",
       "      <td>2.698113</td>\n",
       "      <td>2.549296</td>\n",
       "      <td>2.438849</td>\n",
       "      <td>2.591398</td>\n",
       "      <td>2.617978</td>\n",
       "      <td>2.411765</td>\n",
       "      <td>2.833333</td>\n",
       "      <td>2.255814</td>\n",
       "      <td>2.461538</td>\n",
       "      <td>1.888889</td>\n",
       "    </tr>\n",
       "    <tr>\n",
       "      <th>std</th>\n",
       "      <td>1.231139</td>\n",
       "      <td>1.473660</td>\n",
       "      <td>1.452459</td>\n",
       "      <td>1.618094</td>\n",
       "      <td>1.697931</td>\n",
       "      <td>1.578119</td>\n",
       "      <td>1.711492</td>\n",
       "      <td>1.764607</td>\n",
       "      <td>1.805960</td>\n",
       "      <td>1.779623</td>\n",
       "      <td>1.701830</td>\n",
       "      <td>1.329035</td>\n",
       "      <td>1.941451</td>\n",
       "      <td>1.536591</td>\n",
       "    </tr>\n",
       "    <tr>\n",
       "      <th>min</th>\n",
       "      <td>0.000000</td>\n",
       "      <td>0.000000</td>\n",
       "      <td>0.000000</td>\n",
       "      <td>0.000000</td>\n",
       "      <td>0.000000</td>\n",
       "      <td>0.000000</td>\n",
       "      <td>0.000000</td>\n",
       "      <td>0.000000</td>\n",
       "      <td>0.000000</td>\n",
       "      <td>0.000000</td>\n",
       "      <td>0.000000</td>\n",
       "      <td>0.000000</td>\n",
       "      <td>0.000000</td>\n",
       "      <td>0.000000</td>\n",
       "    </tr>\n",
       "    <tr>\n",
       "      <th>25%</th>\n",
       "      <td>2.000000</td>\n",
       "      <td>2.000000</td>\n",
       "      <td>2.000000</td>\n",
       "      <td>2.000000</td>\n",
       "      <td>2.000000</td>\n",
       "      <td>2.000000</td>\n",
       "      <td>1.000000</td>\n",
       "      <td>1.000000</td>\n",
       "      <td>1.000000</td>\n",
       "      <td>1.000000</td>\n",
       "      <td>2.000000</td>\n",
       "      <td>2.000000</td>\n",
       "      <td>0.000000</td>\n",
       "      <td>1.000000</td>\n",
       "    </tr>\n",
       "    <tr>\n",
       "      <th>50%</th>\n",
       "      <td>2.000000</td>\n",
       "      <td>2.000000</td>\n",
       "      <td>2.000000</td>\n",
       "      <td>2.000000</td>\n",
       "      <td>3.000000</td>\n",
       "      <td>3.000000</td>\n",
       "      <td>2.000000</td>\n",
       "      <td>3.000000</td>\n",
       "      <td>3.000000</td>\n",
       "      <td>3.000000</td>\n",
       "      <td>3.000000</td>\n",
       "      <td>2.000000</td>\n",
       "      <td>3.000000</td>\n",
       "      <td>2.000000</td>\n",
       "    </tr>\n",
       "    <tr>\n",
       "      <th>75%</th>\n",
       "      <td>3.000000</td>\n",
       "      <td>3.000000</td>\n",
       "      <td>3.000000</td>\n",
       "      <td>4.000000</td>\n",
       "      <td>5.000000</td>\n",
       "      <td>3.000000</td>\n",
       "      <td>3.000000</td>\n",
       "      <td>4.000000</td>\n",
       "      <td>5.000000</td>\n",
       "      <td>3.500000</td>\n",
       "      <td>4.750000</td>\n",
       "      <td>3.000000</td>\n",
       "      <td>3.000000</td>\n",
       "      <td>2.000000</td>\n",
       "    </tr>\n",
       "    <tr>\n",
       "      <th>max</th>\n",
       "      <td>5.000000</td>\n",
       "      <td>5.000000</td>\n",
       "      <td>5.000000</td>\n",
       "      <td>5.000000</td>\n",
       "      <td>5.000000</td>\n",
       "      <td>5.000000</td>\n",
       "      <td>5.000000</td>\n",
       "      <td>5.000000</td>\n",
       "      <td>5.000000</td>\n",
       "      <td>5.000000</td>\n",
       "      <td>5.000000</td>\n",
       "      <td>5.000000</td>\n",
       "      <td>5.000000</td>\n",
       "      <td>5.000000</td>\n",
       "    </tr>\n",
       "  </tbody>\n",
       "</table>\n",
       "</div>"
      ],
      "text/plain": [
       "                1           2           3           4           5           6  \\\n",
       "count  154.000000  154.000000  156.000000  160.000000  159.000000  142.000000   \n",
       "mean     2.629870    2.538961    2.493590    2.646875    2.698113    2.549296   \n",
       "std      1.231139    1.473660    1.452459    1.618094    1.697931    1.578119   \n",
       "min      0.000000    0.000000    0.000000    0.000000    0.000000    0.000000   \n",
       "25%      2.000000    2.000000    2.000000    2.000000    2.000000    2.000000   \n",
       "50%      2.000000    2.000000    2.000000    2.000000    3.000000    3.000000   \n",
       "75%      3.000000    3.000000    3.000000    4.000000    5.000000    3.000000   \n",
       "max      5.000000    5.000000    5.000000    5.000000    5.000000    5.000000   \n",
       "\n",
       "                7          8          9         10         11         12  \\\n",
       "count  139.000000  93.000000  89.000000  51.000000  54.000000  43.000000   \n",
       "mean     2.438849   2.591398   2.617978   2.411765   2.833333   2.255814   \n",
       "std      1.711492   1.764607   1.805960   1.779623   1.701830   1.329035   \n",
       "min      0.000000   0.000000   0.000000   0.000000   0.000000   0.000000   \n",
       "25%      1.000000   1.000000   1.000000   1.000000   2.000000   2.000000   \n",
       "50%      2.000000   3.000000   3.000000   3.000000   3.000000   2.000000   \n",
       "75%      3.000000   4.000000   5.000000   3.500000   4.750000   3.000000   \n",
       "max      5.000000   5.000000   5.000000   5.000000   5.000000   5.000000   \n",
       "\n",
       "              13        14  \n",
       "count  13.000000  9.000000  \n",
       "mean    2.461538  1.888889  \n",
       "std     1.941451  1.536591  \n",
       "min     0.000000  0.000000  \n",
       "25%     0.000000  1.000000  \n",
       "50%     3.000000  2.000000  \n",
       "75%     3.000000  2.000000  \n",
       "max     5.000000  5.000000  "
      ]
     },
     "execution_count": 125,
     "metadata": {},
     "output_type": "execute_result"
    }
   ],
   "source": [
    "df[episodes].describe()"
   ]
  },
  {
   "attachments": {},
   "cell_type": "markdown",
   "metadata": {},
   "source": [
    "##### **Sum of placement scores**"
   ]
  },
  {
   "attachments": {},
   "cell_type": "markdown",
   "metadata": {},
   "source": [
    "Because of the previously dropped score column we now make a new one with the new values that were just replaced. We sum the episode columns and add it to a new column."
   ]
  },
  {
   "cell_type": "code",
   "execution_count": 126,
   "metadata": {},
   "outputs": [
    {
     "data": {
      "text/html": [
       "<div>\n",
       "<style scoped>\n",
       "    .dataframe tbody tr th:only-of-type {\n",
       "        vertical-align: middle;\n",
       "    }\n",
       "\n",
       "    .dataframe tbody tr th {\n",
       "        vertical-align: top;\n",
       "    }\n",
       "\n",
       "    .dataframe thead th {\n",
       "        text-align: right;\n",
       "    }\n",
       "</style>\n",
       "<table border=\"1\" class=\"dataframe\">\n",
       "  <thead>\n",
       "    <tr style=\"text-align: right;\">\n",
       "      <th></th>\n",
       "      <th>Country</th>\n",
       "      <th>Season</th>\n",
       "      <th>W/R/E</th>\n",
       "      <th>Queen</th>\n",
       "      <th>1</th>\n",
       "      <th>2</th>\n",
       "      <th>3</th>\n",
       "      <th>4</th>\n",
       "      <th>5</th>\n",
       "      <th>6</th>\n",
       "      <th>...</th>\n",
       "      <th>Low</th>\n",
       "      <th>Safe</th>\n",
       "      <th>High</th>\n",
       "      <th>SWin</th>\n",
       "      <th>Win</th>\n",
       "      <th>world</th>\n",
       "      <th>allstars</th>\n",
       "      <th>regular</th>\n",
       "      <th>format</th>\n",
       "      <th>score</th>\n",
       "    </tr>\n",
       "  </thead>\n",
       "  <tbody>\n",
       "    <tr>\n",
       "      <th>1</th>\n",
       "      <td>US</td>\n",
       "      <td>1</td>\n",
       "      <td>W</td>\n",
       "      <td>Chad Michaels</td>\n",
       "      <td>0.0</td>\n",
       "      <td>3.0</td>\n",
       "      <td>5.0</td>\n",
       "      <td>5.0</td>\n",
       "      <td>5.0</td>\n",
       "      <td>NaN</td>\n",
       "      <td>...</td>\n",
       "      <td>0</td>\n",
       "      <td>0</td>\n",
       "      <td>1</td>\n",
       "      <td>0.0</td>\n",
       "      <td>3</td>\n",
       "      <td></td>\n",
       "      <td>AS</td>\n",
       "      <td></td>\n",
       "      <td>AS</td>\n",
       "      <td>18.0</td>\n",
       "    </tr>\n",
       "    <tr>\n",
       "      <th>2</th>\n",
       "      <td>US</td>\n",
       "      <td>1</td>\n",
       "      <td>R</td>\n",
       "      <td>Raven</td>\n",
       "      <td>3.0</td>\n",
       "      <td>1.0</td>\n",
       "      <td>0.0</td>\n",
       "      <td>0.0</td>\n",
       "      <td>0.0</td>\n",
       "      <td>NaN</td>\n",
       "      <td>...</td>\n",
       "      <td>1</td>\n",
       "      <td>0</td>\n",
       "      <td>1</td>\n",
       "      <td>0.0</td>\n",
       "      <td>0</td>\n",
       "      <td></td>\n",
       "      <td>AS</td>\n",
       "      <td></td>\n",
       "      <td>AS</td>\n",
       "      <td>4.0</td>\n",
       "    </tr>\n",
       "    <tr>\n",
       "      <th>3</th>\n",
       "      <td>US</td>\n",
       "      <td>1</td>\n",
       "      <td>E</td>\n",
       "      <td>Jujubee</td>\n",
       "      <td>3.0</td>\n",
       "      <td>1.0</td>\n",
       "      <td>0.0</td>\n",
       "      <td>0.0</td>\n",
       "      <td>0.0</td>\n",
       "      <td>NaN</td>\n",
       "      <td>...</td>\n",
       "      <td>1</td>\n",
       "      <td>0</td>\n",
       "      <td>1</td>\n",
       "      <td>0.0</td>\n",
       "      <td>0</td>\n",
       "      <td></td>\n",
       "      <td>AS</td>\n",
       "      <td></td>\n",
       "      <td>AS</td>\n",
       "      <td>4.0</td>\n",
       "    </tr>\n",
       "    <tr>\n",
       "      <th>4</th>\n",
       "      <td>US</td>\n",
       "      <td>1</td>\n",
       "      <td>E</td>\n",
       "      <td>Shannel</td>\n",
       "      <td>0.0</td>\n",
       "      <td>3.0</td>\n",
       "      <td>5.0</td>\n",
       "      <td>5.0</td>\n",
       "      <td>5.0</td>\n",
       "      <td>NaN</td>\n",
       "      <td>...</td>\n",
       "      <td>0</td>\n",
       "      <td>0</td>\n",
       "      <td>1</td>\n",
       "      <td>0.0</td>\n",
       "      <td>3</td>\n",
       "      <td></td>\n",
       "      <td>AS</td>\n",
       "      <td></td>\n",
       "      <td>AS</td>\n",
       "      <td>18.0</td>\n",
       "    </tr>\n",
       "    <tr>\n",
       "      <th>5</th>\n",
       "      <td>US</td>\n",
       "      <td>2</td>\n",
       "      <td>W</td>\n",
       "      <td>Alaska</td>\n",
       "      <td>3.0</td>\n",
       "      <td>5.0</td>\n",
       "      <td>2.0</td>\n",
       "      <td>5.0</td>\n",
       "      <td>5.0</td>\n",
       "      <td>5.0</td>\n",
       "      <td>...</td>\n",
       "      <td>0</td>\n",
       "      <td>1</td>\n",
       "      <td>1</td>\n",
       "      <td>0.0</td>\n",
       "      <td>4</td>\n",
       "      <td></td>\n",
       "      <td>AS</td>\n",
       "      <td></td>\n",
       "      <td>AS</td>\n",
       "      <td>25.0</td>\n",
       "    </tr>\n",
       "    <tr>\n",
       "      <th>...</th>\n",
       "      <td>...</td>\n",
       "      <td>...</td>\n",
       "      <td>...</td>\n",
       "      <td>...</td>\n",
       "      <td>...</td>\n",
       "      <td>...</td>\n",
       "      <td>...</td>\n",
       "      <td>...</td>\n",
       "      <td>...</td>\n",
       "      <td>...</td>\n",
       "      <td>...</td>\n",
       "      <td>...</td>\n",
       "      <td>...</td>\n",
       "      <td>...</td>\n",
       "      <td>...</td>\n",
       "      <td>...</td>\n",
       "      <td>...</td>\n",
       "      <td>...</td>\n",
       "      <td>...</td>\n",
       "      <td>...</td>\n",
       "      <td>...</td>\n",
       "    </tr>\n",
       "    <tr>\n",
       "      <th>156</th>\n",
       "      <td>BEL</td>\n",
       "      <td>1</td>\n",
       "      <td>W</td>\n",
       "      <td>Drag Couenne</td>\n",
       "      <td>3.0</td>\n",
       "      <td>5.0</td>\n",
       "      <td>2.0</td>\n",
       "      <td>5.0</td>\n",
       "      <td>2.0</td>\n",
       "      <td>3.0</td>\n",
       "      <td>...</td>\n",
       "      <td>0</td>\n",
       "      <td>2</td>\n",
       "      <td>2</td>\n",
       "      <td>0.0</td>\n",
       "      <td>3</td>\n",
       "      <td></td>\n",
       "      <td></td>\n",
       "      <td>REG</td>\n",
       "      <td>REG</td>\n",
       "      <td>25.0</td>\n",
       "    </tr>\n",
       "    <tr>\n",
       "      <th>157</th>\n",
       "      <td>BEL</td>\n",
       "      <td>1</td>\n",
       "      <td>E</td>\n",
       "      <td>Susan</td>\n",
       "      <td>2.0</td>\n",
       "      <td>1.0</td>\n",
       "      <td>5.0</td>\n",
       "      <td>0.0</td>\n",
       "      <td>3.0</td>\n",
       "      <td>1.0</td>\n",
       "      <td>...</td>\n",
       "      <td>3</td>\n",
       "      <td>1</td>\n",
       "      <td>1</td>\n",
       "      <td>0.0</td>\n",
       "      <td>1</td>\n",
       "      <td></td>\n",
       "      <td></td>\n",
       "      <td>REG</td>\n",
       "      <td>REG</td>\n",
       "      <td>13.0</td>\n",
       "    </tr>\n",
       "    <tr>\n",
       "      <th>158</th>\n",
       "      <td>SWE</td>\n",
       "      <td>1</td>\n",
       "      <td>W</td>\n",
       "      <td>Admira Thunderpussy</td>\n",
       "      <td>3.0</td>\n",
       "      <td>2.0</td>\n",
       "      <td>2.0</td>\n",
       "      <td>5.0</td>\n",
       "      <td>5.0</td>\n",
       "      <td>1.0</td>\n",
       "      <td>...</td>\n",
       "      <td>1</td>\n",
       "      <td>2</td>\n",
       "      <td>1</td>\n",
       "      <td>0.0</td>\n",
       "      <td>3</td>\n",
       "      <td></td>\n",
       "      <td></td>\n",
       "      <td>REG</td>\n",
       "      <td>REG</td>\n",
       "      <td>23.0</td>\n",
       "    </tr>\n",
       "    <tr>\n",
       "      <th>159</th>\n",
       "      <td>SWE</td>\n",
       "      <td>1</td>\n",
       "      <td>R</td>\n",
       "      <td>Fontana</td>\n",
       "      <td>2.0</td>\n",
       "      <td>2.0</td>\n",
       "      <td>1.0</td>\n",
       "      <td>2.0</td>\n",
       "      <td>0.0</td>\n",
       "      <td>5.0</td>\n",
       "      <td>...</td>\n",
       "      <td>1</td>\n",
       "      <td>4</td>\n",
       "      <td>0</td>\n",
       "      <td>0.0</td>\n",
       "      <td>1</td>\n",
       "      <td></td>\n",
       "      <td></td>\n",
       "      <td>REG</td>\n",
       "      <td>REG</td>\n",
       "      <td>14.0</td>\n",
       "    </tr>\n",
       "    <tr>\n",
       "      <th>160</th>\n",
       "      <td>SWE</td>\n",
       "      <td>1</td>\n",
       "      <td>E</td>\n",
       "      <td>Vanity Vain</td>\n",
       "      <td>2.0</td>\n",
       "      <td>0.0</td>\n",
       "      <td>5.0</td>\n",
       "      <td>1.0</td>\n",
       "      <td>3.0</td>\n",
       "      <td>3.0</td>\n",
       "      <td>...</td>\n",
       "      <td>1</td>\n",
       "      <td>1</td>\n",
       "      <td>2</td>\n",
       "      <td>0.0</td>\n",
       "      <td>1</td>\n",
       "      <td></td>\n",
       "      <td></td>\n",
       "      <td>REG</td>\n",
       "      <td>REG</td>\n",
       "      <td>14.0</td>\n",
       "    </tr>\n",
       "  </tbody>\n",
       "</table>\n",
       "<p>160 rows × 30 columns</p>\n",
       "</div>"
      ],
      "text/plain": [
       "    Country Season W/R/E                Queen    1    2    3    4    5    6  \\\n",
       "1        US      1     W        Chad Michaels  0.0  3.0  5.0  5.0  5.0  NaN   \n",
       "2        US      1     R                Raven  3.0  1.0  0.0  0.0  0.0  NaN   \n",
       "3        US      1     E              Jujubee  3.0  1.0  0.0  0.0  0.0  NaN   \n",
       "4        US      1     E              Shannel  0.0  3.0  5.0  5.0  5.0  NaN   \n",
       "5        US      2     W               Alaska  3.0  5.0  2.0  5.0  5.0  5.0   \n",
       "..      ...    ...   ...                  ...  ...  ...  ...  ...  ...  ...   \n",
       "156     BEL      1     W         Drag Couenne  3.0  5.0  2.0  5.0  2.0  3.0   \n",
       "157     BEL      1     E                Susan  2.0  1.0  5.0  0.0  3.0  1.0   \n",
       "158     SWE      1     W  Admira Thunderpussy  3.0  2.0  2.0  5.0  5.0  1.0   \n",
       "159     SWE      1     R              Fontana  2.0  2.0  1.0  2.0  0.0  5.0   \n",
       "160     SWE      1     E          Vanity Vain  2.0  0.0  5.0  1.0  3.0  3.0   \n",
       "\n",
       "     ...  Low  Safe  High  SWin  Win  world  allstars  regular  format  score  \n",
       "1    ...    0     0     1   0.0    3               AS               AS   18.0  \n",
       "2    ...    1     0     1   0.0    0               AS               AS    4.0  \n",
       "3    ...    1     0     1   0.0    0               AS               AS    4.0  \n",
       "4    ...    0     0     1   0.0    3               AS               AS   18.0  \n",
       "5    ...    0     1     1   0.0    4               AS               AS   25.0  \n",
       "..   ...  ...   ...   ...   ...  ...    ...       ...      ...     ...    ...  \n",
       "156  ...    0     2     2   0.0    3                       REG     REG   25.0  \n",
       "157  ...    3     1     1   0.0    1                       REG     REG   13.0  \n",
       "158  ...    1     2     1   0.0    3                       REG     REG   23.0  \n",
       "159  ...    1     4     0   0.0    1                       REG     REG   14.0  \n",
       "160  ...    1     1     2   0.0    1                       REG     REG   14.0  \n",
       "\n",
       "[160 rows x 30 columns]"
      ]
     },
     "execution_count": 126,
     "metadata": {},
     "output_type": "execute_result"
    }
   ],
   "source": [
    "#sum all numbers per row in columns 1-14\n",
    "df['score'] = df[episodes].sum(axis=1)\n",
    "\n",
    "df"
   ]
  },
  {
   "attachments": {},
   "cell_type": "markdown",
   "metadata": {},
   "source": [
    "##### **Placement Count**"
   ]
  },
  {
   "attachments": {},
   "cell_type": "markdown",
   "metadata": {},
   "source": [
    "Here, we count the number of placements for each contestants in the `episodes` columns. \n",
    "\n",
    "For each placement, there is a designated column."
   ]
  },
  {
   "cell_type": "code",
   "execution_count": 127,
   "metadata": {},
   "outputs": [],
   "source": [
    "#count the number of 0, 1, 2, 3, 4, 5 in each row per contestant\n",
    "df['bottom'] = df[episodes].eq(0).sum(axis=1)\n",
    "df['low'] = df[episodes].eq(1).sum(axis=1)\n",
    "df['safe'] = df[episodes].eq(2).sum(axis=1)\n",
    "df['high'] = df[episodes].eq(3).sum(axis=1)\n",
    "df['semiwin'] = df[episodes].eq(4).sum(axis=1)\n",
    "df['win'] = df[episodes].eq(5).sum(axis=1)"
   ]
  },
  {
   "cell_type": "code",
   "execution_count": 128,
   "metadata": {},
   "outputs": [
    {
     "data": {
      "text/html": [
       "<div>\n",
       "<style scoped>\n",
       "    .dataframe tbody tr th:only-of-type {\n",
       "        vertical-align: middle;\n",
       "    }\n",
       "\n",
       "    .dataframe tbody tr th {\n",
       "        vertical-align: top;\n",
       "    }\n",
       "\n",
       "    .dataframe thead th {\n",
       "        text-align: right;\n",
       "    }\n",
       "</style>\n",
       "<table border=\"1\" class=\"dataframe\">\n",
       "  <thead>\n",
       "    <tr style=\"text-align: right;\">\n",
       "      <th></th>\n",
       "      <th>Country</th>\n",
       "      <th>Season</th>\n",
       "      <th>W/R/E</th>\n",
       "      <th>Queen</th>\n",
       "      <th>1</th>\n",
       "      <th>2</th>\n",
       "      <th>3</th>\n",
       "      <th>4</th>\n",
       "      <th>5</th>\n",
       "      <th>6</th>\n",
       "      <th>...</th>\n",
       "      <th>allstars</th>\n",
       "      <th>regular</th>\n",
       "      <th>format</th>\n",
       "      <th>score</th>\n",
       "      <th>bottom</th>\n",
       "      <th>low</th>\n",
       "      <th>safe</th>\n",
       "      <th>high</th>\n",
       "      <th>semiwin</th>\n",
       "      <th>win</th>\n",
       "    </tr>\n",
       "  </thead>\n",
       "  <tbody>\n",
       "    <tr>\n",
       "      <th>1</th>\n",
       "      <td>US</td>\n",
       "      <td>1</td>\n",
       "      <td>W</td>\n",
       "      <td>Chad Michaels</td>\n",
       "      <td>0.0</td>\n",
       "      <td>3.0</td>\n",
       "      <td>5.0</td>\n",
       "      <td>5.0</td>\n",
       "      <td>5.0</td>\n",
       "      <td>NaN</td>\n",
       "      <td>...</td>\n",
       "      <td>AS</td>\n",
       "      <td></td>\n",
       "      <td>AS</td>\n",
       "      <td>18.0</td>\n",
       "      <td>1</td>\n",
       "      <td>0</td>\n",
       "      <td>0</td>\n",
       "      <td>1</td>\n",
       "      <td>0</td>\n",
       "      <td>3</td>\n",
       "    </tr>\n",
       "    <tr>\n",
       "      <th>2</th>\n",
       "      <td>US</td>\n",
       "      <td>1</td>\n",
       "      <td>R</td>\n",
       "      <td>Raven</td>\n",
       "      <td>3.0</td>\n",
       "      <td>1.0</td>\n",
       "      <td>0.0</td>\n",
       "      <td>0.0</td>\n",
       "      <td>0.0</td>\n",
       "      <td>NaN</td>\n",
       "      <td>...</td>\n",
       "      <td>AS</td>\n",
       "      <td></td>\n",
       "      <td>AS</td>\n",
       "      <td>4.0</td>\n",
       "      <td>3</td>\n",
       "      <td>1</td>\n",
       "      <td>0</td>\n",
       "      <td>1</td>\n",
       "      <td>0</td>\n",
       "      <td>0</td>\n",
       "    </tr>\n",
       "    <tr>\n",
       "      <th>3</th>\n",
       "      <td>US</td>\n",
       "      <td>1</td>\n",
       "      <td>E</td>\n",
       "      <td>Jujubee</td>\n",
       "      <td>3.0</td>\n",
       "      <td>1.0</td>\n",
       "      <td>0.0</td>\n",
       "      <td>0.0</td>\n",
       "      <td>0.0</td>\n",
       "      <td>NaN</td>\n",
       "      <td>...</td>\n",
       "      <td>AS</td>\n",
       "      <td></td>\n",
       "      <td>AS</td>\n",
       "      <td>4.0</td>\n",
       "      <td>3</td>\n",
       "      <td>1</td>\n",
       "      <td>0</td>\n",
       "      <td>1</td>\n",
       "      <td>0</td>\n",
       "      <td>0</td>\n",
       "    </tr>\n",
       "    <tr>\n",
       "      <th>4</th>\n",
       "      <td>US</td>\n",
       "      <td>1</td>\n",
       "      <td>E</td>\n",
       "      <td>Shannel</td>\n",
       "      <td>0.0</td>\n",
       "      <td>3.0</td>\n",
       "      <td>5.0</td>\n",
       "      <td>5.0</td>\n",
       "      <td>5.0</td>\n",
       "      <td>NaN</td>\n",
       "      <td>...</td>\n",
       "      <td>AS</td>\n",
       "      <td></td>\n",
       "      <td>AS</td>\n",
       "      <td>18.0</td>\n",
       "      <td>1</td>\n",
       "      <td>0</td>\n",
       "      <td>0</td>\n",
       "      <td>1</td>\n",
       "      <td>0</td>\n",
       "      <td>3</td>\n",
       "    </tr>\n",
       "    <tr>\n",
       "      <th>5</th>\n",
       "      <td>US</td>\n",
       "      <td>2</td>\n",
       "      <td>W</td>\n",
       "      <td>Alaska</td>\n",
       "      <td>3.0</td>\n",
       "      <td>5.0</td>\n",
       "      <td>2.0</td>\n",
       "      <td>5.0</td>\n",
       "      <td>5.0</td>\n",
       "      <td>5.0</td>\n",
       "      <td>...</td>\n",
       "      <td>AS</td>\n",
       "      <td></td>\n",
       "      <td>AS</td>\n",
       "      <td>25.0</td>\n",
       "      <td>1</td>\n",
       "      <td>0</td>\n",
       "      <td>1</td>\n",
       "      <td>1</td>\n",
       "      <td>0</td>\n",
       "      <td>4</td>\n",
       "    </tr>\n",
       "    <tr>\n",
       "      <th>...</th>\n",
       "      <td>...</td>\n",
       "      <td>...</td>\n",
       "      <td>...</td>\n",
       "      <td>...</td>\n",
       "      <td>...</td>\n",
       "      <td>...</td>\n",
       "      <td>...</td>\n",
       "      <td>...</td>\n",
       "      <td>...</td>\n",
       "      <td>...</td>\n",
       "      <td>...</td>\n",
       "      <td>...</td>\n",
       "      <td>...</td>\n",
       "      <td>...</td>\n",
       "      <td>...</td>\n",
       "      <td>...</td>\n",
       "      <td>...</td>\n",
       "      <td>...</td>\n",
       "      <td>...</td>\n",
       "      <td>...</td>\n",
       "      <td>...</td>\n",
       "    </tr>\n",
       "    <tr>\n",
       "      <th>156</th>\n",
       "      <td>BEL</td>\n",
       "      <td>1</td>\n",
       "      <td>W</td>\n",
       "      <td>Drag Couenne</td>\n",
       "      <td>3.0</td>\n",
       "      <td>5.0</td>\n",
       "      <td>2.0</td>\n",
       "      <td>5.0</td>\n",
       "      <td>2.0</td>\n",
       "      <td>3.0</td>\n",
       "      <td>...</td>\n",
       "      <td></td>\n",
       "      <td>REG</td>\n",
       "      <td>REG</td>\n",
       "      <td>25.0</td>\n",
       "      <td>0</td>\n",
       "      <td>0</td>\n",
       "      <td>2</td>\n",
       "      <td>2</td>\n",
       "      <td>0</td>\n",
       "      <td>3</td>\n",
       "    </tr>\n",
       "    <tr>\n",
       "      <th>157</th>\n",
       "      <td>BEL</td>\n",
       "      <td>1</td>\n",
       "      <td>E</td>\n",
       "      <td>Susan</td>\n",
       "      <td>2.0</td>\n",
       "      <td>1.0</td>\n",
       "      <td>5.0</td>\n",
       "      <td>0.0</td>\n",
       "      <td>3.0</td>\n",
       "      <td>1.0</td>\n",
       "      <td>...</td>\n",
       "      <td></td>\n",
       "      <td>REG</td>\n",
       "      <td>REG</td>\n",
       "      <td>13.0</td>\n",
       "      <td>1</td>\n",
       "      <td>3</td>\n",
       "      <td>1</td>\n",
       "      <td>1</td>\n",
       "      <td>0</td>\n",
       "      <td>1</td>\n",
       "    </tr>\n",
       "    <tr>\n",
       "      <th>158</th>\n",
       "      <td>SWE</td>\n",
       "      <td>1</td>\n",
       "      <td>W</td>\n",
       "      <td>Admira Thunderpussy</td>\n",
       "      <td>3.0</td>\n",
       "      <td>2.0</td>\n",
       "      <td>2.0</td>\n",
       "      <td>5.0</td>\n",
       "      <td>5.0</td>\n",
       "      <td>1.0</td>\n",
       "      <td>...</td>\n",
       "      <td></td>\n",
       "      <td>REG</td>\n",
       "      <td>REG</td>\n",
       "      <td>23.0</td>\n",
       "      <td>0</td>\n",
       "      <td>1</td>\n",
       "      <td>2</td>\n",
       "      <td>1</td>\n",
       "      <td>0</td>\n",
       "      <td>3</td>\n",
       "    </tr>\n",
       "    <tr>\n",
       "      <th>159</th>\n",
       "      <td>SWE</td>\n",
       "      <td>1</td>\n",
       "      <td>R</td>\n",
       "      <td>Fontana</td>\n",
       "      <td>2.0</td>\n",
       "      <td>2.0</td>\n",
       "      <td>1.0</td>\n",
       "      <td>2.0</td>\n",
       "      <td>0.0</td>\n",
       "      <td>5.0</td>\n",
       "      <td>...</td>\n",
       "      <td></td>\n",
       "      <td>REG</td>\n",
       "      <td>REG</td>\n",
       "      <td>14.0</td>\n",
       "      <td>1</td>\n",
       "      <td>1</td>\n",
       "      <td>4</td>\n",
       "      <td>0</td>\n",
       "      <td>0</td>\n",
       "      <td>1</td>\n",
       "    </tr>\n",
       "    <tr>\n",
       "      <th>160</th>\n",
       "      <td>SWE</td>\n",
       "      <td>1</td>\n",
       "      <td>E</td>\n",
       "      <td>Vanity Vain</td>\n",
       "      <td>2.0</td>\n",
       "      <td>0.0</td>\n",
       "      <td>5.0</td>\n",
       "      <td>1.0</td>\n",
       "      <td>3.0</td>\n",
       "      <td>3.0</td>\n",
       "      <td>...</td>\n",
       "      <td></td>\n",
       "      <td>REG</td>\n",
       "      <td>REG</td>\n",
       "      <td>14.0</td>\n",
       "      <td>2</td>\n",
       "      <td>1</td>\n",
       "      <td>1</td>\n",
       "      <td>2</td>\n",
       "      <td>0</td>\n",
       "      <td>1</td>\n",
       "    </tr>\n",
       "  </tbody>\n",
       "</table>\n",
       "<p>160 rows × 36 columns</p>\n",
       "</div>"
      ],
      "text/plain": [
       "    Country Season W/R/E                Queen    1    2    3    4    5    6  \\\n",
       "1        US      1     W        Chad Michaels  0.0  3.0  5.0  5.0  5.0  NaN   \n",
       "2        US      1     R                Raven  3.0  1.0  0.0  0.0  0.0  NaN   \n",
       "3        US      1     E              Jujubee  3.0  1.0  0.0  0.0  0.0  NaN   \n",
       "4        US      1     E              Shannel  0.0  3.0  5.0  5.0  5.0  NaN   \n",
       "5        US      2     W               Alaska  3.0  5.0  2.0  5.0  5.0  5.0   \n",
       "..      ...    ...   ...                  ...  ...  ...  ...  ...  ...  ...   \n",
       "156     BEL      1     W         Drag Couenne  3.0  5.0  2.0  5.0  2.0  3.0   \n",
       "157     BEL      1     E                Susan  2.0  1.0  5.0  0.0  3.0  1.0   \n",
       "158     SWE      1     W  Admira Thunderpussy  3.0  2.0  2.0  5.0  5.0  1.0   \n",
       "159     SWE      1     R              Fontana  2.0  2.0  1.0  2.0  0.0  5.0   \n",
       "160     SWE      1     E          Vanity Vain  2.0  0.0  5.0  1.0  3.0  3.0   \n",
       "\n",
       "     ...  allstars  regular  format  score  bottom  low  safe  high  semiwin  \\\n",
       "1    ...        AS               AS   18.0       1    0     0     1        0   \n",
       "2    ...        AS               AS    4.0       3    1     0     1        0   \n",
       "3    ...        AS               AS    4.0       3    1     0     1        0   \n",
       "4    ...        AS               AS   18.0       1    0     0     1        0   \n",
       "5    ...        AS               AS   25.0       1    0     1     1        0   \n",
       "..   ...       ...      ...     ...    ...     ...  ...   ...   ...      ...   \n",
       "156  ...                REG     REG   25.0       0    0     2     2        0   \n",
       "157  ...                REG     REG   13.0       1    3     1     1        0   \n",
       "158  ...                REG     REG   23.0       0    1     2     1        0   \n",
       "159  ...                REG     REG   14.0       1    1     4     0        0   \n",
       "160  ...                REG     REG   14.0       2    1     1     2        0   \n",
       "\n",
       "     win  \n",
       "1      3  \n",
       "2      0  \n",
       "3      0  \n",
       "4      3  \n",
       "5      4  \n",
       "..   ...  \n",
       "156    3  \n",
       "157    1  \n",
       "158    3  \n",
       "159    1  \n",
       "160    1  \n",
       "\n",
       "[160 rows x 36 columns]"
      ]
     },
     "execution_count": 128,
     "metadata": {},
     "output_type": "execute_result"
    }
   ],
   "source": [
    "placement = ['bottom', 'low', 'safe', 'high', 'semiwin', 'win']\n",
    "\n",
    "df"
   ]
  },
  {
   "attachments": {},
   "cell_type": "markdown",
   "metadata": {},
   "source": [
    "##### **Final Column Fixes**"
   ]
  },
  {
   "attachments": {},
   "cell_type": "markdown",
   "metadata": {},
   "source": [
    "In preparation for the another set of EDA, we must prepare the dataframe in a better order. We first get all the columns in their current order:"
   ]
  },
  {
   "cell_type": "code",
   "execution_count": 129,
   "metadata": {},
   "outputs": [
    {
     "data": {
      "text/plain": [
       "Index(['Country', 'Season', 'W/R/E', 'Queen', '1', '2', '3', '4', '5', '6',\n",
       "       '7', '8', '9', '10', '11', '12', '13', '14', '15', 'Bttm', 'Low',\n",
       "       'Safe', 'High', 'SWin', 'Win', 'world', 'allstars', 'regular', 'format',\n",
       "       'score', 'bottom', 'low', 'safe', 'high', 'semiwin', 'win'],\n",
       "      dtype='object')"
      ]
     },
     "execution_count": 129,
     "metadata": {},
     "output_type": "execute_result"
    }
   ],
   "source": [
    "df.columns"
   ]
  },
  {
   "attachments": {},
   "cell_type": "markdown",
   "metadata": {},
   "source": [
    "Because of the new adjustments, we have to drop columns again before anything else so that we can only see the usefeul features."
   ]
  },
  {
   "cell_type": "code",
   "execution_count": 130,
   "metadata": {},
   "outputs": [
    {
     "data": {
      "text/html": [
       "<div>\n",
       "<style scoped>\n",
       "    .dataframe tbody tr th:only-of-type {\n",
       "        vertical-align: middle;\n",
       "    }\n",
       "\n",
       "    .dataframe tbody tr th {\n",
       "        vertical-align: top;\n",
       "    }\n",
       "\n",
       "    .dataframe thead th {\n",
       "        text-align: right;\n",
       "    }\n",
       "</style>\n",
       "<table border=\"1\" class=\"dataframe\">\n",
       "  <thead>\n",
       "    <tr style=\"text-align: right;\">\n",
       "      <th></th>\n",
       "      <th>Country</th>\n",
       "      <th>Season</th>\n",
       "      <th>W/R/E</th>\n",
       "      <th>Queen</th>\n",
       "      <th>1</th>\n",
       "      <th>2</th>\n",
       "      <th>3</th>\n",
       "      <th>4</th>\n",
       "      <th>5</th>\n",
       "      <th>6</th>\n",
       "      <th>...</th>\n",
       "      <th>SWin</th>\n",
       "      <th>Win</th>\n",
       "      <th>format</th>\n",
       "      <th>score</th>\n",
       "      <th>bottom</th>\n",
       "      <th>low</th>\n",
       "      <th>safe</th>\n",
       "      <th>high</th>\n",
       "      <th>semiwin</th>\n",
       "      <th>win</th>\n",
       "    </tr>\n",
       "  </thead>\n",
       "  <tbody>\n",
       "    <tr>\n",
       "      <th>1</th>\n",
       "      <td>US</td>\n",
       "      <td>1</td>\n",
       "      <td>W</td>\n",
       "      <td>Chad Michaels</td>\n",
       "      <td>0.0</td>\n",
       "      <td>3.0</td>\n",
       "      <td>5.0</td>\n",
       "      <td>5.0</td>\n",
       "      <td>5.0</td>\n",
       "      <td>NaN</td>\n",
       "      <td>...</td>\n",
       "      <td>0.0</td>\n",
       "      <td>3</td>\n",
       "      <td>AS</td>\n",
       "      <td>18.0</td>\n",
       "      <td>1</td>\n",
       "      <td>0</td>\n",
       "      <td>0</td>\n",
       "      <td>1</td>\n",
       "      <td>0</td>\n",
       "      <td>3</td>\n",
       "    </tr>\n",
       "    <tr>\n",
       "      <th>2</th>\n",
       "      <td>US</td>\n",
       "      <td>1</td>\n",
       "      <td>R</td>\n",
       "      <td>Raven</td>\n",
       "      <td>3.0</td>\n",
       "      <td>1.0</td>\n",
       "      <td>0.0</td>\n",
       "      <td>0.0</td>\n",
       "      <td>0.0</td>\n",
       "      <td>NaN</td>\n",
       "      <td>...</td>\n",
       "      <td>0.0</td>\n",
       "      <td>0</td>\n",
       "      <td>AS</td>\n",
       "      <td>4.0</td>\n",
       "      <td>3</td>\n",
       "      <td>1</td>\n",
       "      <td>0</td>\n",
       "      <td>1</td>\n",
       "      <td>0</td>\n",
       "      <td>0</td>\n",
       "    </tr>\n",
       "    <tr>\n",
       "      <th>3</th>\n",
       "      <td>US</td>\n",
       "      <td>1</td>\n",
       "      <td>E</td>\n",
       "      <td>Jujubee</td>\n",
       "      <td>3.0</td>\n",
       "      <td>1.0</td>\n",
       "      <td>0.0</td>\n",
       "      <td>0.0</td>\n",
       "      <td>0.0</td>\n",
       "      <td>NaN</td>\n",
       "      <td>...</td>\n",
       "      <td>0.0</td>\n",
       "      <td>0</td>\n",
       "      <td>AS</td>\n",
       "      <td>4.0</td>\n",
       "      <td>3</td>\n",
       "      <td>1</td>\n",
       "      <td>0</td>\n",
       "      <td>1</td>\n",
       "      <td>0</td>\n",
       "      <td>0</td>\n",
       "    </tr>\n",
       "    <tr>\n",
       "      <th>4</th>\n",
       "      <td>US</td>\n",
       "      <td>1</td>\n",
       "      <td>E</td>\n",
       "      <td>Shannel</td>\n",
       "      <td>0.0</td>\n",
       "      <td>3.0</td>\n",
       "      <td>5.0</td>\n",
       "      <td>5.0</td>\n",
       "      <td>5.0</td>\n",
       "      <td>NaN</td>\n",
       "      <td>...</td>\n",
       "      <td>0.0</td>\n",
       "      <td>3</td>\n",
       "      <td>AS</td>\n",
       "      <td>18.0</td>\n",
       "      <td>1</td>\n",
       "      <td>0</td>\n",
       "      <td>0</td>\n",
       "      <td>1</td>\n",
       "      <td>0</td>\n",
       "      <td>3</td>\n",
       "    </tr>\n",
       "    <tr>\n",
       "      <th>5</th>\n",
       "      <td>US</td>\n",
       "      <td>2</td>\n",
       "      <td>W</td>\n",
       "      <td>Alaska</td>\n",
       "      <td>3.0</td>\n",
       "      <td>5.0</td>\n",
       "      <td>2.0</td>\n",
       "      <td>5.0</td>\n",
       "      <td>5.0</td>\n",
       "      <td>5.0</td>\n",
       "      <td>...</td>\n",
       "      <td>0.0</td>\n",
       "      <td>4</td>\n",
       "      <td>AS</td>\n",
       "      <td>25.0</td>\n",
       "      <td>1</td>\n",
       "      <td>0</td>\n",
       "      <td>1</td>\n",
       "      <td>1</td>\n",
       "      <td>0</td>\n",
       "      <td>4</td>\n",
       "    </tr>\n",
       "    <tr>\n",
       "      <th>...</th>\n",
       "      <td>...</td>\n",
       "      <td>...</td>\n",
       "      <td>...</td>\n",
       "      <td>...</td>\n",
       "      <td>...</td>\n",
       "      <td>...</td>\n",
       "      <td>...</td>\n",
       "      <td>...</td>\n",
       "      <td>...</td>\n",
       "      <td>...</td>\n",
       "      <td>...</td>\n",
       "      <td>...</td>\n",
       "      <td>...</td>\n",
       "      <td>...</td>\n",
       "      <td>...</td>\n",
       "      <td>...</td>\n",
       "      <td>...</td>\n",
       "      <td>...</td>\n",
       "      <td>...</td>\n",
       "      <td>...</td>\n",
       "      <td>...</td>\n",
       "    </tr>\n",
       "    <tr>\n",
       "      <th>156</th>\n",
       "      <td>BEL</td>\n",
       "      <td>1</td>\n",
       "      <td>W</td>\n",
       "      <td>Drag Couenne</td>\n",
       "      <td>3.0</td>\n",
       "      <td>5.0</td>\n",
       "      <td>2.0</td>\n",
       "      <td>5.0</td>\n",
       "      <td>2.0</td>\n",
       "      <td>3.0</td>\n",
       "      <td>...</td>\n",
       "      <td>0.0</td>\n",
       "      <td>3</td>\n",
       "      <td>REG</td>\n",
       "      <td>25.0</td>\n",
       "      <td>0</td>\n",
       "      <td>0</td>\n",
       "      <td>2</td>\n",
       "      <td>2</td>\n",
       "      <td>0</td>\n",
       "      <td>3</td>\n",
       "    </tr>\n",
       "    <tr>\n",
       "      <th>157</th>\n",
       "      <td>BEL</td>\n",
       "      <td>1</td>\n",
       "      <td>E</td>\n",
       "      <td>Susan</td>\n",
       "      <td>2.0</td>\n",
       "      <td>1.0</td>\n",
       "      <td>5.0</td>\n",
       "      <td>0.0</td>\n",
       "      <td>3.0</td>\n",
       "      <td>1.0</td>\n",
       "      <td>...</td>\n",
       "      <td>0.0</td>\n",
       "      <td>1</td>\n",
       "      <td>REG</td>\n",
       "      <td>13.0</td>\n",
       "      <td>1</td>\n",
       "      <td>3</td>\n",
       "      <td>1</td>\n",
       "      <td>1</td>\n",
       "      <td>0</td>\n",
       "      <td>1</td>\n",
       "    </tr>\n",
       "    <tr>\n",
       "      <th>158</th>\n",
       "      <td>SWE</td>\n",
       "      <td>1</td>\n",
       "      <td>W</td>\n",
       "      <td>Admira Thunderpussy</td>\n",
       "      <td>3.0</td>\n",
       "      <td>2.0</td>\n",
       "      <td>2.0</td>\n",
       "      <td>5.0</td>\n",
       "      <td>5.0</td>\n",
       "      <td>1.0</td>\n",
       "      <td>...</td>\n",
       "      <td>0.0</td>\n",
       "      <td>3</td>\n",
       "      <td>REG</td>\n",
       "      <td>23.0</td>\n",
       "      <td>0</td>\n",
       "      <td>1</td>\n",
       "      <td>2</td>\n",
       "      <td>1</td>\n",
       "      <td>0</td>\n",
       "      <td>3</td>\n",
       "    </tr>\n",
       "    <tr>\n",
       "      <th>159</th>\n",
       "      <td>SWE</td>\n",
       "      <td>1</td>\n",
       "      <td>R</td>\n",
       "      <td>Fontana</td>\n",
       "      <td>2.0</td>\n",
       "      <td>2.0</td>\n",
       "      <td>1.0</td>\n",
       "      <td>2.0</td>\n",
       "      <td>0.0</td>\n",
       "      <td>5.0</td>\n",
       "      <td>...</td>\n",
       "      <td>0.0</td>\n",
       "      <td>1</td>\n",
       "      <td>REG</td>\n",
       "      <td>14.0</td>\n",
       "      <td>1</td>\n",
       "      <td>1</td>\n",
       "      <td>4</td>\n",
       "      <td>0</td>\n",
       "      <td>0</td>\n",
       "      <td>1</td>\n",
       "    </tr>\n",
       "    <tr>\n",
       "      <th>160</th>\n",
       "      <td>SWE</td>\n",
       "      <td>1</td>\n",
       "      <td>E</td>\n",
       "      <td>Vanity Vain</td>\n",
       "      <td>2.0</td>\n",
       "      <td>0.0</td>\n",
       "      <td>5.0</td>\n",
       "      <td>1.0</td>\n",
       "      <td>3.0</td>\n",
       "      <td>3.0</td>\n",
       "      <td>...</td>\n",
       "      <td>0.0</td>\n",
       "      <td>1</td>\n",
       "      <td>REG</td>\n",
       "      <td>14.0</td>\n",
       "      <td>2</td>\n",
       "      <td>1</td>\n",
       "      <td>1</td>\n",
       "      <td>2</td>\n",
       "      <td>0</td>\n",
       "      <td>1</td>\n",
       "    </tr>\n",
       "  </tbody>\n",
       "</table>\n",
       "<p>160 rows × 32 columns</p>\n",
       "</div>"
      ],
      "text/plain": [
       "    Country Season W/R/E                Queen    1    2    3    4    5    6  \\\n",
       "1        US      1     W        Chad Michaels  0.0  3.0  5.0  5.0  5.0  NaN   \n",
       "2        US      1     R                Raven  3.0  1.0  0.0  0.0  0.0  NaN   \n",
       "3        US      1     E              Jujubee  3.0  1.0  0.0  0.0  0.0  NaN   \n",
       "4        US      1     E              Shannel  0.0  3.0  5.0  5.0  5.0  NaN   \n",
       "5        US      2     W               Alaska  3.0  5.0  2.0  5.0  5.0  5.0   \n",
       "..      ...    ...   ...                  ...  ...  ...  ...  ...  ...  ...   \n",
       "156     BEL      1     W         Drag Couenne  3.0  5.0  2.0  5.0  2.0  3.0   \n",
       "157     BEL      1     E                Susan  2.0  1.0  5.0  0.0  3.0  1.0   \n",
       "158     SWE      1     W  Admira Thunderpussy  3.0  2.0  2.0  5.0  5.0  1.0   \n",
       "159     SWE      1     R              Fontana  2.0  2.0  1.0  2.0  0.0  5.0   \n",
       "160     SWE      1     E          Vanity Vain  2.0  0.0  5.0  1.0  3.0  3.0   \n",
       "\n",
       "     ...  SWin  Win  format  score  bottom  low  safe  high  semiwin  win  \n",
       "1    ...   0.0    3      AS   18.0       1    0     0     1        0    3  \n",
       "2    ...   0.0    0      AS    4.0       3    1     0     1        0    0  \n",
       "3    ...   0.0    0      AS    4.0       3    1     0     1        0    0  \n",
       "4    ...   0.0    3      AS   18.0       1    0     0     1        0    3  \n",
       "5    ...   0.0    4      AS   25.0       1    0     1     1        0    4  \n",
       "..   ...   ...  ...     ...    ...     ...  ...   ...   ...      ...  ...  \n",
       "156  ...   0.0    3     REG   25.0       0    0     2     2        0    3  \n",
       "157  ...   0.0    1     REG   13.0       1    3     1     1        0    1  \n",
       "158  ...   0.0    3     REG   23.0       0    1     2     1        0    3  \n",
       "159  ...   0.0    1     REG   14.0       1    1     4     0        0    1  \n",
       "160  ...   0.0    1     REG   14.0       2    1     1     2        0    1  \n",
       "\n",
       "[160 rows x 32 columns]"
      ]
     },
     "execution_count": 130,
     "metadata": {},
     "output_type": "execute_result"
    }
   ],
   "source": [
    "drop_col = ['15', 'world', 'allstars', 'regular']\n",
    "df = df.drop(drop_col, axis=1)\n",
    "df"
   ]
  },
  {
   "attachments": {},
   "cell_type": "markdown",
   "metadata": {},
   "source": [
    "For better calling, we now make all the columns lowercase through mapping."
   ]
  },
  {
   "cell_type": "code",
   "execution_count": 131,
   "metadata": {},
   "outputs": [],
   "source": [
    "#lowercase all column names\n",
    "df.columns = map(str.lower, df.columns)"
   ]
  },
  {
   "attachments": {},
   "cell_type": "markdown",
   "metadata": {},
   "source": [
    "#### **Feature Selection**"
   ]
  },
  {
   "cell_type": "code",
   "execution_count": 138,
   "metadata": {},
   "outputs": [
    {
     "data": {
      "text/plain": [
       "Index(['country', 'season', 'w/r/e', 'queen', '1', '2', '3', '4', '5', '6',\n",
       "       '7', '8', '9', '10', '11', '12', '13', '14', 'bttm', 'low', 'safe',\n",
       "       'high', 'swin', 'win', 'format', 'score', 'bottom', 'low', 'safe',\n",
       "       'high', 'semiwin', 'win'],\n",
       "      dtype='object')"
      ]
     },
     "execution_count": 138,
     "metadata": {},
     "output_type": "execute_result"
    }
   ],
   "source": [
    "df.columns"
   ]
  },
  {
   "attachments": {},
   "cell_type": "markdown",
   "metadata": {},
   "source": [
    "**Select and reordered columns**\n",
    "\n",
    "To better organize certain data for their own uses, we separate the dataframes based on certain features"
   ]
  },
  {
   "cell_type": "code",
   "execution_count": 132,
   "metadata": {},
   "outputs": [],
   "source": [
    "df_scores = df[['season', 'country', 'format', 'w/r/e', 'queen', '1', '2', '3', '4', '5', '6', '7', '8', '9', '10', '11', '12', '13', '14']]\n",
    "\n",
    "df_placements = df[['season', 'country', 'format', 'w/r/e', 'queen', '1', '2', '3', '4', '5', '6', '7', '8', '9', '10', '11', '12', '13', '14']]"
   ]
  },
  {
   "attachments": {},
   "cell_type": "markdown",
   "metadata": {},
   "source": [
    "## **Exploratory Data Analysis Part 2**"
   ]
  },
  {
   "attachments": {},
   "cell_type": "markdown",
   "metadata": {},
   "source": [
    "The following questions are asked to guide the EDA.\n",
    "\n",
    "1. "
   ]
  },
  {
   "cell_type": "code",
   "execution_count": 133,
   "metadata": {},
   "outputs": [
    {
     "data": {
      "text/html": [
       "<div>\n",
       "<style scoped>\n",
       "    .dataframe tbody tr th:only-of-type {\n",
       "        vertical-align: middle;\n",
       "    }\n",
       "\n",
       "    .dataframe tbody tr th {\n",
       "        vertical-align: top;\n",
       "    }\n",
       "\n",
       "    .dataframe thead th {\n",
       "        text-align: right;\n",
       "    }\n",
       "</style>\n",
       "<table border=\"1\" class=\"dataframe\">\n",
       "  <thead>\n",
       "    <tr style=\"text-align: right;\">\n",
       "      <th></th>\n",
       "      <th>country</th>\n",
       "      <th>season</th>\n",
       "      <th>w/r/e</th>\n",
       "      <th>queen</th>\n",
       "      <th>1</th>\n",
       "      <th>2</th>\n",
       "      <th>3</th>\n",
       "      <th>4</th>\n",
       "      <th>5</th>\n",
       "      <th>6</th>\n",
       "      <th>...</th>\n",
       "      <th>swin</th>\n",
       "      <th>win</th>\n",
       "      <th>format</th>\n",
       "      <th>score</th>\n",
       "      <th>bottom</th>\n",
       "      <th>low</th>\n",
       "      <th>safe</th>\n",
       "      <th>high</th>\n",
       "      <th>semiwin</th>\n",
       "      <th>win</th>\n",
       "    </tr>\n",
       "  </thead>\n",
       "  <tbody>\n",
       "    <tr>\n",
       "      <th>1</th>\n",
       "      <td>US</td>\n",
       "      <td>1</td>\n",
       "      <td>W</td>\n",
       "      <td>Chad Michaels</td>\n",
       "      <td>0.0</td>\n",
       "      <td>3.0</td>\n",
       "      <td>5.0</td>\n",
       "      <td>5.0</td>\n",
       "      <td>5.0</td>\n",
       "      <td>NaN</td>\n",
       "      <td>...</td>\n",
       "      <td>0.0</td>\n",
       "      <td>3</td>\n",
       "      <td>AS</td>\n",
       "      <td>18.0</td>\n",
       "      <td>1</td>\n",
       "      <td>0</td>\n",
       "      <td>0</td>\n",
       "      <td>1</td>\n",
       "      <td>0</td>\n",
       "      <td>3</td>\n",
       "    </tr>\n",
       "    <tr>\n",
       "      <th>2</th>\n",
       "      <td>US</td>\n",
       "      <td>1</td>\n",
       "      <td>R</td>\n",
       "      <td>Raven</td>\n",
       "      <td>3.0</td>\n",
       "      <td>1.0</td>\n",
       "      <td>0.0</td>\n",
       "      <td>0.0</td>\n",
       "      <td>0.0</td>\n",
       "      <td>NaN</td>\n",
       "      <td>...</td>\n",
       "      <td>0.0</td>\n",
       "      <td>0</td>\n",
       "      <td>AS</td>\n",
       "      <td>4.0</td>\n",
       "      <td>3</td>\n",
       "      <td>1</td>\n",
       "      <td>0</td>\n",
       "      <td>1</td>\n",
       "      <td>0</td>\n",
       "      <td>0</td>\n",
       "    </tr>\n",
       "    <tr>\n",
       "      <th>3</th>\n",
       "      <td>US</td>\n",
       "      <td>1</td>\n",
       "      <td>E</td>\n",
       "      <td>Jujubee</td>\n",
       "      <td>3.0</td>\n",
       "      <td>1.0</td>\n",
       "      <td>0.0</td>\n",
       "      <td>0.0</td>\n",
       "      <td>0.0</td>\n",
       "      <td>NaN</td>\n",
       "      <td>...</td>\n",
       "      <td>0.0</td>\n",
       "      <td>0</td>\n",
       "      <td>AS</td>\n",
       "      <td>4.0</td>\n",
       "      <td>3</td>\n",
       "      <td>1</td>\n",
       "      <td>0</td>\n",
       "      <td>1</td>\n",
       "      <td>0</td>\n",
       "      <td>0</td>\n",
       "    </tr>\n",
       "    <tr>\n",
       "      <th>4</th>\n",
       "      <td>US</td>\n",
       "      <td>1</td>\n",
       "      <td>E</td>\n",
       "      <td>Shannel</td>\n",
       "      <td>0.0</td>\n",
       "      <td>3.0</td>\n",
       "      <td>5.0</td>\n",
       "      <td>5.0</td>\n",
       "      <td>5.0</td>\n",
       "      <td>NaN</td>\n",
       "      <td>...</td>\n",
       "      <td>0.0</td>\n",
       "      <td>3</td>\n",
       "      <td>AS</td>\n",
       "      <td>18.0</td>\n",
       "      <td>1</td>\n",
       "      <td>0</td>\n",
       "      <td>0</td>\n",
       "      <td>1</td>\n",
       "      <td>0</td>\n",
       "      <td>3</td>\n",
       "    </tr>\n",
       "    <tr>\n",
       "      <th>5</th>\n",
       "      <td>US</td>\n",
       "      <td>2</td>\n",
       "      <td>W</td>\n",
       "      <td>Alaska</td>\n",
       "      <td>3.0</td>\n",
       "      <td>5.0</td>\n",
       "      <td>2.0</td>\n",
       "      <td>5.0</td>\n",
       "      <td>5.0</td>\n",
       "      <td>5.0</td>\n",
       "      <td>...</td>\n",
       "      <td>0.0</td>\n",
       "      <td>4</td>\n",
       "      <td>AS</td>\n",
       "      <td>25.0</td>\n",
       "      <td>1</td>\n",
       "      <td>0</td>\n",
       "      <td>1</td>\n",
       "      <td>1</td>\n",
       "      <td>0</td>\n",
       "      <td>4</td>\n",
       "    </tr>\n",
       "    <tr>\n",
       "      <th>...</th>\n",
       "      <td>...</td>\n",
       "      <td>...</td>\n",
       "      <td>...</td>\n",
       "      <td>...</td>\n",
       "      <td>...</td>\n",
       "      <td>...</td>\n",
       "      <td>...</td>\n",
       "      <td>...</td>\n",
       "      <td>...</td>\n",
       "      <td>...</td>\n",
       "      <td>...</td>\n",
       "      <td>...</td>\n",
       "      <td>...</td>\n",
       "      <td>...</td>\n",
       "      <td>...</td>\n",
       "      <td>...</td>\n",
       "      <td>...</td>\n",
       "      <td>...</td>\n",
       "      <td>...</td>\n",
       "      <td>...</td>\n",
       "      <td>...</td>\n",
       "    </tr>\n",
       "    <tr>\n",
       "      <th>156</th>\n",
       "      <td>BEL</td>\n",
       "      <td>1</td>\n",
       "      <td>W</td>\n",
       "      <td>Drag Couenne</td>\n",
       "      <td>3.0</td>\n",
       "      <td>5.0</td>\n",
       "      <td>2.0</td>\n",
       "      <td>5.0</td>\n",
       "      <td>2.0</td>\n",
       "      <td>3.0</td>\n",
       "      <td>...</td>\n",
       "      <td>0.0</td>\n",
       "      <td>3</td>\n",
       "      <td>REG</td>\n",
       "      <td>25.0</td>\n",
       "      <td>0</td>\n",
       "      <td>0</td>\n",
       "      <td>2</td>\n",
       "      <td>2</td>\n",
       "      <td>0</td>\n",
       "      <td>3</td>\n",
       "    </tr>\n",
       "    <tr>\n",
       "      <th>157</th>\n",
       "      <td>BEL</td>\n",
       "      <td>1</td>\n",
       "      <td>E</td>\n",
       "      <td>Susan</td>\n",
       "      <td>2.0</td>\n",
       "      <td>1.0</td>\n",
       "      <td>5.0</td>\n",
       "      <td>0.0</td>\n",
       "      <td>3.0</td>\n",
       "      <td>1.0</td>\n",
       "      <td>...</td>\n",
       "      <td>0.0</td>\n",
       "      <td>1</td>\n",
       "      <td>REG</td>\n",
       "      <td>13.0</td>\n",
       "      <td>1</td>\n",
       "      <td>3</td>\n",
       "      <td>1</td>\n",
       "      <td>1</td>\n",
       "      <td>0</td>\n",
       "      <td>1</td>\n",
       "    </tr>\n",
       "    <tr>\n",
       "      <th>158</th>\n",
       "      <td>SWE</td>\n",
       "      <td>1</td>\n",
       "      <td>W</td>\n",
       "      <td>Admira Thunderpussy</td>\n",
       "      <td>3.0</td>\n",
       "      <td>2.0</td>\n",
       "      <td>2.0</td>\n",
       "      <td>5.0</td>\n",
       "      <td>5.0</td>\n",
       "      <td>1.0</td>\n",
       "      <td>...</td>\n",
       "      <td>0.0</td>\n",
       "      <td>3</td>\n",
       "      <td>REG</td>\n",
       "      <td>23.0</td>\n",
       "      <td>0</td>\n",
       "      <td>1</td>\n",
       "      <td>2</td>\n",
       "      <td>1</td>\n",
       "      <td>0</td>\n",
       "      <td>3</td>\n",
       "    </tr>\n",
       "    <tr>\n",
       "      <th>159</th>\n",
       "      <td>SWE</td>\n",
       "      <td>1</td>\n",
       "      <td>R</td>\n",
       "      <td>Fontana</td>\n",
       "      <td>2.0</td>\n",
       "      <td>2.0</td>\n",
       "      <td>1.0</td>\n",
       "      <td>2.0</td>\n",
       "      <td>0.0</td>\n",
       "      <td>5.0</td>\n",
       "      <td>...</td>\n",
       "      <td>0.0</td>\n",
       "      <td>1</td>\n",
       "      <td>REG</td>\n",
       "      <td>14.0</td>\n",
       "      <td>1</td>\n",
       "      <td>1</td>\n",
       "      <td>4</td>\n",
       "      <td>0</td>\n",
       "      <td>0</td>\n",
       "      <td>1</td>\n",
       "    </tr>\n",
       "    <tr>\n",
       "      <th>160</th>\n",
       "      <td>SWE</td>\n",
       "      <td>1</td>\n",
       "      <td>E</td>\n",
       "      <td>Vanity Vain</td>\n",
       "      <td>2.0</td>\n",
       "      <td>0.0</td>\n",
       "      <td>5.0</td>\n",
       "      <td>1.0</td>\n",
       "      <td>3.0</td>\n",
       "      <td>3.0</td>\n",
       "      <td>...</td>\n",
       "      <td>0.0</td>\n",
       "      <td>1</td>\n",
       "      <td>REG</td>\n",
       "      <td>14.0</td>\n",
       "      <td>2</td>\n",
       "      <td>1</td>\n",
       "      <td>1</td>\n",
       "      <td>2</td>\n",
       "      <td>0</td>\n",
       "      <td>1</td>\n",
       "    </tr>\n",
       "  </tbody>\n",
       "</table>\n",
       "<p>160 rows × 32 columns</p>\n",
       "</div>"
      ],
      "text/plain": [
       "    country season w/r/e                queen    1    2    3    4    5    6  \\\n",
       "1        US      1     W        Chad Michaels  0.0  3.0  5.0  5.0  5.0  NaN   \n",
       "2        US      1     R                Raven  3.0  1.0  0.0  0.0  0.0  NaN   \n",
       "3        US      1     E              Jujubee  3.0  1.0  0.0  0.0  0.0  NaN   \n",
       "4        US      1     E              Shannel  0.0  3.0  5.0  5.0  5.0  NaN   \n",
       "5        US      2     W               Alaska  3.0  5.0  2.0  5.0  5.0  5.0   \n",
       "..      ...    ...   ...                  ...  ...  ...  ...  ...  ...  ...   \n",
       "156     BEL      1     W         Drag Couenne  3.0  5.0  2.0  5.0  2.0  3.0   \n",
       "157     BEL      1     E                Susan  2.0  1.0  5.0  0.0  3.0  1.0   \n",
       "158     SWE      1     W  Admira Thunderpussy  3.0  2.0  2.0  5.0  5.0  1.0   \n",
       "159     SWE      1     R              Fontana  2.0  2.0  1.0  2.0  0.0  5.0   \n",
       "160     SWE      1     E          Vanity Vain  2.0  0.0  5.0  1.0  3.0  3.0   \n",
       "\n",
       "     ...  swin  win  format  score  bottom  low  safe  high  semiwin  win  \n",
       "1    ...   0.0    3      AS   18.0       1    0     0     1        0    3  \n",
       "2    ...   0.0    0      AS    4.0       3    1     0     1        0    0  \n",
       "3    ...   0.0    0      AS    4.0       3    1     0     1        0    0  \n",
       "4    ...   0.0    3      AS   18.0       1    0     0     1        0    3  \n",
       "5    ...   0.0    4      AS   25.0       1    0     1     1        0    4  \n",
       "..   ...   ...  ...     ...    ...     ...  ...   ...   ...      ...  ...  \n",
       "156  ...   0.0    3     REG   25.0       0    0     2     2        0    3  \n",
       "157  ...   0.0    1     REG   13.0       1    3     1     1        0    1  \n",
       "158  ...   0.0    3     REG   23.0       0    1     2     1        0    3  \n",
       "159  ...   0.0    1     REG   14.0       1    1     4     0        0    1  \n",
       "160  ...   0.0    1     REG   14.0       2    1     1     2        0    1  \n",
       "\n",
       "[160 rows x 32 columns]"
      ]
     },
     "execution_count": 133,
     "metadata": {},
     "output_type": "execute_result"
    }
   ],
   "source": [
    "df"
   ]
  },
  {
   "attachments": {},
   "cell_type": "markdown",
   "metadata": {
    "id": "i2bH73IK4_Z2"
   },
   "source": [
    "# **Saving Dataframes as CSVs**"
   ]
  },
  {
   "cell_type": "code",
   "execution_count": 134,
   "metadata": {},
   "outputs": [],
   "source": [
    "#main_df.to_csv('data\\main.csv')\n"
   ]
  },
  {
   "cell_type": "code",
   "execution_count": null,
   "metadata": {},
   "outputs": [],
   "source": []
  }
 ],
 "metadata": {
  "colab": {
   "authorship_tag": "ABX9TyNl8yGGgRPIQJF26wcDNzFD",
   "collapsed_sections": [
    "ppFAnb9My2ZV",
    "ohCExKZ4y2jN",
    "xHXvwKOdy2qv",
    "bOmp84vdy2xi",
    "1xhhYdY5zQXO",
    "leSuwgFlzRfk",
    "cau2aFTizRny",
    "RCZGlrwFGMK6",
    "YxdYSmUNJEZj",
    "sBwZs9vTm_ls",
    "4qVk5PTvzq4w",
    "p1qyD5eozuY7",
    "GfyASe1kzvJ8",
    "GHCV--QQzvdG",
    "JbyUbdrR47eH",
    "i2bH73IK4_Z2"
   ],
   "include_colab_link": true,
   "provenance": []
  },
  "kernelspec": {
   "display_name": "Python 3",
   "language": "python",
   "name": "python3"
  },
  "language_info": {
   "codemirror_mode": {
    "name": "ipython",
    "version": 3
   },
   "file_extension": ".py",
   "mimetype": "text/x-python",
   "name": "python",
   "nbconvert_exporter": "python",
   "pygments_lexer": "ipython3",
   "version": "3.8.13"
  }
 },
 "nbformat": 4,
 "nbformat_minor": 4
}
