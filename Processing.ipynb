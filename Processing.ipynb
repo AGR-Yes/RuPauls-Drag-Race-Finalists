{
 "cells": [
  {
   "attachments": {},
   "cell_type": "markdown",
   "metadata": {
    "id": "AZzyIv8tAIIH"
   },
   "source": [
    "# **You're A Winner, Baby!**\n",
    "\n",
    "**Author:** Anton Reyes"
   ]
  },
  {
   "cell_type": "markdown",
   "metadata": {
    "id": "ppFAnb9My2ZV"
   },
   "source": [
    "## **Introduction**"
   ]
  },
  {
   "cell_type": "markdown",
   "metadata": {
    "id": "ohCExKZ4y2jN"
   },
   "source": [
    "### **Requirements and Imports**"
   ]
  },
  {
   "cell_type": "markdown",
   "metadata": {
    "id": "xHXvwKOdy2qv"
   },
   "source": [
    "#### **Imports**"
   ]
  },
  {
   "cell_type": "markdown",
   "metadata": {
    "id": "McPgWjwsglQw"
   },
   "source": [
    "**Basic Libraries**\n",
    "\n",
    "* `numpy` contains a large collection of mathematical functions\n",
    "* `pandas` contains functions that are designed for data manipulation and data analysis\n",
    "\n"
   ]
  },
  {
   "cell_type": "code",
   "execution_count": 1,
   "metadata": {
    "id": "82rNPPaTpyfe"
   },
   "outputs": [],
   "source": [
    "import numpy as np\n",
    "import pandas as pd"
   ]
  },
  {
   "attachments": {},
   "cell_type": "markdown",
   "metadata": {
    "id": "HjRvGoC9g_25"
   },
   "source": [
    "**Visualization Libraries**\n",
    "\n",
    "* `matplotlib.pyplot` contains functions to create interactive plots\n",
    "* `seaborn` is a library based on matplotlib that allows for data visualization\n",
    "* `plotly` is an open-source graphing library for Python."
   ]
  },
  {
   "cell_type": "code",
   "execution_count": 2,
   "metadata": {
    "id": "5YGgFzaZp1MO"
   },
   "outputs": [],
   "source": [
    "import matplotlib.pyplot as plt\n",
    "import seaborn as sns\n",
    "import plotly.express as px"
   ]
  },
  {
   "cell_type": "markdown",
   "metadata": {
    "id": "mUGR_tXwiDhV"
   },
   "source": [
    "**Natural Language Processing Libraries**\n",
    "* `re` is a module that allows the use of regular expressions\n",
    "* `string` contains functions for string operations"
   ]
  },
  {
   "cell_type": "code",
   "execution_count": 3,
   "metadata": {
    "id": "Ka0AZNlQp_xU"
   },
   "outputs": [],
   "source": [
    "import re\n",
    "import string"
   ]
  },
  {
   "cell_type": "markdown",
   "metadata": {
    "id": "wS-PzIoIzHd9"
   },
   "source": [
    "#### **Datasets and Files**"
   ]
  },
  {
   "attachments": {},
   "cell_type": "markdown",
   "metadata": {
    "id": "0r6nOJHZ9uPh"
   },
   "source": [
    "The following `csv` file was used for this project:\n",
    "\n",
    "- `finalists.csv` contains all the finalists of the Drag Race franchise as well as the placements of each contestant in their seasons. Finalists are as of April 22, 2023"
   ]
  },
  {
   "cell_type": "markdown",
   "metadata": {
    "id": "bOmp84vdy2xi"
   },
   "source": [
    "## **Data Collection**"
   ]
  },
  {
   "cell_type": "markdown",
   "metadata": {
    "id": "v2y2p0DU-f0l"
   },
   "source": [
    "Importing the dataset"
   ]
  },
  {
   "cell_type": "code",
   "execution_count": 4,
   "metadata": {
    "colab": {
     "base_uri": "https://localhost:8080/",
     "height": 357
    },
    "id": "j4WSmzN3-LLl",
    "outputId": "08b81354-d39b-49d0-989a-9a1f10a53f44"
   },
   "outputs": [
    {
     "data": {
      "text/html": [
       "<div>\n",
       "<style scoped>\n",
       "    .dataframe tbody tr th:only-of-type {\n",
       "        vertical-align: middle;\n",
       "    }\n",
       "\n",
       "    .dataframe tbody tr th {\n",
       "        vertical-align: top;\n",
       "    }\n",
       "\n",
       "    .dataframe thead th {\n",
       "        text-align: right;\n",
       "    }\n",
       "</style>\n",
       "<table border=\"1\" class=\"dataframe\">\n",
       "  <thead>\n",
       "    <tr style=\"text-align: right;\">\n",
       "      <th></th>\n",
       "      <th>Rank WRE</th>\n",
       "      <th>Rank</th>\n",
       "      <th>Country</th>\n",
       "      <th>Season</th>\n",
       "      <th>Code</th>\n",
       "      <th>W/R/E</th>\n",
       "      <th>Queen</th>\n",
       "      <th>Z-Score</th>\n",
       "      <th>Percent</th>\n",
       "      <th>Score</th>\n",
       "      <th>...</th>\n",
       "      <th>Low</th>\n",
       "      <th>Safe</th>\n",
       "      <th>High</th>\n",
       "      <th>SWin</th>\n",
       "      <th>Win</th>\n",
       "      <th>LSA</th>\n",
       "      <th>T</th>\n",
       "      <th>Unnamed: 36</th>\n",
       "      <th>Unnamed: 37</th>\n",
       "      <th>Unnamed: 38</th>\n",
       "    </tr>\n",
       "  </thead>\n",
       "  <tbody>\n",
       "    <tr>\n",
       "      <th>0</th>\n",
       "      <td>NaN</td>\n",
       "      <td>NaN</td>\n",
       "      <td>NaN</td>\n",
       "      <td>NaN</td>\n",
       "      <td>NaN</td>\n",
       "      <td>NaN</td>\n",
       "      <td>NaN</td>\n",
       "      <td>NaN</td>\n",
       "      <td>NaN</td>\n",
       "      <td>NaN</td>\n",
       "      <td>...</td>\n",
       "      <td>-1</td>\n",
       "      <td>0</td>\n",
       "      <td>1</td>\n",
       "      <td>1.5</td>\n",
       "      <td>2</td>\n",
       "      <td>NaN</td>\n",
       "      <td>NaN</td>\n",
       "      <td>Never/--</td>\n",
       "      <td>Rank</td>\n",
       "      <td>Rank</td>\n",
       "    </tr>\n",
       "    <tr>\n",
       "      <th>1</th>\n",
       "      <td>18.0</td>\n",
       "      <td>8.0</td>\n",
       "      <td>US</td>\n",
       "      <td>AS1</td>\n",
       "      <td>US_AS1</td>\n",
       "      <td>W</td>\n",
       "      <td>Chad Michaels</td>\n",
       "      <td>0.47</td>\n",
       "      <td>100.00%</td>\n",
       "      <td>5.0</td>\n",
       "      <td>...</td>\n",
       "      <td>0</td>\n",
       "      <td>0</td>\n",
       "      <td>1</td>\n",
       "      <td>0.0</td>\n",
       "      <td>3</td>\n",
       "      <td>NaN</td>\n",
       "      <td>NaN</td>\n",
       "      <td>--</td>\n",
       "      <td>1,220</td>\n",
       "      <td>1</td>\n",
       "    </tr>\n",
       "    <tr>\n",
       "      <th>2</th>\n",
       "      <td>129.0</td>\n",
       "      <td>159.0</td>\n",
       "      <td>US</td>\n",
       "      <td>AS1</td>\n",
       "      <td>US_AS1</td>\n",
       "      <td>R</td>\n",
       "      <td>Raven</td>\n",
       "      <td>-2.26</td>\n",
       "      <td>-120.00%</td>\n",
       "      <td>-6.0</td>\n",
       "      <td>...</td>\n",
       "      <td>1</td>\n",
       "      <td>0</td>\n",
       "      <td>1</td>\n",
       "      <td>0.0</td>\n",
       "      <td>0</td>\n",
       "      <td>LSA</td>\n",
       "      <td>2.0</td>\n",
       "      <td>--</td>\n",
       "      <td>237</td>\n",
       "      <td>140</td>\n",
       "    </tr>\n",
       "    <tr>\n",
       "      <th>3</th>\n",
       "      <td>75.0</td>\n",
       "      <td>159.0</td>\n",
       "      <td>US</td>\n",
       "      <td>AS1</td>\n",
       "      <td>US_AS1</td>\n",
       "      <td>E</td>\n",
       "      <td>Jujubee</td>\n",
       "      <td>-2.26</td>\n",
       "      <td>-120.00%</td>\n",
       "      <td>-6.0</td>\n",
       "      <td>...</td>\n",
       "      <td>1</td>\n",
       "      <td>0</td>\n",
       "      <td>1</td>\n",
       "      <td>0.0</td>\n",
       "      <td>0</td>\n",
       "      <td>LSA</td>\n",
       "      <td>2.0</td>\n",
       "      <td>--</td>\n",
       "      <td>237</td>\n",
       "      <td>140</td>\n",
       "    </tr>\n",
       "    <tr>\n",
       "      <th>4</th>\n",
       "      <td>6.0</td>\n",
       "      <td>8.0</td>\n",
       "      <td>US</td>\n",
       "      <td>AS1</td>\n",
       "      <td>US_AS1</td>\n",
       "      <td>E</td>\n",
       "      <td>Shannel</td>\n",
       "      <td>0.47</td>\n",
       "      <td>100.00%</td>\n",
       "      <td>5.0</td>\n",
       "      <td>...</td>\n",
       "      <td>0</td>\n",
       "      <td>0</td>\n",
       "      <td>1</td>\n",
       "      <td>0.0</td>\n",
       "      <td>3</td>\n",
       "      <td>NaN</td>\n",
       "      <td>NaN</td>\n",
       "      <td>--</td>\n",
       "      <td>1,220</td>\n",
       "      <td>1</td>\n",
       "    </tr>\n",
       "  </tbody>\n",
       "</table>\n",
       "<p>5 rows × 39 columns</p>\n",
       "</div>"
      ],
      "text/plain": [
       "   Rank WRE   Rank Country Season    Code W/R/E          Queen  Z-Score  \\\n",
       "0       NaN    NaN     NaN    NaN     NaN   NaN            NaN      NaN   \n",
       "1      18.0    8.0      US    AS1  US_AS1     W  Chad Michaels     0.47   \n",
       "2     129.0  159.0      US    AS1  US_AS1     R          Raven    -2.26   \n",
       "3      75.0  159.0      US    AS1  US_AS1     E        Jujubee    -2.26   \n",
       "4       6.0    8.0      US    AS1  US_AS1     E        Shannel     0.47   \n",
       "\n",
       "    Percent  Score  ...  Low  Safe  High  SWin  Win  LSA    T  Unnamed: 36  \\\n",
       "0       NaN    NaN  ...   -1     0     1   1.5    2  NaN  NaN     Never/--   \n",
       "1   100.00%    5.0  ...    0     0     1   0.0    3  NaN  NaN           --   \n",
       "2  -120.00%   -6.0  ...    1     0     1   0.0    0  LSA  2.0           --   \n",
       "3  -120.00%   -6.0  ...    1     0     1   0.0    0  LSA  2.0           --   \n",
       "4   100.00%    5.0  ...    0     0     1   0.0    3  NaN  NaN           --   \n",
       "\n",
       "   Unnamed: 37  Unnamed: 38  \n",
       "0         Rank         Rank  \n",
       "1        1,220            1  \n",
       "2          237          140  \n",
       "3          237          140  \n",
       "4        1,220            1  \n",
       "\n",
       "[5 rows x 39 columns]"
      ]
     },
     "execution_count": 4,
     "metadata": {},
     "output_type": "execute_result"
    }
   ],
   "source": [
    "dataset = \"data/finalists.csv\"\n",
    "\n",
    "df = pd.read_csv(dataset)\n",
    "df.head()"
   ]
  },
  {
   "cell_type": "markdown",
   "metadata": {
    "id": "1xhhYdY5zQXO"
   },
   "source": [
    "## **Description of the Dataset**"
   ]
  },
  {
   "cell_type": "markdown",
   "metadata": {
    "id": "hkE6cv_fEVJb"
   },
   "source": [
    "Here, we find the shape of the dataset."
   ]
  },
  {
   "cell_type": "code",
   "execution_count": 5,
   "metadata": {
    "colab": {
     "base_uri": "https://localhost:8080/"
    },
    "id": "xjCI2jZ--klz",
    "outputId": "1c310bc7-c2e0-4c67-d8cb-a7d4a94dd35e"
   },
   "outputs": [
    {
     "data": {
      "text/plain": [
       "(161, 39)"
      ]
     },
     "execution_count": 5,
     "metadata": {},
     "output_type": "execute_result"
    }
   ],
   "source": [
    "df.shape"
   ]
  },
  {
   "cell_type": "markdown",
   "metadata": {
    "id": "b4xXJAoPEXau"
   },
   "source": [
    "By looking at the `info` of the dataframe, we can see that there are `non-null` values. "
   ]
  },
  {
   "cell_type": "code",
   "execution_count": 6,
   "metadata": {
    "colab": {
     "base_uri": "https://localhost:8080/"
    },
    "id": "Cd5-JeX--oNp",
    "outputId": "4b766982-da04-47ab-a2b3-92e82488a2f6"
   },
   "outputs": [
    {
     "name": "stdout",
     "output_type": "stream",
     "text": [
      "<class 'pandas.core.frame.DataFrame'>\n",
      "RangeIndex: 161 entries, 0 to 160\n",
      "Data columns (total 39 columns):\n",
      " #   Column       Non-Null Count  Dtype  \n",
      "---  ------       --------------  -----  \n",
      " 0   Rank WRE     160 non-null    float64\n",
      " 1   Rank         160 non-null    float64\n",
      " 2   Country      160 non-null    object \n",
      " 3   Season       160 non-null    object \n",
      " 4   Code         160 non-null    object \n",
      " 5   W/R/E        160 non-null    object \n",
      " 6   Queen        160 non-null    object \n",
      " 7   Z-Score      160 non-null    float64\n",
      " 8   Percent      160 non-null    object \n",
      " 9   Score        160 non-null    float64\n",
      " 10  Episode      160 non-null    float64\n",
      " 11  1            154 non-null    float64\n",
      " 12  2            154 non-null    float64\n",
      " 13  3            156 non-null    float64\n",
      " 14  4            160 non-null    float64\n",
      " 15  5            159 non-null    float64\n",
      " 16  6            142 non-null    float64\n",
      " 17  7            139 non-null    float64\n",
      " 18  8            93 non-null     float64\n",
      " 19  9            89 non-null     float64\n",
      " 20  10           51 non-null     float64\n",
      " 21  11           54 non-null     float64\n",
      " 22  12           43 non-null     float64\n",
      " 23  13           13 non-null     float64\n",
      " 24  14           9 non-null      float64\n",
      " 25  15           0 non-null      float64\n",
      " 26  Mean: 3.11   1 non-null      object \n",
      " 27  Unnamed: 27  0 non-null      float64\n",
      " 28  Bttm         161 non-null    int64  \n",
      " 29  Low          161 non-null    int64  \n",
      " 30  Safe         161 non-null    int64  \n",
      " 31  High         161 non-null    int64  \n",
      " 32  SWin         161 non-null    float64\n",
      " 33  Win          161 non-null    int64  \n",
      " 34  LSA          16 non-null     object \n",
      " 35  T            16 non-null     float64\n",
      " 36  Unnamed: 36  161 non-null    object \n",
      " 37  Unnamed: 37  161 non-null    object \n",
      " 38  Unnamed: 38  161 non-null    object \n",
      "dtypes: float64(23), int64(5), object(11)\n",
      "memory usage: 49.2+ KB\n"
     ]
    }
   ],
   "source": [
    "df.info()"
   ]
  },
  {
   "attachments": {},
   "cell_type": "markdown",
   "metadata": {
    "id": "leSuwgFlzRfk"
   },
   "source": [
    "## **Exploratory Data Analysis Part 1**"
   ]
  },
  {
   "attachments": {},
   "cell_type": "markdown",
   "metadata": {},
   "source": [
    "The following questions are asked to guide the EDA.\n",
    "\n",
    "1. How many finalists are there per class?\n",
    "2. How many unique values are there in the `Season` column?\n",
    "3. How many unique values are there in the `Country` column?\n",
    "4. What are measures of central tendency in the `Episode` column?"
   ]
  },
  {
   "attachments": {},
   "cell_type": "markdown",
   "metadata": {},
   "source": [
    "### **1. How many finalists are there per class?**"
   ]
  },
  {
   "attachments": {},
   "cell_type": "markdown",
   "metadata": {},
   "source": [
    "Before getting the number of contestants per class, we first define the classes:\n",
    "\n",
    "| Class | Meaning | Definition |\n",
    "|:---:|---| --- |\n",
    "| W | Winner | Contestant has won the season |\n",
    "| R | Runner-Up | Contestant became the runner-up or placed 2nd |\n",
    "| E | Elimenated | Contestant was elimenated at the finale and placed 3rd/4th |\n",
    "\n",
    "With that, we now get the total of contestants by counting them in the `W/R/E` column."
   ]
  },
  {
   "cell_type": "code",
   "execution_count": 7,
   "metadata": {},
   "outputs": [
    {
     "data": {
      "text/plain": [
       "W/R/E    160\n",
       "dtype: int64"
      ]
     },
     "execution_count": 7,
     "metadata": {},
     "output_type": "execute_result"
    }
   ],
   "source": [
    "df[[\"W/R/E\"]].count()"
   ]
  },
  {
   "attachments": {},
   "cell_type": "markdown",
   "metadata": {},
   "source": [
    "Now, we get the division of classes between all 160 contestants by printing the `.value_counts()` and summing it all up to measure."
   ]
  },
  {
   "cell_type": "code",
   "execution_count": 18,
   "metadata": {},
   "outputs": [
    {
     "name": "stdout",
     "output_type": "stream",
     "text": [
      "Division of classes: W/R/E\n",
      "R        68\n",
      "W        45\n",
      "E        44\n",
      "TBA       3\n",
      "dtype: int64\n",
      "Sum of the classes: 160\n"
     ]
    }
   ],
   "source": [
    "print(\"Division of classes:\", df[[\"W/R/E\"]].value_counts())\n",
    "print(\"Sum of the classes:\", df[[\"W/R/E\"]].value_counts().sum())"
   ]
  },
  {
   "attachments": {},
   "cell_type": "markdown",
   "metadata": {},
   "source": [
    "### **2. How many unique values are there in the `Season` column?**"
   ]
  },
  {
   "cell_type": "code",
   "execution_count": 9,
   "metadata": {},
   "outputs": [
    {
     "data": {
      "text/plain": [
       "Season    160\n",
       "dtype: int64"
      ]
     },
     "execution_count": 9,
     "metadata": {},
     "output_type": "execute_result"
    }
   ],
   "source": [
    "df[['Season']].count()"
   ]
  },
  {
   "attachments": {},
   "cell_type": "markdown",
   "metadata": {},
   "source": [
    "From getting the value counts in the `Season` column, we can see that there are inconsistensies in the dataset."
   ]
  },
  {
   "cell_type": "code",
   "execution_count": 10,
   "metadata": {},
   "outputs": [
    {
     "data": {
      "text/plain": [
       "Season\n",
       "1         26\n",
       "S1        24\n",
       "2         16\n",
       "S2        10\n",
       "3          7\n",
       "14         5\n",
       "15         4\n",
       "AS6        4\n",
       "S13        4\n",
       "S11        4\n",
       "AS7        4\n",
       "S10        4\n",
       "AS4        4\n",
       "AS3        4\n",
       "AS2        4\n",
       "AS1        4\n",
       "4          4\n",
       "S9         4\n",
       "AS5        3\n",
       "S12        3\n",
       "S3         3\n",
       "S4         3\n",
       "S5         3\n",
       "S6         3\n",
       "S7         3\n",
       "S8         3\n",
       "dtype: int64"
      ]
     },
     "execution_count": 10,
     "metadata": {},
     "output_type": "execute_result"
    }
   ],
   "source": [
    "df[['Season']].value_counts()"
   ]
  },
  {
   "attachments": {},
   "cell_type": "markdown",
   "metadata": {},
   "source": [
    "### **3. How many unique values are there in the `Country` column?**"
   ]
  },
  {
   "cell_type": "code",
   "execution_count": 11,
   "metadata": {},
   "outputs": [
    {
     "data": {
      "text/plain": [
       "Country    160\n",
       "dtype: int64"
      ]
     },
     "execution_count": 11,
     "metadata": {},
     "output_type": "execute_result"
    }
   ],
   "source": [
    "df[[\"Country\"]].count()"
   ]
  },
  {
   "attachments": {},
   "cell_type": "markdown",
   "metadata": {},
   "source": [
    "By seeing the value counts in the `Country` column, we can observer that there are multiple values. However, countries with `_WORLD` just classify them as a different country rather then a *type* of season. When in fact, `_WORLD` seasons are similar to an All Star season."
   ]
  },
  {
   "cell_type": "code",
   "execution_count": 12,
   "metadata": {},
   "outputs": [
    {
     "data": {
      "text/plain": [
       "Country  \n",
       "US           79\n",
       "UK           14\n",
       "CAN          10\n",
       "ESP           8\n",
       "AUS           7\n",
       "HOL           7\n",
       "ITA           7\n",
       "THI           6\n",
       "CAN_WORLD     4\n",
       "FRA           4\n",
       "PH            4\n",
       "UK_WORLD      4\n",
       "BEL           3\n",
       "SWE           3\n",
       "dtype: int64"
      ]
     },
     "execution_count": 12,
     "metadata": {},
     "output_type": "execute_result"
    }
   ],
   "source": [
    "df[[\"Country\"]].value_counts()"
   ]
  },
  {
   "attachments": {},
   "cell_type": "markdown",
   "metadata": {},
   "source": [
    "### **4. What are the measure of central tendency in the `Episode` column?**"
   ]
  },
  {
   "cell_type": "code",
   "execution_count": 13,
   "metadata": {},
   "outputs": [
    {
     "data": {
      "text/plain": [
       "count    160.00000\n",
       "mean       8.81875\n",
       "std        2.40511\n",
       "min        5.00000\n",
       "25%        7.00000\n",
       "50%        9.00000\n",
       "75%       11.00000\n",
       "max       13.00000\n",
       "Name: Episode, dtype: float64"
      ]
     },
     "execution_count": 13,
     "metadata": {},
     "output_type": "execute_result"
    }
   ],
   "source": [
    "df['Episode'].describe()"
   ]
  },
  {
   "cell_type": "code",
   "execution_count": 14,
   "metadata": {},
   "outputs": [
    {
     "data": {
      "text/plain": [
       "8.0"
      ]
     },
     "execution_count": 14,
     "metadata": {},
     "output_type": "execute_result"
    }
   ],
   "source": [
    "df['Episode'].max() - df['Episode'].min()"
   ]
  },
  {
   "cell_type": "markdown",
   "metadata": {
    "id": "cau2aFTizRny"
   },
   "source": [
    "## **Data Preprocessing**"
   ]
  },
  {
   "cell_type": "markdown",
   "metadata": {
    "id": "r_K5_I_oF4au"
   },
   "source": [
    "#### **Data Preprocessing**"
   ]
  },
  {
   "cell_type": "code",
   "execution_count": 28,
   "metadata": {},
   "outputs": [
    {
     "data": {
      "text/html": [
       "<div>\n",
       "<style scoped>\n",
       "    .dataframe tbody tr th:only-of-type {\n",
       "        vertical-align: middle;\n",
       "    }\n",
       "\n",
       "    .dataframe tbody tr th {\n",
       "        vertical-align: top;\n",
       "    }\n",
       "\n",
       "    .dataframe thead th {\n",
       "        text-align: right;\n",
       "    }\n",
       "</style>\n",
       "<table border=\"1\" class=\"dataframe\">\n",
       "  <thead>\n",
       "    <tr style=\"text-align: right;\">\n",
       "      <th></th>\n",
       "      <th>Placement</th>\n",
       "      <th>Country</th>\n",
       "      <th>Season</th>\n",
       "      <th>Queen</th>\n",
       "      <th>Design</th>\n",
       "      <th>Snatch Game</th>\n",
       "      <th>Ball</th>\n",
       "      <th>Makeover</th>\n",
       "      <th>Acting</th>\n",
       "      <th>Girl Groups</th>\n",
       "      <th>Rusical</th>\n",
       "      <th>Unnamed: 11</th>\n",
       "      <th>Unnamed: 12</th>\n",
       "    </tr>\n",
       "  </thead>\n",
       "  <tbody>\n",
       "    <tr>\n",
       "      <th>0</th>\n",
       "      <td>winner</td>\n",
       "      <td>AUS</td>\n",
       "      <td>1</td>\n",
       "      <td>Kita Mean</td>\n",
       "      <td>SAFE</td>\n",
       "      <td>HIGH</td>\n",
       "      <td>NaN</td>\n",
       "      <td>WIN</td>\n",
       "      <td>NaN</td>\n",
       "      <td>HIGH</td>\n",
       "      <td>NaN</td>\n",
       "      <td>NaN</td>\n",
       "      <td>4</td>\n",
       "    </tr>\n",
       "    <tr>\n",
       "      <th>1</th>\n",
       "      <td>winner</td>\n",
       "      <td>AUS</td>\n",
       "      <td>2</td>\n",
       "      <td>Spankie Jackzon</td>\n",
       "      <td>BTM</td>\n",
       "      <td>HIGH</td>\n",
       "      <td>NaN</td>\n",
       "      <td>HIGH</td>\n",
       "      <td>WIN</td>\n",
       "      <td>WIN</td>\n",
       "      <td>NaN</td>\n",
       "      <td>NaN</td>\n",
       "      <td>5</td>\n",
       "    </tr>\n",
       "    <tr>\n",
       "      <th>2</th>\n",
       "      <td>winner</td>\n",
       "      <td>CAN</td>\n",
       "      <td>1</td>\n",
       "      <td>Priyanka</td>\n",
       "      <td>SAFE</td>\n",
       "      <td>BTM</td>\n",
       "      <td>SAFE</td>\n",
       "      <td>WIN</td>\n",
       "      <td>HIGH</td>\n",
       "      <td>WIN</td>\n",
       "      <td>NaN</td>\n",
       "      <td>NaN</td>\n",
       "      <td>6</td>\n",
       "    </tr>\n",
       "    <tr>\n",
       "      <th>3</th>\n",
       "      <td>winner</td>\n",
       "      <td>CAN</td>\n",
       "      <td>2</td>\n",
       "      <td>Icesis Couture</td>\n",
       "      <td>WIN</td>\n",
       "      <td>SAFE</td>\n",
       "      <td>WIN</td>\n",
       "      <td>BTM</td>\n",
       "      <td>SAFE</td>\n",
       "      <td>HIGH</td>\n",
       "      <td>BTM</td>\n",
       "      <td>ALL 7</td>\n",
       "      <td>7</td>\n",
       "    </tr>\n",
       "    <tr>\n",
       "      <th>4</th>\n",
       "      <td>winner</td>\n",
       "      <td>CAN</td>\n",
       "      <td>3</td>\n",
       "      <td>Gisele Lullaby</td>\n",
       "      <td>WIN</td>\n",
       "      <td>WIN</td>\n",
       "      <td>HIGH</td>\n",
       "      <td>NaN</td>\n",
       "      <td>NaN</td>\n",
       "      <td>NaN</td>\n",
       "      <td>BTM</td>\n",
       "      <td>NaN</td>\n",
       "      <td>4</td>\n",
       "    </tr>\n",
       "  </tbody>\n",
       "</table>\n",
       "</div>"
      ],
      "text/plain": [
       "  Placement Country  Season            Queen Design Snatch Game  Ball  \\\n",
       "0    winner     AUS       1        Kita Mean   SAFE        HIGH   NaN   \n",
       "1    winner     AUS       2  Spankie Jackzon    BTM        HIGH   NaN   \n",
       "2    winner     CAN       1         Priyanka   SAFE         BTM  SAFE   \n",
       "3    winner     CAN       2   Icesis Couture    WIN        SAFE   WIN   \n",
       "4    winner     CAN       3   Gisele Lullaby    WIN         WIN  HIGH   \n",
       "\n",
       "  Makeover Acting Girl Groups Rusical Unnamed: 11  Unnamed: 12  \n",
       "0      WIN    NaN        HIGH     NaN         NaN            4  \n",
       "1     HIGH    WIN         WIN     NaN         NaN            5  \n",
       "2      WIN   HIGH         WIN     NaN         NaN            6  \n",
       "3      BTM   SAFE        HIGH     BTM       ALL 7            7  \n",
       "4      NaN    NaN         NaN     BTM         NaN            4  "
      ]
     },
     "execution_count": 28,
     "metadata": {},
     "output_type": "execute_result"
    }
   ],
   "source": [
    "df.head()"
   ]
  },
  {
   "cell_type": "markdown",
   "metadata": {},
   "source": [
    "Instead of having to display the `country` and `season` separately, we join them into one column instead."
   ]
  },
  {
   "attachments": {},
   "cell_type": "markdown",
   "metadata": {},
   "source": [
    "## **Exploratory Data Analysis Part 2**"
   ]
  },
  {
   "attachments": {},
   "cell_type": "markdown",
   "metadata": {
    "id": "i2bH73IK4_Z2"
   },
   "source": [
    "# **Saving Dataframes as CSVs**"
   ]
  },
  {
   "cell_type": "code",
   "execution_count": 51,
   "metadata": {},
   "outputs": [],
   "source": [
    "#main_df.to_csv('data\\main.csv')\n"
   ]
  },
  {
   "cell_type": "code",
   "execution_count": null,
   "metadata": {},
   "outputs": [],
   "source": []
  }
 ],
 "metadata": {
  "colab": {
   "authorship_tag": "ABX9TyNl8yGGgRPIQJF26wcDNzFD",
   "collapsed_sections": [
    "ppFAnb9My2ZV",
    "ohCExKZ4y2jN",
    "xHXvwKOdy2qv",
    "bOmp84vdy2xi",
    "1xhhYdY5zQXO",
    "leSuwgFlzRfk",
    "cau2aFTizRny",
    "RCZGlrwFGMK6",
    "YxdYSmUNJEZj",
    "sBwZs9vTm_ls",
    "4qVk5PTvzq4w",
    "p1qyD5eozuY7",
    "GfyASe1kzvJ8",
    "GHCV--QQzvdG",
    "JbyUbdrR47eH",
    "i2bH73IK4_Z2"
   ],
   "include_colab_link": true,
   "provenance": []
  },
  "kernelspec": {
   "display_name": "Python 3",
   "language": "python",
   "name": "python3"
  },
  "language_info": {
   "codemirror_mode": {
    "name": "ipython",
    "version": 3
   },
   "file_extension": ".py",
   "mimetype": "text/x-python",
   "name": "python",
   "nbconvert_exporter": "python",
   "pygments_lexer": "ipython3",
   "version": "3.8.13"
  }
 },
 "nbformat": 4,
 "nbformat_minor": 4
}
